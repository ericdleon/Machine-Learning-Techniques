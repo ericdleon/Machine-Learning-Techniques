{
 "cells": [
  {
   "cell_type": "markdown",
   "metadata": {
    "id": "9LLTY7wHC6al"
   },
   "source": [
    "Q1. We will use the wine quality dataset provided by sklearn to build a logistic regression classifier (see class examples )"
   ]
  },
  {
   "cell_type": "markdown",
   "metadata": {
    "id": "BKWIgc5dDQer"
   },
   "source": [
    "Q1a. Import the dataset from sklearn [5  points]"
   ]
  },
  {
   "cell_type": "code",
   "execution_count": 1,
   "metadata": {
    "id": "mu4hvNFmDOj4"
   },
   "outputs": [],
   "source": [
    "#A1a. \n",
    "import pandas as pd\n",
    "import numpy as np\n",
    "import matplotlib.pyplot as plt\n",
    "from sklearn.datasets import load_wine\n",
    "data = load_wine()"
   ]
  },
  {
   "cell_type": "markdown",
   "metadata": {
    "id": "1MdqxGqlDypg"
   },
   "source": [
    "Q1b. List the feature names in this dataset [5 points]"
   ]
  },
  {
   "cell_type": "code",
   "execution_count": 2,
   "metadata": {
    "colab": {
     "base_uri": "https://localhost:8080/"
    },
    "id": "ydgEmkBRDxXF",
    "outputId": "3a23b9eb-5d2a-40fe-f97b-83e234739aea"
   },
   "outputs": [
    {
     "data": {
      "text/plain": [
       "['alcohol',\n",
       " 'malic_acid',\n",
       " 'ash',\n",
       " 'alcalinity_of_ash',\n",
       " 'magnesium',\n",
       " 'total_phenols',\n",
       " 'flavanoids',\n",
       " 'nonflavanoid_phenols',\n",
       " 'proanthocyanins',\n",
       " 'color_intensity',\n",
       " 'hue',\n",
       " 'od280/od315_of_diluted_wines',\n",
       " 'proline']"
      ]
     },
     "execution_count": 2,
     "metadata": {},
     "output_type": "execute_result"
    }
   ],
   "source": [
    "#A1b.\n",
    "data.feature_names"
   ]
  },
  {
   "cell_type": "markdown",
   "metadata": {
    "id": "W8SGLteeD_An"
   },
   "source": [
    "Q1c. How many classes (targets or labels) are there in this dataset? [5 points]"
   ]
  },
  {
   "cell_type": "code",
   "execution_count": 3,
   "metadata": {
    "colab": {
     "base_uri": "https://localhost:8080/"
    },
    "id": "xUUhtLLiD6Ni",
    "outputId": "b9d37dd0-68c2-4107-c350-c800f6a9dbcf"
   },
   "outputs": [
    {
     "data": {
      "text/plain": [
       "array(['class_0', 'class_1', 'class_2'], dtype='<U7')"
      ]
     },
     "execution_count": 3,
     "metadata": {},
     "output_type": "execute_result"
    }
   ],
   "source": [
    "#A1c. \n",
    "# There are 3 classes\n",
    "data.target_names"
   ]
  },
  {
   "cell_type": "markdown",
   "metadata": {
    "id": "eQqRKvKEEOrU"
   },
   "source": [
    "Q1d. List the class names [5 points]"
   ]
  },
  {
   "cell_type": "code",
   "execution_count": 4,
   "metadata": {
    "colab": {
     "base_uri": "https://localhost:8080/"
    },
    "id": "P289dXy-ELhR",
    "outputId": "57a08854-2189-4ca1-c4d0-b3236910f6c3"
   },
   "outputs": [
    {
     "data": {
      "text/plain": [
       "array(['class_0', 'class_1', 'class_2'], dtype='<U7')"
      ]
     },
     "execution_count": 4,
     "metadata": {
      "tags": []
     },
     "output_type": "execute_result"
    }
   ],
   "source": [
    "#A1d.\n",
    "# The class names are class_0, class_1, and class_2\n",
    "data.target_names"
   ]
  },
  {
   "cell_type": "markdown",
   "metadata": {
    "id": "XCsK2qxBEier"
   },
   "source": [
    "Q1e. Prepare training and test data using sklearn train_test_split [5 points]"
   ]
  },
  {
   "cell_type": "code",
   "execution_count": 4,
   "metadata": {
    "id": "lM7VFg0oEuql"
   },
   "outputs": [],
   "source": [
    "#A1e.\n",
    "from  sklearn.model_selection import train_test_split\n",
    "X_train, X_test, y_train, y_test = train_test_split(data.data, data.target, test_size=0.30, random_state = 45)"
   ]
  },
  {
   "cell_type": "code",
   "execution_count": 5,
   "metadata": {
    "id": "56SQNJGhF6ot"
   },
   "outputs": [],
   "source": [
    "#Because these data are of different measurements. you will need to scale the data.\n",
    "#I will give you move examples of this in the next couple of weeks\n",
    "\n",
    "#importing standardization package from sklearn\n",
    "from sklearn.preprocessing import StandardScaler\n",
    "# create scaler\n",
    "scaler = StandardScaler()\n",
    "# fit scaler on training data and transform it\n",
    "X_train = scaler.fit_transform(X_train)\n",
    "# fit scaler on testing data and transform it\n",
    "X_test = scaler.fit_transform(X_test)"
   ]
  },
  {
   "cell_type": "markdown",
   "metadata": {
    "id": "IlAnFMhtEa6c"
   },
   "source": [
    "Q1f. Build a logistic regression classifier on this dataset using the training data from the earlier questions [5 points]"
   ]
  },
  {
   "cell_type": "code",
   "execution_count": 6,
   "metadata": {
    "colab": {
     "base_uri": "https://localhost:8080/"
    },
    "id": "3TJHSAH4EXS8",
    "outputId": "1984cdcf-a954-4852-cb9b-6d16e27b9d26"
   },
   "outputs": [
    {
     "name": "stdout",
     "output_type": "stream",
     "text": [
      "(124, 13)\n",
      "(124,)\n",
      "(54, 13)\n",
      "(54,)\n"
     ]
    }
   ],
   "source": [
    "#A1f.\n",
    "#################################################\n",
    "# This dataset has 178 samples Total\n",
    "# 70% of the Data for Training = 124\n",
    "print(X_train.shape)\n",
    "print(y_train.shape)\n",
    "# 30% of the Data for Testing = 54\n",
    "print(X_test.shape)\n",
    "print(y_test.shape)\n",
    "#################################################\n",
    "\n",
    "from sklearn.linear_model import LogisticRegression\n",
    "\n",
    "logreg = LogisticRegression()\n",
    "logreg.fit(X_train,y_train)\n",
    "y_pred=logreg.predict(X_test)"
   ]
  },
  {
   "cell_type": "markdown",
   "metadata": {
    "id": "U1SJU3zRH0Rt"
   },
   "source": [
    "Q1g. Build the confusion matrix. You do not need to graph it, just use the sklearn confusion matrix. [5 points]"
   ]
  },
  {
   "cell_type": "code",
   "execution_count": 7,
   "metadata": {
    "colab": {
     "base_uri": "https://localhost:8080/"
    },
    "id": "pDbyBPqEFhxM",
    "outputId": "665d9348-2919-466c-b4ef-711b3cbced84"
   },
   "outputs": [
    {
     "data": {
      "text/plain": [
       "array([[16,  0,  0],\n",
       "       [ 0, 18,  0],\n",
       "       [ 0,  1, 19]], dtype=int64)"
      ]
     },
     "execution_count": 7,
     "metadata": {},
     "output_type": "execute_result"
    }
   ],
   "source": [
    "#A1g.\n",
    "from sklearn import metrics\n",
    "cnf_matrix = metrics.confusion_matrix(y_test, y_pred)\n",
    "cnf_matrix"
   ]
  },
  {
   "cell_type": "markdown",
   "metadata": {
    "id": "xCTQ3md2JZTp"
   },
   "source": [
    "Q1h. What is the accuracy, precision, recall, and F1-score for this model? [5 points]"
   ]
  },
  {
   "cell_type": "code",
   "execution_count": 8,
   "metadata": {
    "colab": {
     "base_uri": "https://localhost:8080/"
    },
    "id": "ivz-FL77IXr_",
    "outputId": "bffdb3d8-2884-41a9-fc2f-7cf85236f2a6"
   },
   "outputs": [
    {
     "name": "stdout",
     "output_type": "stream",
     "text": [
      "Accuracy:      0.9814814814814815  \n",
      "Precision:     0.9824561403508771  \n",
      "Recall:        0.9833333333333334  \n",
      "f1 score:      0.9824439824439825  \n"
     ]
    }
   ],
   "source": [
    "#A1h.\n",
    "print('{:<15s}{:<20s}'.format('Accuracy:',str(metrics.accuracy_score(y_test,y_pred))))\n",
    "print('{:<15s}{:<20s}'.format('Precision:',str(metrics.precision_score(y_test,y_pred,average='macro'))))\n",
    "print('{:<15s}{:<20s}'.format('Recall:',str(metrics.recall_score(y_test,y_pred, average='macro'))))\n",
    "print('{:<15s}{:<20s}'.format('f1 score:',str(metrics.f1_score(y_test,y_pred, average='macro'))))"
   ]
  },
  {
   "cell_type": "markdown",
   "metadata": {
    "id": "fYMn4Rh-Kb4E"
   },
   "source": [
    "Q1i. Using values from Q1h, explain if you think this is a good or bad classifier [5 points]"
   ]
  },
  {
   "cell_type": "markdown",
   "metadata": {
    "id": "lcbEGktcKplp"
   },
   "source": [
    "A1i. Based on the values from Q1h, I believe that this is a good classifier. Across the board, this classifier was correct 98% of the time. Performance is close to 100%."
   ]
  },
  {
   "cell_type": "markdown",
   "metadata": {
    "id": "klIWHVAsTFL2"
   },
   "source": [
    "Q2. This question is based on a real-world problem I am dealing with now. I am trying to see if we can categorize two different types of users. I am looking at a parenting subreddit. Some of the users cross post to more conservative subreddit. Others post to liberal subreddits. I wanted to see if there are any differences between users posting to each. \n",
    "\n",
    "There are two classes. MRA = 0 are those users who post to more liberal subreddits. MRA = 1 represents users who post to more conservative subreddits. \n",
    "\n",
    "The main question that I want to pose is whether we can detect a difference in the lanugage used by our two classes. In other words, can we use tokens (words) used by each group to build a classifier that differentiates them? "
   ]
  },
  {
   "cell_type": "code",
   "execution_count": 44,
   "metadata": {
    "colab": {
     "base_uri": "https://localhost:8080/"
    },
    "id": "nVM1Zq8IFHEo",
    "outputId": "8c5b0f71-ad8f-48e0-87fd-d657ad636f7f"
   },
   "outputs": [
    {
     "name": "stdout",
     "output_type": "stream",
     "text": [
      "Mounted at /content/gdrive\n"
     ]
    }
   ],
   "source": [
    "from google.colab import drive\n",
    "drive.mount('/content/gdrive')"
   ]
  },
  {
   "cell_type": "code",
   "execution_count": 45,
   "metadata": {
    "id": "gRaEZB1pUnAk"
   },
   "outputs": [],
   "source": [
    "#The file to upload is found here: https://drive.google.com/file/d/1e9DrrIRX8H6KUqBfpTnnbqE4YSyY1xjJ/view?usp=sharing\n",
    "#This is a compressed file, so you'll need to use the following code to get it:\n",
    "import pandas as pd\n",
    "df = pd.read_json('/content/gdrive/MyDrive/Rutgers New Brunswick/[2020-2021] Program +1/Spring Semester (2021)/Machine Learning/Collab_Datasets/df_small.zip',compression='zip')"
   ]
  },
  {
   "cell_type": "code",
   "execution_count": 46,
   "metadata": {
    "id": "O9PUt2dYX_Zp"
   },
   "outputs": [],
   "source": [
    "df = df[['body','MRAD']]"
   ]
  },
  {
   "cell_type": "code",
   "execution_count": 80,
   "metadata": {
    "colab": {
     "base_uri": "https://localhost:8080/",
     "height": 204
    },
    "id": "G8as3lA8YIzJ",
    "outputId": "218bdb9a-9740-4907-bf1c-8d803341d454"
   },
   "outputs": [
    {
     "data": {
      "text/html": [
       "<div>\n",
       "<style scoped>\n",
       "    .dataframe tbody tr th:only-of-type {\n",
       "        vertical-align: middle;\n",
       "    }\n",
       "\n",
       "    .dataframe tbody tr th {\n",
       "        vertical-align: top;\n",
       "    }\n",
       "\n",
       "    .dataframe thead th {\n",
       "        text-align: right;\n",
       "    }\n",
       "</style>\n",
       "<table border=\"1\" class=\"dataframe\">\n",
       "  <thead>\n",
       "    <tr style=\"text-align: right;\">\n",
       "      <th></th>\n",
       "      <th>body</th>\n",
       "      <th>MRAD</th>\n",
       "    </tr>\n",
       "  </thead>\n",
       "  <tbody>\n",
       "    <tr>\n",
       "      <th>0</th>\n",
       "      <td>Keep showing that little guy all the love in t...</td>\n",
       "      <td>0</td>\n",
       "    </tr>\n",
       "    <tr>\n",
       "      <th>1</th>\n",
       "      <td>Those last four words are what's truly importa...</td>\n",
       "      <td>0</td>\n",
       "    </tr>\n",
       "    <tr>\n",
       "      <th>2</th>\n",
       "      <td>That was 27 years ago for myself. I consider m...</td>\n",
       "      <td>0</td>\n",
       "    </tr>\n",
       "    <tr>\n",
       "      <th>3</th>\n",
       "      <td>I also have 3 daughters and a baby boy. You ev...</td>\n",
       "      <td>0</td>\n",
       "    </tr>\n",
       "    <tr>\n",
       "      <th>4</th>\n",
       "      <td>Looking good both of you.  Boys are the best g...</td>\n",
       "      <td>0</td>\n",
       "    </tr>\n",
       "  </tbody>\n",
       "</table>\n",
       "</div>"
      ],
      "text/plain": [
       "                                                body  MRAD\n",
       "0  Keep showing that little guy all the love in t...     0\n",
       "1  Those last four words are what's truly importa...     0\n",
       "2  That was 27 years ago for myself. I consider m...     0\n",
       "3  I also have 3 daughters and a baby boy. You ev...     0\n",
       "4  Looking good both of you.  Boys are the best g...     0"
      ]
     },
     "execution_count": 80,
     "metadata": {
      "tags": []
     },
     "output_type": "execute_result"
    }
   ],
   "source": [
    "df.head()"
   ]
  },
  {
   "cell_type": "markdown",
   "metadata": {
    "id": "yfrpyGDHVawT"
   },
   "source": [
    "Q2a. First, create features from the text data in this dataframe. Use CountVectorizer in order to produce a bag of words. Use 'english' stop words as provided in the CountVectorizer. Use max_features=10000. [5 points]"
   ]
  },
  {
   "cell_type": "code",
   "execution_count": 81,
   "metadata": {
    "colab": {
     "base_uri": "https://localhost:8080/"
    },
    "id": "jHtUPtrwVcBy",
    "outputId": "8b303ae2-5eb7-4925-b3ca-f1216763fc6a"
   },
   "outputs": [
    {
     "name": "stdout",
     "output_type": "stream",
     "text": [
      "['00', '000', '00am', '00pm', '01', '02', '03', '036c3a2194c04d4a9de2fa19138e2210', '04', '05', '07', '08', '09', '0a', '0akminder', '0areplaceme', '10', '100', '1000', '100k', '100th', '100x', '101', '102', '10am', '10k', '10lb', '10lbs', '10mo', '10pm', '10th', '10yo', '11', '110', '111', '11lbs', '11mo', '11pm', '11th', '12', '120', '12am', '12lbs', '12oz', '12th', '12v', '13', '130', '1300', '13th', '14', '148', '14oz', '14th', '15', '150', '1500', '15th', '16', '16mo', '17', '18', '180', '18mo', '18th', '19', '1970', '19th', '1am', '1lb', '1pm', '1st', '1yo', '20', '200', '2001', '20036c3a2194c04d4a9de2fa19138e2210', '2007', '2011', '2012', '2013', '2014', '2015', '2016', '2017', '2018', '2019', '2020', '2029', '203', '204e23f6fc53bb454eb540f8679de38ce1', '20below', '20change', '20comment', '20days', '20do', '20email', '20exists', '20from', '20if', '20kzreminderbot', '20line', '20message', '20not', '20of', '20on', '20reminder', '20reminders', '20s', '20second', '20settings', '20th', '20time', '20time_or_time_from_now', '21', '21st', '22', '23', '23rd', '24', '25', '250', '26', '26th', '27', '27th', '27z', '28', '28and', '28th', '29', '2_', '2a', '2aenter', '2am', '2hrs', '2lbs', '2nd', '2oz', '2pm', '2x', '2x4', '2yo', '30', '300', '30am', '30min', '30pm', '30s', '30th', '31', '32', '33', '34', '35', '350', '35z', '36', '360', '37', '38', '39', '3am', '3d', '3ish', '3m', '3mo', '3oz', '3pm', '3rd', '3s', '3x', '3yo', '3yr', '40', '400', '401k', '40example', '40th', '41', '411', '42', '43', '430', '44', '45', '45am', '46', '47', '48', '4am', '4e23f6fc53bb454eb540f8679de38ce1', '4k', '4m', '4mo', '4oz', '4pm', '4th', '4yo', '4yr', '50', '500', '5000', '50th', '51', '52', '529', '530', '55', '58', '59', '5am', '5ish', '5k', '5kg', '5lb', '5mo', '5pm', '5rzxvzggvevurzv1tulrlw', '5th', '5yo', '5yr', '60', '600', '630', '65', '68', '6am', '6ft', '6m', '6mo', '6months', '6oz', '6pm', '6th', '6yo', '70', '70s', '72', '730', '74', '75', '7am', '7lb', '7mo', '7pm', '7th', '80', '800', '80s', '830', '85', '86', '87', '8am', '8hrs', '8oz', '8pm', '8th', '8yo', '90', '900', '90s', '911', '95', '95th', '98', '98th', '99', '99th', '9am', '9lb', '9mo', '9pm', '9th', 'aap', 'aba', 'abandon', 'abandoned', 'abc', 'abcs', 'abdomen', 'abdominal', 'abide', 'abilities', 'ability', 'able', 'abroad', 'abruptly', 'absence', 'absent', 'absolute', 'absolutely', 'absorption', 'abstract', 'absurd', 'abundance', 'abuse', 'abused', 'abusing', 'abusive', 'ac', 'academy', 'accelerate', 'accept', 'acceptable', 'acceptance', 'accepted', 'accepting', 'access', 'accessories', 'accident', 'accidentally', 'accidents', 'accommodate', 'accommodating', 'accompany', 'accomplish', 'accomplished', 'accomplishment', 'accord', 'according', 'accordingly', 'account', 'accountable', 'accounts', 'accuracy', 'accurate', 'accustomed', 'ache', 'aches', 'achieve', 'achieved', 'achievement', 'acid', 'acknowledge', 'acknowledged', 'acknowledgement', 'acknowledging', 'acoustic', 'acquisition', 'act', 'acted', 'acting', 'action', 'actions', 'active', 'actively', 'activities', 'activity', 'actor', 'acts', 'actual', 'actually', 'acute', 'ad', 'adamant', 'adapt', 'adapted', 'adapter', 'add', 'added', 'addemail', 'addicted', 'addiction', 'adding', 'addition', 'additional', 'additionally', 'address', 'addressed', 'addresses', 'addressing', 'adds', 'adenoids', 'adept', 'adhd', 'adhere', 'adhesive', 'adjacent', 'adjust', 'adjustable', 'adjusted', 'adjusting', 'adjustment', 'admin', 'administration', 'admire', 'admit', 'admitted', 'admittedly', 'admitting', 'adopt', 'adopted', 'adopting', 'adoption', 'adorable', 'adore', 'adores', 'adrenaline', 'ads', 'adult', 'adulthood', 'adults', 'advance', 'advanced', 'advantage', 'advantages', 'adventure', 'adventures', 'adventurous', 'adverse', 'advertisement', 'advice', 'advil', 'advise', 'advised', 'advocate', 'advocating', 'af', 'affair', 'affect', 'affected', 'affecting', 'affection', 'affectionate', 'affects', 'affiliated', 'afford', 'affordable', 'afloat', 'afraid', 'africa', 'afternoon', 'afterward', 'age', 'aged', 'agency', 'agenda', 'agent', 'ages', 'aggravating', 'aggression', 'aggressive', 'aggressively', 'ago', 'agree', 'agreed', 'agreeing', 'agreement', 'agrees', 'ah', 'aha', 'ahead', 'ahh', 'ahhh', 'ahold', 'ai', 'aid', 'aids', 'aim', 'aimed', 'ain', 'aint', 'air', 'airbag', 'airborne', 'airplane', 'airport', 'airway', 'aisle', 'aka', 'akin', 'al', 'alarm', 'alarms', 'albeit', 'album', 'albums', 'alcohol', 'alcoholic', 'alert', 'alexa', 'alien', 'align', 'aligned', 'aligns', 'alike', 'alive', 'allegations', 'allen', 'allergic', 'allergies', 'allergy', 'alleviate', 'allow', 'allowance', 'allowed', 'allowing', 'allows', 'alongside', 'alot', 'aloud', 'alpaca', 'alpha', 'alphabet', 'alright', 'alseep', 'altered', 'altering', 'alternate', 'alternating', 'alternative', 'alternatively', 'alternatives', 'altitude', 'altogether', 'ama', 'amateur', 'amaze', 'amazed', 'amazing', 'amazingly', 'amazon', 'ambulance', 'amd', 'amelia', 'amen', 'america', 'american', 'americans', 'amigo', 'amounts', 'amp', 'amputation', 'amusing', 'anaesthetic', 'analysis', 'anatomy', 'ancestors', 'anchor', 'anchored', 'anchors', 'ancient', 'android', 'android_app', 'anecdotal', 'anecdote', 'anesthesia', 'anesthesiologist', 'angel', 'angels', 'anger', 'angle', 'angled', 'angles', 'angrier', 'angry', 'animal', 'animals', 'animated', 'anime', 'ankle', 'ankles', 'annika', 'anniversary', 'announced', 'annoy', 'annoyance', 'annoyed', 'annoying', 'annual', 'anonymous', 'answer', 'answered', 'answers', 'anti', 'antibiotic', 'antibiotics', 'antibodies', 'anticipate', 'anticipated', 'anticipating', 'anticipation', 'ants', 'anus', 'anxiety', 'anxious', 'anybody', 'anymore', 'anytime', 'anyways', 'aorta', 'apart', 'apartment', 'apnea', 'apocalypse', 'apologies', 'apologize', 'apologized', 'apologizing', 'apology', 'app', 'apparent', 'apparently', 'appeal', 'appear', 'appears', 'appendix', 'appetite', 'apple', 'applicable', 'application', 'applications', 'applied', 'applies', 'apply', 'applying', 'appointment', 'appointments', 'appreciate', 'appreciated', 'appreciates', 'appreciating', 'appreciation', 'appreciative', 'approach', 'approaching', 'appropriate', 'appropriately', 'approval', 'approve', 'approved', 'approx', 'approximately', 'apps', 'appt', 'april', 'apt', 'aquarium', 'arabic', 'arbitrary', 'architecture', 'area', 'areas', 'aren', 'arena', 'arent', 'argue', 'argued', 'arguing', 'argument', 'arguments', 'arise', 'arm', 'armpit', 'arms', 'army', 'arrange', 'arrangement', 'arrangements', 'arrested', 'arrival', 'arrive', 'arrived', 'arrives', 'arriving', 'arse', 'art', 'article', 'articles', 'articulate', 'artist', 'artistic', 'artists', 'arts', 'arya', 'asap', 'ascent', 'asd', 'ash', 'ashamed', 'ashtreex3', 'asia', 'asian', 'aside', 'ask', 'asked', 'asking', 'asks', 'asl', 'asleep', 'aspect', 'aspects', 'aspire', 'aspx', 'ass', 'assailant', 'assault', 'assembled', 'assess', 'assessment', 'asshole', 'assholes', 'assigned', 'assist', 'assistance', 'assistant', 'assistants', 'assisted', 'assisting', 'associate', 'associated', 'association', 'associations', 'assume', 'assumed', 'assumes', 'assuming', 'assumption', 'assumptions', 'assure', 'assured', 'asthma', 'astounding', 'aswell', 'ate', 'atleast', 'atm', 'atmosphere', 'atomikclimbingholds', 'attach', 'attached', 'attachment', 'attack', 'attacked', 'attacking', 'attacks', 'attempt', 'attempted', 'attempting', 'attempts', 'attend', 'attendance', 'attended', 'attending', 'attention', 'attentive', 'attest', 'attic', 'attitude', 'attitudes', 'attorney', 'attribute', 'atypical', 'au', 'audience', 'audio', 'august', 'aunt', 'aunts', 'australia', 'australian', 'authentic', 'author', 'authority', 'autism', 'autistic', 'auto', 'automatic', 'automatically', 'autonomy', 'available', 'avent', 'average', 'aversion', 'avoid', 'avoided', 'avoiding', 'aw', 'awaiting', 'awake', 'award', 'aware', 'awareness', 'away', 'awe', 'awesome', 'awful', 'awh', 'awhile', 'awkward', 'aww', 'awww', 'axe', 'axis', 'axl72o', 'aye', 'baba', 'babble', 'babbling', 'babe', 'babies', 'baby', 'babyproofing', 'babys', 'babysit', 'babysitter', 'babysitters', 'babysitting', 'backed', 'backfire', 'background', 'backlog', 'backpack', 'backpacking', 'backs', 'backseat', 'backstory', 'backup', 'backward', 'backwards', 'backyard', 'bacon', 'bacteria', 'bacterial', 'bad', 'badass', 'badge', 'badger', 'badly', 'bag', 'bagel', 'bagels', 'baggage', 'bags', 'bake', 'baker', 'baking', 'balance', 'balanced', 'balances', 'balancing', 'balcony', 'bald', 'ball', 'balled', 'ballet', 'balloon', 'balloons', 'balls', 'balm', 'bam', 'ban', 'banana', 'bananas', 'band', 'bandaid', 'bands', 'bang', 'banged', 'banging', 'bangs', 'banister', 'bank', 'banned', 'bans', 'bar', 'bare', 'barefoot', 'barely', 'bark', 'barking', 'barrel', 'barrier', 'barriers', 'bars', 'base', 'baseball', 'baseboard', 'based', 'baseline', 'basement', 'bases', 'basic', 'basically', 'basics', 'basis', 'basket', 'basketball', 'baskets', 'bass', 'bassinet', 'bastard', 'bastards', 'bat', 'batch', 'bath', 'bathe', 'bathed', 'bathing', 'bathroom', 'bathrooms', 'baths', 'bathtub', 'batman', 'bats', 'batter', 'batteries', 'battery', 'battle', 'battles', 'bawling', 'bay', 'bb', 'bbq', 'bc', 'bday', 'beach', 'beam', 'beams', 'bean', 'beanie', 'beans', 'bear', 'bearable', 'beard', 'bearded', 'beards', 'bears', 'beast', 'beat', 'beaten', 'beating', 'beats', 'beautiful', 'beautifully', 'beauty', 'beckham', 'bed', 'bedroom', 'bedrooms', 'beds', 'bedside', 'bedtime', 'bee', 'beef', 'beep', 'beer', 'beers', 'bees', 'beg', 'began', 'begets', 'begged', 'begging', 'begin', 'beginning', 'begins', 'begun', 'behalf', 'behave', 'behaved', 'behaves', 'behaving', 'behavior', 'behavioral', 'behaviors', 'behaviour', 'behaviours', 'beings', 'belated', 'belief', 'beliefs', 'believe', 'believed', 'believer', 'believes', 'believing', 'bell', 'belly', 'belong', 'belongs', 'beloved', 'belt', 'bench', 'benches', 'bend', 'bending', 'bends', 'beneficial', 'benefit', 'benefits', 'bent', 'berries', 'best', 'bet', 'beta', 'betrayal', 'bets', 'better', 'beware', 'beyondthebump', 'bf', 'bias', 'biased', 'biases', 'bib', 'bible', 'bicycle', 'big', 'bigger', 'biggest', 'biggie', 'bike', 'bikes', 'bili', 'bilirubin', 'billion', 'bills', 'bin', 'bind', 'bing', 'binge', 'bins', 'bio', 'biological', 'biologically', 'biology', 'bipolar', 'bird', 'birds', 'birth', 'birthday', 'birthdays', 'birthed', 'birthing', 'birthmark', 'births', 'bit', 'bitch', 'bite', 'bites', 'biting', 'bits', 'bitten', 'bitter', 'bizarre', 'bjj', 'black', 'blackout', 'bladder', 'blade', 'blades', 'blah', 'blame', 'blamed', 'blaming', 'blank', 'blanket', 'blankets', 'blast', 'bleach', 'bleed', 'bleeding', 'bleeds', 'bleep', 'blend', 'blended', 'blending', 'bless', 'blessed', 'blessing', 'blessings', 'blew', 'blind', 'blink', 'blinked', 'blip', 'blippi', 'bliss', 'blissful', 'block', 'blocked', 'blockers', 'blocking', 'blocks', 'blog', 'blonde', 'blood', 'bloody', 'bloop', 'blow', 'blowing', 'blown', 'blowout', 'blowouts', 'blows', 'blue', 'blueberries', 'blueberry', 'blues', 'bluetooth', 'bluey', 'blunt', 'blur', 'blush', 'board', 'boards', 'boat', 'bob', 'bobby', 'bod', 'bodies', 'bodily', 'body', 'boggling', 'boil', 'boiled', 'boiling', 'boils', 'bolt', 'bolts', 'bomb', 'bond', 'bonded', 'bonding', 'bonds', 'bone', 'bones', 'bong', 'bonkers', 'bonus', 'boo', 'boob', 'boobies', 'boobs', 'booger', 'boogers', 'boogie', 'book', 'booked', 'books', 'bookshelf', 'bookstore', 'boom', 'boomer', 'boomers', 'boost', 'booster', 'boot', 'boots', 'booze', 'boppy', 'bored', 'boredom', 'boring', 'born', 'borrow', 'boss', 'boston', 'bot', 'botched', 'bother', 'bothered', 'bothering', 'bothers', 'bots', 'bottle', 'bottled', 'bottles', 'bought', 'bounce', 'bounced', 'bouncer', 'bouncers', 'bouncing', 'bouncy', 'bound', 'boundaries', 'boundary', 'bounds', 'bout', 'bouts', 'bow', 'bowel', 'bowl', 'bowls', 'bows', 'box', 'boxers', 'boxes', 'boy', 'boyfriend', 'boyo', 'boys', 'bp', 'brace', 'bracelet', 'braces', 'brag', 'bragging', 'braid', 'braiding', 'braids', 'brain', 'brains', 'brake', 'brakes', 'branch', 'brand', 'brands', 'brat', 'brave', 'braver', 'bravo', 'brazilian', 'bread', 'break', 'breakdown', 'breakfast', 'breaking', 'breaks', 'breast', 'breastfed', 'breastfeed', 'breastfeeding', 'breastmilk', 'breasts', 'breath', 'breathable', 'breathe', 'breather', 'breathes', 'breathing', 'breaths', 'breed', 'breeding', 'breeze', 'brew', 'brewery', 'brewing', 'brezza', 'brian', 'bribe', 'bricks', 'bridge', 'brief', 'briefly', 'briefs', 'bright', 'brighten', 'brighter', 'brilliant', 'bring', 'bringing', 'brings', 'bristol', 'british', 'bro', 'broad', 'broadcast', 'broadway', 'broccoli', 'broke', 'broken', 'bronchiolitis', 'bros', 'brotha', 'brother', 'brothers', 'brought', 'brown', 'browns', 'browse', 'browsing', 'bruce', 'bruh', 'bruise', 'bruises', 'brunch', 'brunt', 'brush', 'brushed', 'brushes', 'brushing', 'brutal', 'bs', 'btw', 'bu', 'bub', 'bubba', 'bubble', 'bubbles', 'buck', 'bucket', 'buckets', 'buckle', 'buckled', 'bucks', 'bud', 'buddies', 'buddy', 'budget', 'buds', 'buffalo', 'bug', 'bugger', 'bugging', 'bugs', 'build', 'builder', 'building', 'builds', 'built', 'bulb', 'bulbasaur', 'bulbs', 'bulk', 'bulky', 'bull', 'bullet', 'bullied', 'bullies', 'bullshit', 'bully', 'bullying', 'bum', 'bummed', 'bummer', 'bump', 'bumped', 'bumper', 'bumpers', 'bumping', 'bumps', 'bun', 'bunch', 'bundle', 'bunny', 'buns', 'burden', 'buried', 'burn', 'burned', 'burner', 'burning', 'burnt', 'burp', 'burped', 'burping', 'burps', 'burrito', 'burst', 'bursts', 'bus', 'business', 'businesses', 'bust', 'busted', 'busy', 'buts', 'butt', 'butter', 'butterfly', 'butthole', 'button', 'buttons', 'butts', 'buy', 'buying', 'buys', 'buzz', 'bye', 'ca', 'cab', 'cabin', 'cabinet', 'cabinets', 'cable', 'cafeteria', 'caffeine', 'caillou', 'cake', 'calendar', 'california', 'called', 'callie', 'calling', 'calls', 'callsign', 'calm', 'calmed', 'calming', 'calmly', 'calms', 'calories', 'calpol', 'cam', 'came', 'camera', 'cameras', 'camo', 'camp', 'campaign', 'camping', 'camps', 'cams', 'canada', 'canadian', 'canal', 'cancel', 'cancelled', 'cancelling', 'cancer', 'candidate', 'candies', 'candle', 'candy', 'cannabis', 'cans', 'cantonese', 'canvas', 'cap', 'capable', 'capacity', 'caps', 'captain', 'capture', 'captured', 'car', 'carb', 'carbon', 'carbs', 'card', 'cardboard', 'cardiac', 'cardio', 'cardiologist', 'cards', 'care', 'cared', 'career', 'careers', 'careful', 'carefully', 'caregiver', 'caregivers', 'cares', 'caretaker', 'cargo', 'caring', 'carnage', 'carpentry', 'carpet', 'carpeted', 'carpets', 'carried', 'carrier', 'carriers', 'carries', 'carrot', 'carrots', 'carry', 'carrying', 'cars', 'carseat', 'carseats', 'cart', 'cartoon', 'cartoons', 'cartridges', 'carts', 'carve', 'case', 'cases', 'cash', 'cast', 'castle', 'casual', 'casually', 'cat', 'catch', 'catches', 'catching', 'catchy', 'category', 'catering', 'cath', 'catheter', 'catholic', 'cats', 'caught', 'cause', 'caused', 'causes', 'causing', 'caution', 'cautious', 'cave', 'caved', 'cavity', 'cc', 'cd', 'cdc', 'ceiling', 'celebrate', 'celebrated', 'celebrating', 'celebrity', 'cell', 'cent', 'center', 'centered', 'centers', 'central', 'centre', 'cents', 'century', 'cereal', 'certain', 'certainly', 'certificate', 'certified', 'cha', 'chain', 'chair', 'chairs', 'chalk', 'challenge', 'challenger', 'challenges', 'challenging', 'champ', 'champion', 'chance', 'chances', 'change', 'changed', 'changer', 'changes', 'changing', 'channel', 'channels', 'chaos', 'chaotic', 'chap', 'chapter', 'chapters', 'character', 'characteristics', 'characters', 'charcoal', 'charge', 'charged', 'charger', 'chargers', 'charges', 'charging', 'charizard', 'charles', 'charlie', 'charlotte', 'charm', 'charmander', 'charming', 'chart', 'charts', 'chase', 'chasing', 'chat', 'chats', 'chatting', 'chd', 'cheap', 'cheaper', 'cheapest', 'cheat', 'cheated', 'cheating', 'check', 'checked', 'checking', 'checklist', 'checks', 'checkup', 'checkups', 'cheek', 'cheeks', 'cheeky', 'cheer', 'cheering', 'cheerios', 'cheers', 'cheese', 'cheesy', 'chef', 'chemical', 'chemicals', 'cherish', 'cherishing', 'chest', 'chevy', 'chew', 'chewed', 'chewing', 'chicago', 'chick', 'chicken', 'chickens', 'child', 'childbirth', 'childcare', 'childhood', 'childish', 'childless', 'childproof', 'children', 'childrens', 'childs', 'chill', 'chilled', 'chillin', 'chilling', 'chills', 'chilly', 'chime', 'chin', 'china', 'chinese', 'chip', 'chips', 'chiropractor', 'chocolate', 'choice', 'choices', 'choke', 'choked', 'choking', 'chonk', 'chonker', 'chonky', 'choose', 'chooses', 'choosing', 'chop', 'chopped', 'chopping', 'chore', 'chores', 'chose', 'chosen', 'chris', 'christ', 'christian', 'christmas', 'chrome', 'chronic', 'chubby', 'chuck', 'chuckle', 'chuckling', 'chug', 'chunk', 'chunks', 'chunky', 'church', 'cigarette', 'cinnamon', 'cio', 'circ', 'circle', 'circles', 'circular', 'circumcise', 'circumcised', 'circumcising', 'circumcision', 'circumcisions', 'circumstance', 'circumstances', 'cities', 'citizens', 'citizenship', 'city', 'civil', 'ck', 'claim', 'claimed', 'claims', 'clamp', 'clamping', 'clap', 'clarification', 'clarified', 'clarify', 'class', 'classes', 'classic', 'classical', 'classics', 'classmates', 'classroom', 'clean', 'cleaned', 'cleaner', 'cleaning', 'cleanliness', 'cleanup', 'clear', 'cleared', 'clearly', 'clears', 'cleft', 'clemson', 'cleveland', 'clever', 'cliche', 'click', 'clicked', 'clicking', 'clicks', 'clients', 'climate', 'climb', 'climbed', 'climber', 'climbing', 'climbs', 'clingy', 'clinic', 'clinical', 'clip', 'clipped', 'clips', 'clock', 'clocks', 'close', 'closed', 'closely', 'closer', 'closes', 'closest', 'closet', 'closing', 'closure', 'closures', 'cloth', 'clothes', 'clothing', 'cloths', 'clots', 'cloud', 'club', 'clubhouse', 'clue', 'clueless', 'clumsy', 'cluster', 'clutter', 'cm', 'coach', 'coaches', 'coast', 'coaster', 'coat', 'coated', 'coco', 'cocoon', 'cod', 'code', 'codes', 'coding', 'coffee', 'cognitive', 'cognitively', 'coin', 'coincidence', 'coins', 'coke', 'cold', 'colds', 'colic', 'colicky', 'collage', 'collapse', 'collapsed', 'collar', 'colleagues', 'collect', 'collected', 'collecting', 'collection', 'collective', 'college', 'color', 'colorado', 'colored', 'colorful', 'coloring', 'colors', 'colossal', 'colostrum', 'colour', 'coloured', 'colours', 'columbia', 'com', 'combat', 'combination', 'combine', 'combined', 'combo', 'come', 'comedy', 'comes', 'comfort', 'comfortable', 'comfortably', 'comforted', 'comforting', 'comfy', 'comic', 'comics', 'coming', 'command', 'commend', 'comment', 'commentary', 'commented', 'commenter', 'commenting', 'comments', 'commercial', 'commercials', 'commiserate', 'commit', 'commitment', 'committed', 'committee', 'committing', 'common', 'commonly', 'communicate', 'communicating', 'communication', 'communities', 'community', 'commute', 'commuting', 'compact', 'companies', 'company', 'comparable', 'compare', 'compared', 'comparing', 'comparison', 'compassion', 'compassionate', 'compatible', 'compelled', 'compete', 'competent', 'competing', 'competition', 'competitive', 'compilation', 'complain', 'complained', 'complaining', 'complains', 'complaint', 'complaints', 'complete', 'completed', 'completely', 'complex', 'complicated', 'complications', 'compliment', 'compose', 'composition', 'compound', 'compounded', 'comprehend', 'comprehension', 'compromise', 'compromised', 'computer', 'computers', 'conceive', 'conceived', 'concentrate', 'concentration', 'concept', 'concepts', 'concern', 'concerned', 'concerning', 'concerns', 'concerts', 'conclusion', 'concrete', 'concussion', 'condescending', 'condescendingly', 'condition', 'conditioned', 'conditioning', 'conditions', 'condolences', 'condoms', 'condone', 'conference', 'confidence', 'confident', 'confirm', 'confirmation', 'confirmed', 'conflict', 'conform', 'conformity', 'confrontation', 'confronted', 'confused', 'confusing', 'confusion', 'congenital', 'congestion', 'congrats', 'congratulate', 'congratulations', 'connect', 'connected', 'connecting', 'connection', 'connections', 'connects', 'conquer', 'cons', 'conscience', 'conscious', 'consciously', 'consciousness', 'conscription', 'consecutive', 'consensus', 'consent', 'consenting', 'consequence', 'consequences', 'conservative', 'consider', 'considerable', 'consideration', 'considered', 'considering', 'consistency', 'consistent', 'consistently', 'consolation', 'console', 'consoles', 'constant', 'constantly', 'constipated', 'constipation', 'construction', 'constructive', 'consult', 'consultant', 'consultation', 'consume', 'consumed', 'consuming', 'contact', 'contacts', 'contagious', 'contain', 'contained', 'container', 'containment', 'contains', 'contempt', 'content', 'contest', 'context', 'continually', 'continue', 'continued', 'continues', 'continuing', 'continuous', 'contract', 'contraction', 'contractions', 'contractor', 'contracts', 'contraption', 'contrary', 'contrast', 'contribute', 'contributing', 'contribution', 'control', 'controlled', 'controller', 'controlling', 'controls', 'controversial', 'convenience', 'convenient', 'conversation', 'conversations', 'conversion', 'convert', 'converted', 'converter', 'convertible', 'convey', 'convince', 'convinced', 'convincing', 'coo', 'cooing', 'cook', 'cooked', 'cookie', 'cookies', 'cooking', 'cool', 'cooled', 'cooler', 'coolest', 'cooped', 'cooperate', 'cooperative', 'coordinate', 'coordinated', 'coordination', 'cop', 'copay', 'cope', 'copied', 'copies', 'coping', 'cops', 'copy', 'cord', 'core', 'corn', 'corner', 'corners', 'corny', 'corona', 'coronavirus', 'corporate', 'correct', 'corrected', 'correcting', 'correctly', 'cos', 'cosleeping', 'cosmetic', 'cosmic', 'cost', 'costco', 'costs', 'costume', 'cot', 'cotton', 'couch', 'couches', 'cough', 'coughing', 'coughs', 'couldn', 'council', 'counseling', 'counselling', 'counsellor', 'counselor', 'count', 'countdown', 'countdowns', 'counted', 'counter', 'counting', 'countless', 'countries', 'country', 'counts', 'county', 'coupe', 'couple', 'coupled', 'couples', 'courage', 'courageous', 'course', 'courses', 'court', 'courts', 'cousin', 'cousins', 'cover', 'coverage', 'covered', 'covering', 'covers', 'covid', 'covid19', 'covid19_megathread', 'cow', 'coward', 'cowards', 'cowboy', 'cowboys', 'coworker', 'coworkers', 'coz', 'cozy', 'cpap', 'cpr', 'cps', 'cr', 'crab', 'crack', 'cracked', 'crackers', 'cracking', 'cracks', 'cradle', 'craft', 'crafts', 'crafty', 'cram', 'craniosynostosis', 'cranky', 'crannies', 'crap', 'crappy', 'crash', 'crashed', 'crashing', 'crate', 'craving', 'cravings', 'crawl', 'crawled', 'crawler', 'crawling', 'crawls', 'crayon', 'crayons', 'craziest', 'craziness', 'crazy', 'cream', 'creams', 'crease', 'create', 'created', 'creates', 'creating', 'creation', 'creative', 'creativity', 'creature', 'creatures', 'credit', 'creep', 'creeped', 'creeping', 'creepy', 'crew', 'crib', 'cribs', 'cried', 'cries', 'crime', 'criminal', 'cringe', 'crippling', 'crisis', 'crispy', 'critical', 'criticise', 'criticism', 'criticize', 'criticizing', 'crocodile', 'crook', 'crop', 'cross', 'crossed', 'crossfit', 'crossing', 'crotch', 'crowd', 'crowds', 'crown', 'crucial', 'cruel', 'cruise', 'cruising', 'crush', 'crushed', 'crushes', 'crushing', 'crying', 'crystal', 'csection', 'cub', 'cube', 'cubes', 'cuddle', 'cuddled', 'cuddles', 'cuddling', 'cuddly', 'cue', 'cues', 'cultivate', 'cultural', 'culture', 'cultures', 'cup', 'cupboard', 'cups', 'curb', 'cure', 'curiosity', 'curious', 'curl', 'curled', 'curls', 'curly', 'current', 'currently', 'curriculum', 'curse', 'curtain', 'curtains', 'curve', 'curves', 'cushion', 'cushions', 'cusp', 'custody', 'custom', 'customer', 'customers', 'cut', 'cute', 'cuteness', 'cuter', 'cutest', 'cutie', 'cuts', 'cutting', 'cuz', 'cyber', 'cycle', 'cycles', 'cycling', 'da', 'dabo', 'dad', 'dada', 'dadda', 'daddies', 'dadding', 'daddio', 'daddit', 'daddy', 'dads', 'daily', 'dairy', 'daisy', 'dallas', 'dam', 'damage', 'damaged', 'damaging', 'dammit', 'damn', 'damned', 'damnit', 'dan', 'dance', 'dances', 'dancing', 'dandy', 'dang', 'danger', 'dangerous', 'dangers', 'daniel', 'danish', 'dare', 'daredevil', 'dark', 'darker', 'darkest', 'darkness', 'darn', 'das', 'dash', 'dat', 'data', 'date', 'dated', 'dates', 'datetime', 'dating', 'daughter', 'daughters', 'dave', 'dawn', 'day', 'daycare', 'daycares', 'days', 'daytime', 'dc', 'dead', 'deadline', 'deadly', 'deaf', 'deal', 'dealership', 'dealing', 'deals', 'dealt', 'dear', 'dearly', 'death', 'deaths', 'debate', 'debating', 'debbie', 'debt', 'decade', 'decades', 'december', 'decency', 'decent', 'decently', 'decide', 'decided', 'decides', 'deciding', 'decision', 'decisions', 'deck', 'decline', 'decompress', 'deconstruction', 'dedicated', 'deductible', 'deduction', 'deed', 'deep', 'deeper', 'deepest', 'deeply', 'deer', 'def', 'default', 'defeat', 'defect', 'defend', 'defending', 'defense', 'defensive', 'deferred', 'define', 'defined', 'defining', 'definitely', 'definition', 'definitions', 'degree', 'degrees', 'dehydrated', 'dehydration', 'delay', 'delayed', 'delays', 'delete', 'deleted', 'deletereminder', 'deleteremindercomment', 'deliberately', 'delicate', 'delicious', 'deliver', 'delivered', 'deliveries', 'delivering', 'delivery', 'delta', 'deluxe', 'demand', 'demanded', 'demanding', 'demands', 'demon', 'demons', 'denial', 'denied', 'denmark', 'dense', 'density', 'dental', 'dentist', 'denver', 'deny', 'denying', 'deodorant', 'department', 'departments', 'depend', 'dependent', 'depending', 'depends', 'deployed', 'deposit', 'depot', 'depressed', 'depression', 'depressive', 'deprivation', 'deprived', 'depth', 'dermatologist', 'descent', 'described', 'describing', 'description', 'desert', 'deserve', 'deserved', 'deserves', 'design', 'designated', 'designed', 'designs', 'desirable', 'desire', 'desired', 'desires', 'desk', 'desperate', 'desperately', 'despite', 'dessert', 'destination', 'destroy', 'destroyed', 'destroying', 'destruction', 'destructive', 'detached', 'detailed', 'detailing', 'details', 'detect', 'detection', 'detective', 'detergent', 'determination', 'determine', 'determined', 'determines', 'detriment', 'detrimental', 'deuce', 'devastated', 'devastating', 'develop', 'developed', 'developer', 'developing', 'development', 'developmental', 'developmentally', 'develops', 'device', 'devices', 'devil', 'diagnosed', 'diagnosis', 'dial', 'diameter', 'diaper', 'diapers', 'diarrhea', 'dick', 'dickish', 'dicks', 'dictate', 'dictionary', 'did', 'didn', 'didnt', 'die', 'died', 'diego', 'dies', 'diesel', 'diet', 'differ', 'difference', 'differences', 'different', 'differently', 'difficult', 'difficulties', 'difficulty', 'dig', 'digging', 'digital', 'dilated', 'dilation', 'dilaudid', 'dilly', 'dimensions', 'diminished', 'ding', 'dining', 'dinner', 'dinners', 'dino', 'dinos', 'dinosaur', 'dinosaurs', 'dip', 'dire', 'direct', 'direction', 'directions', 'directly', 'director', 'dirt', 'dirty', 'disability', 'disabled', 'disagree', 'disagreeing', 'disagreement', 'disappear', 'disappointed', 'disappointing', 'disappointment', 'disaster', 'disc', 'discharge', 'discharged', 'discipline', 'disciplined', 'disciplining', 'disclaimer', 'disclosure', 'discomfort', 'disconnect', 'disconnected', 'discord', 'discount', 'discourage', 'discover', 'discovered', 'discovering', 'discuss', 'discussed', 'discussing', 'discussion', 'discussions', 'disease', 'diseases', 'disgust', 'disgusting', 'dish', 'dishes', 'dishwasher', 'disinterested', 'dislike', 'disney', 'disneyland', 'disorder', 'dispenser', 'display', 'disposable', 'disposables', 'disregard', 'disrespect', 'disrespectful', 'disruptive', 'distance', 'distancing', 'distant', 'distinct', 'distinguish', 'distract', 'distracted', 'distracting', 'distraction', 'distractions', 'distraught', 'distress', 'distribution', 'district', 'districts', 'disturb', 'disturbing', 'ditto', 'dive', 'divide', 'division', 'divorce', 'divorced', 'diy', 'dizzy', 'dm', 'dm221', 'dms', 'dna', 'dnd', 'doable', 'dobsonian', 'doc', 'dock', 'docs', 'doctor', 'doctors', 'document', 'documentary', 'documented', 'documenting', 'documents', 'dodge', 'dodged', 'does', 'doesn', 'doesnt', 'dog', 'dogma', 'dogs', 'doh', 'doing', 'doll', 'dollar', 'dollars', 'dollhouse', 'dolls', 'domestic', 'don', 'donald', 'donate', 'donated', 'donation', 'donor', 'dont', 'donut', 'donuts', 'doo', 'doom', 'doomed', 'door', 'doorbell', 'doorknob', 'doors', 'doorway', 'dope', 'dose', 'dot', 'dots', 'double', 'doubled', 'doubling', 'doubly', 'doubt', 'doubting', 'doubts', 'dough', 'doughnut', 'doula', 'downer', 'downhill', 'download', 'downloadable', 'downs', 'downside', 'downsides', 'downstairs', 'downtime', 'downtown', 'downvote', 'downvoted', 'downvotes', 'dozen', 'dozens', 'dp', 'dr', 'drag', 'dragging', 'dragon', 'dragons', 'drain', 'drained', 'draining', 'drama', 'dramatic', 'dramatically', 'drank', 'drastically', 'draw', 'drawer', 'drawers', 'drawing', 'drawings', 'drawn', 'draws', 'dread', 'dreading', 'dream', 'dreams', 'dress', 'dressed', 'dresser', 'dresses', 'dressing', 'drew', 'drift', 'drifting', 'drill', 'drilled', 'drilling', 'drink', 'drinker', 'drinking', 'drinks', 'drip', 'drive', 'driven', 'driver', 'drivers', 'drives', 'driveway', 'driving', 'drool', 'drop', 'dropped', 'dropping', 'drops', 'drove', 'drown', 'drowsy', 'drug', 'drugs', 'drum', 'drummer', 'drums', 'drunk', 'dry', 'dryer', 'drying', 'drywall', 'ds', 'dt', 'dual', 'duck', 'ducks', 'duct', 'ducts', 'dude', 'dudes', 'dumb', 'dumbass', 'dummy', 'dump', 'dumped', 'dumping', 'dumpster', 'dungeon', 'dungeons', 'dunno', 'duo', 'duplo', 'durable', 'duration', 'dust', 'dutch', 'duties', 'duty', 'dwell', 'dxr', 'dying', 'dynamic', 'dynamics', 'dysplasia', 'eachother', 'eager', 'eagles', 'ear', 'earl', 'earlier', 'earliest', 'early', 'earn', 'earned', 'earplugs', 'ears', 'earshot', 'earth', 'ease', 'easier', 'easiest', 'easily', 'east', 'easter', 'eastern', 'easy', 'eat', 'eaten', 'eater', 'eating', 'eats', 'ebay', 'echo', 'eclampsia', 'economics', 'economy', 'ecstatic', 'ect', 'eczema', 'ed', 'edge', 'edges', 'edit', 'edited', 'editing', 'edition', 'editor', 'educate', 'educated', 'education', 'educational', 'eeg', 'eevee', 'effect', 'effective', 'effectively', 'effects', 'efficient', 'efficiently', 'effort', 'efforts', 'egg', 'eggs', 'ego', 'eh', 'elaborate', 'elbow', 'elbows', 'elderly', 'eldest', 'election', 'elective', 'electric', 'electrical', 'electronic', 'electronics', 'elementary', 'elephant', 'elf', 'eliminate', 'eliminated', 'eliminating', 'elite', 'elizabeth', 'ello', 'elmo', 'elsa', 'em', 'email', 'emails', 'embarrassed', 'embarrassing', 'embarrassment', 'embrace', 'emergencies', 'emergency', 'emotion', 'emotional', 'emotionally', 'emotions', 'empathetic', 'empathize', 'empathy', 'emphasis', 'emphasize', 'employed', 'employee', 'employees', 'employer', 'employers', 'employment', 'emptied', 'emulate', 'emulating', 'emulators', 'en', 'enable', 'encounter', 'encountered', 'encourage', 'encouraged', 'encouragement', 'encourages', 'encouraging', 'end', 'endearing', 'endeavor', 'ended', 'ending', 'endings', 'endless', 'ends', 'endure', 'endured', 'enemy', 'energetic', 'energy', 'enfamil', 'enforce', 'enforced', 'enforcement', 'engage', 'engaged', 'engaging', 'engine', 'engineer', 'engineering', 'england', 'english', 'enji', 'enjoy', 'enjoyable', 'enjoyed', 'enjoying', 'enjoyment', 'enjoys', 'enormous', 'ensure', 'ensuring', 'ent', 'enter', 'entered', 'entering', 'entertain', 'entertained', 'entertaining', 'entertainment', 'entire', 'entirely', 'entirety', 'entitle', 'entitled', 'entrance', 'entry', 'envious', 'environment', 'envy', 'epic', 'epidural', 'episode', 'episodes', 'equal', 'equally', 'equation', 'equipment', 'equipped', 'equivalent', 'er', 'era', 'erase', 'erased', 'ergo', 'err', 'errand', 'errands', 'error', 'escalate', 'escalation', 'escape', 'escaped', 'esophagus', 'esp', 'especially', 'espousing', 'espresso', 'essential', 'essentially', 'essentials', 'est', 'establish', 'established', 'esteem', 'estimate', 'eternity', 'ethic', 'ethics', 'etsy', 'eu', 'europe', 'european', 'eve', 'evening', 'evenings', 'evenly', 'event', 'events', 'eventual', 'eventually', 'everybody', 'everyday', 'everytime', 'evidence', 'evil', 'evils', 'evolution', 'evolutionary', 'evolved', 'ewy', 'ex', 'exact', 'exactly', 'exam', 'example', 'examples', 'excellent', 'exception', 'exceptional', 'exceptionally', 'exceptions', 'excess', 'excessive', 'exchange', 'excited', 'excitement', 'exciting', 'exclude', 'exclusive', 'exclusively', 'excruciating', 'excuse', 'excuses', 'executive', 'exercise', 'exercises', 'exercising', 'exhale', 'exhausted', 'exhausting', 'exhaustion', 'exhibit', 'exist', 'existed', 'existence', 'existing', 'exists', 'exit', 'exiting', 'expand', 'expect', 'expectant', 'expectation', 'expectations', 'expected', 'expecting', 'expects', 'expend', 'expense', 'expenses', 'expensive', 'experience', 'experienced', 'experiences', 'experiencing', 'experiment', 'experimenting', 'experiments', 'expert', 'experts', 'expired', 'explain', 'explained', 'explaining', 'explains', 'explanation', 'explanations', 'explicitly', 'explode', 'exploded', 'exploration', 'explore', 'exploring', 'explosion', 'explosions', 'exponentially', 'expose', 'exposed', 'exposes', 'exposing', 'exposure', 'express', 'expressed', 'expressing', 'expression', 'expressions', 'expressive', 'extend', 'extended', 'extension', 'extensive', 'extent', 'external', 'extra', 'extraordinarily', 'extras', 'extreme', 'extremely', 'eye', 'eyebrows', 'eyed', 'eyes', 'eyesight', 'ezra', 'f02xkx', 'f9vwbgwiqtonqgmz2xug', 'fabric', 'face', 'facebook', 'faced', 'faces', 'facetime', 'facial', 'facilities', 'facility', 'facing', 'fact', 'factor', 'factors', 'factory', 'facts', 'fade', 'fail', 'failed', 'failing', 'fails', 'failure', 'failures', 'faint', 'fair', 'fairly', 'fairy', 'faith', 'fake', 'falcon', 'fall', 'fallen', 'falling', 'fallout', 'falls', 'false', 'fam', 'familiar', 'families', 'family', 'famous', 'fan', 'fancy', 'fanny', 'fans', 'fantastic', 'fantasy', 'faq', 'faqs', 'far', 'farm', 'farms', 'fart', 'farted', 'farther', 'farting', 'farts', 'fascinated', 'fascinating', 'fashion', 'fashioned', 'fast', 'faster', 'fastest', 'fat', 'fatal', 'fate', 'father', 'fatherhood', 'fatherly', 'fathers', 'fathom', 'faucet', 'fault', 'fav', 'favor', 'favorite', 'favorites', 'favourite', 'fb', 'fc5agl', 'fear', 'fearful', 'fears', 'feasible', 'feat', 'feature', 'features', 'feb', 'february', 'fed', 'federal', 'fee', 'feed', 'feedback', 'feeding', 'feedings', 'feeds', 'feel', 'feeling', 'feelings', 'feels', 'fees', 'feet', 'fell', 'fella', 'fellas', 'fellow', 'felt', 'female', 'females', 'feminine', 'fence', 'fend', 'fender', 'ferber', 'fertility', 'fever', 'fevers', 'fewer', 'ffs', 'fgm', 'fi', 'fiance', 'fiancee', 'fiancé', 'fiancée', 'fiber', 'field', 'fields', 'fifth', 'fight', 'fighter', 'fighting', 'fights', 'figure', 'figured', 'figures', 'figuring', 'fil', 'file', 'filed', 'files', 'filled', 'filling', 'fills', 'film', 'filming', 'films', 'filter', 'filters', 'final', 'finally', 'finances', 'financial', 'financially', 'finding', 'finds', 'fine', 'finger', 'fingernails', 'fingers', 'fingertips', 'finish', 'finished', 'finishes', 'finishing', 'fiona', 'firearm', 'fired', 'firefighter', 'fireworks', 'firm', 'firmly', 'firstborn', 'firstly', 'firsts', 'fish', 'fishing', 'fist', 'fit', 'fitness', 'fits', 'fitted', 'fitting', 'fix', 'fixed', 'fixing', 'fk4tym', 'fl', 'flag', 'flags', 'flap', 'flash', 'flashbacks', 'flashes', 'flashing', 'flashlight', 'flat', 'flavor', 'flawed', 'fleeting', 'flesh', 'flew', 'flex', 'flexibility', 'flexible', 'flick', 'flies', 'flight', 'flights', 'flip', 'flipped', 'flippin', 'flipping', 'float', 'floating', 'flood', 'flooding', 'floor', 'floors', 'flops', 'florida', 'flour', 'flow', 'flower', 'flowers', 'flowing', 'flown', 'flows', 'flu', 'fluid', 'fluids', 'flush', 'flushing', 'fly', 'flyer', 'flying', 'fmla', 'foam', 'focus', 'focused', 'focuses', 'focusing', 'fold', 'folded', 'folder', 'folding', 'folds', 'folk', 'folks', 'follow', 'followed', 'following', 'follows', 'fond', 'fondly', 'font', 'food', 'foods', 'fool', 'foolish', 'foot', 'footage', 'football', 'foothold', 'footsteps', 'footwear', 'forbid', 'forbidden', 'force', 'forced', 'forcefully', 'forceps', 'forces', 'forcibly', 'forcing', 'ford', 'forearm', 'forehead', 'foremost', 'foreseeable', 'foreskin', 'foreskins', 'forest', 'forester', 'forever', 'forge', 'forget', 'forgets', 'forgive', 'forgiveness', 'forgiving', 'forgot', 'forgotten', 'fork', 'form', 'formal', 'format', 'formative', 'formed', 'forming', 'forms', 'formula', 'formulas', 'fort', 'forth', 'fortitude', 'fortnite', 'forts', 'fortunate', 'fortunately', 'fortune', 'forum', 'forums', 'forward', 'forwards', 'foster', 'fostering', 'fought', 'foundation', 'fountain', 'fours', 'fourth', 'fox', 'fraction', 'fractions', 'fractured', 'fragile', 'frame', 'framed', 'frames', 'france', 'franchise', 'francisco', 'frank', 'frankly', 'frantic', 'fraternal', 'freak', 'freaked', 'freakin', 'freaking', 'freaks', 'free', 'freedom', 'freelance', 'freeze', 'freezer', 'freezing', 'french', 'frequent', 'frequently', 'fresh', 'fret', 'friction', 'frictionless', 'frida', 'friday', 'fridays', 'fridge', 'fried', 'friend', 'friendly', 'friends', 'friendship', 'fries', 'friggin', 'frightened', 'frightening', 'frog', 'fronts', 'frozen', 'fruit', 'fruits', 'frustrated', 'frustrates', 'frustrating', 'frustration', 'frustrations', 'fry', 'ft', 'fuck', 'fucked', 'fuckin', 'fucking', 'fucks', 'fuel', 'fulfill', 'fulfilled', 'fulfilling', 'fully', 'fun', 'function', 'functional', 'functioning', 'functions', 'fund', 'funding', 'funds', 'funeral', 'funk', 'funky', 'funniest', 'funny', 'fur', 'furious', 'furiously', 'furloughed', 'furniture', 'furthermore', 'fuse', 'fused', 'fuss', 'fussiness', 'fussing', 'fussy', 'future', 'fuzzy', 'fwiw', 'fyi', 'ga', 'gadgets', 'gag', 'gagging', 'gain', 'gained', 'gaining', 'gains', 'galaxy', 'gallery', 'gallon', 'galore', 'game', 'gamer', 'gamers', 'games', 'gaming', 'gang', 'gap', 'gaps', 'garage', 'garbage', 'garden', 'gardening', 'garlic', 'gas', 'gasoline', 'gasp', 'gassiness', 'gassy', 'gate', 'gatekeeping', 'gates', 'gather', 'gathered', 'gauge', 'gauze', 'gave', 'gay', 'gazing', 'gclid', 'ge', 'gear', 'geared', 'gears', 'gee', 'geek', 'geeky', 'geez', 'gel', 'gen', 'gender', 'gendered', 'gene', 'general', 'generally', 'generate', 'generation', 'generational', 'generations', 'generator', 'generic', 'generosity', 'generous', 'genes', 'genesis', 'genetic', 'genetically', 'genetics', 'genie', 'genital', 'genitalia', 'genitals', 'genius', 'gentle', 'gentleman', 'gently', 'genuine', 'genuinely', 'geographic', 'geometric', 'george', 'georgia', 'gerber', 'germ', 'german', 'germany', 'germs', 'gestational', 'gesture', 'gestures', 'gets', 'gettin', 'getting', 'gf', 'gfycat', 'ghost', 'gi', 'giant', 'giants', 'gibberish', 'gif', 'gift', 'gifted', 'gifts', 'gig', 'gigantic', 'giggle', 'giggled', 'giggles', 'gigglez', 'giggling', 'gin', 'ginger', 'giraffe', 'girl', 'girldad', 'girlfriend', 'girlfriends', 'girls', 'girly', 'github', 'given', 'giver', 'gives', 'giving', 'gl', 'glad', 'gladly', 'glance', 'glanced', 'glands', 'glans', 'glare', 'glass', 'glasses', 'glee', 'glenn', 'glide', 'glidelok', 'glider', 'gliding', 'glimpse', 'glitter', 'global', 'globe', 'glorious', 'glory', 'glove', 'gloves', 'glow', 'glue', 'glued', 'gmail', 'gnarly', 'gnaw', 'gnawing', 'goal', 'goals', 'goat', 'god', 'goddamn', 'goddamned', 'godfather', 'godparents', 'gods', 'godsend', 'godspeed', 'godzilla', 'goes', 'gofundme', 'goin', 'going', 'gold', 'golden', 'goldfish', 'golf', 'gone', 'gonna', 'goo', 'good', 'goodbye', 'goodies', 'goodness', 'goodnight', 'goods', 'goof', 'goofing', 'goofy', 'google', 'googled', 'googling', 'goose', 'gorgeous', 'gosh', 'got', 'gotcha', 'gotta', 'gotten', 'gov', 'government', 'governor', 'gown', 'gowns', 'gp', 'grab', 'grabbed', 'grabbing', 'grabs', 'grace', 'graceful', 'gracious', 'graco', 'grad', 'grade', 'grades', 'gradual', 'gradually', 'graduate', 'graduated', 'graduates', 'graduating', 'graduation', 'grain', 'grammar', 'grams', 'grand', 'grandchild', 'grandchildren', 'granddaughter', 'grandfather', 'grandfathers', 'grandkid', 'grandkids', 'grandma', 'grandmas', 'grandmother', 'grandpa', 'grandparent', 'grandparents', 'grandpas', 'grandson', 'granny', 'grant', 'granted', 'grapes', 'graph', 'grasp', 'grasping', 'grass', 'grated', 'grateful', 'grates', 'gratingly', 'gratitude', 'grats', 'gravel', 'graves', 'graveyard', 'gravity', 'gray', 'grease', 'great', 'greater', 'greatest', 'greatly', 'greek', 'green', 'greener', 'greet', 'greeted', 'greeting', 'greg', 'grew', 'grey', 'grid', 'grief', 'grieve', 'grieving', 'grill', 'grin', 'grind', 'grinning', 'grins', 'grip', 'gripe', 'grips', 'grit', 'groceries', 'grocery', 'groggy', 'groin', 'groove', 'gross', 'grossest', 'grouchy', 'ground', 'grounded', 'grounding', 'grounds', 'group', 'groupon', 'groups', 'grow', 'growing', 'growler', 'grown', 'grownups', 'grows', 'growth', 'grudge', 'grudges', 'gruffalo', 'grumble', 'grumpy', 'grunt', 'gt', 'gtube', 'guac', 'guarantee', 'guaranteed', 'guard', 'guardian', 'guess', 'guessed', 'guessing', 'guest', 'guests', 'guidance', 'guide', 'guided', 'guidelines', 'guides', 'guiding', 'guilt', 'guilty', 'guitar', 'gum', 'gummy', 'gums', 'gun', 'gunna', 'guns', 'guppies', 'gut', 'guthrie', 'guts', 'gutters', 'gutting', 'guy', 'guys', 'gym', 'gymnastics', 'gyms', 'gyn', 'ha', 'habit', 'habits', 'hacked', 'hadn', 'hah', 'haha', 'hahah', 'hahaha', 'hahahaha', 'hahahahaha', 'hail', 'hair', 'haircut', 'hairline', 'hairs', 'hairy', 'half', 'halfway', 'hall', 'halloween', 'hallway', 'halo', 'halt', 'halve', 'ham', 'hamburgers', 'hamish', 'hammer', 'hammered', 'hammock', 'hamper', 'hand', 'handed', 'handful', 'handing', 'handle', 'handled', 'handles', 'handling', 'handover', 'hands', 'handsome', 'handwriting', 'handy', 'handyman', 'hang', 'hanger', 'hanging', 'hangouts', 'hangover', 'hangry', 'hangs', 'hannibal', 'happen', 'happened', 'happening', 'happens', 'happier', 'happiest', 'happily', 'happiness', 'happy', 'harassed', 'harassment', 'hard', 'hardcore', 'hardened', 'harder', 'hardest', 'hardly', 'hardship', 'hardships', 'hardware', 'hardwood', 'harm', 'harmful', 'harming', 'harmless', 'harmony', 'harness', 'harper', 'harry', 'harsh', 'harvey', 'hasn', 'hassle', 'hat', 'hatch', 'hate', 'hated', 'hates', 'hating', 'hatred', 'hats', 'haul', 'haunt', 'haunted', 'haven', 'havent', 'having', 'hawaii', 'hawk', 'hawks', 'hazard', 'hazards', 'haze', 'he_sent_it', 'head', 'headache', 'headaches', 'headed', 'header', 'heading', 'headphones', 'heads', 'headspace', 'heal', 'healed', 'healing', 'health', 'healthcare', 'healthier', 'healthy', 'heap', 'hear', 'heard', 'hearing', 'hears', 'heart', 'heartache', 'heartbeat', 'heartbreak', 'heartbreaking', 'heartbroken', 'heartburn', 'hearted', 'heartless', 'hearts', 'heartstrings', 'heartwarming', 'heat', 'heated', 'heater', 'heating', 'heaven', 'heavier', 'heavily', 'heavy', 'heck', 'hectic', 'heel', 'hefty', 'heh', 'hehe', 'height', 'held', 'helicopter', 'hell', 'hello', 'helluva', 'helmet', 'helmets', 'help', 'helped', 'helper', 'helpful', 'helping', 'helpless', 'helplessness', 'helps', 'hematoma', 'henry', 'heres', 'hernia', 'hero', 'heroes', 'heroin', 'hes', 'hesitant', 'hesitate', 'hesitation', 'hey', 'hi', 'hiccups', 'hid', 'hidden', 'hide', 'hides', 'hiding', 'high', 'higher', 'highest', 'highlight', 'highlights', 'highly', 'highs', 'highschool', 'hike', 'hikes', 'hiking', 'hilarious', 'hill', 'hind', 'hindsight', 'hint', 'hip', 'hips', 'hire', 'hired', 'hiring', 'historical', 'history', 'hit', 'hits', 'hitting', 'hiv', 'hm', 'hmm', 'hmmm', 'hoarding', 'hobbies', 'hobby', 'hockey', 'hog', 'hold', 'holder', 'holders', 'holding', 'holds', 'hole', 'holes', 'holiday', 'holidays', 'hollow', 'holy', 'home', 'homeless', 'homemade', 'homer', 'homes', 'homeschool', 'homeschooling', 'homework', 'homie', 'homophobic', 'honda', 'honest', 'honestly', 'honesty', 'honey', 'honeymoon', 'hong', 'honor', 'honorable', 'honorary', 'hoo', 'hood', 'hoodie', 'hook', 'hooked', 'hooks', 'hoot', 'hop', 'hope', 'hoped', 'hopeful', 'hopefully', 'hopes', 'hoping', 'horizon', 'horizontal', 'hormonal', 'hormones', 'horn', 'horny', 'horrendous', 'horrible', 'horribly', 'horrifying', 'horror', 'horse', 'horses', 'hose', 'hospital', 'hospitalized', 'hospitals', 'host', 'hostile', 'hot', 'hotel', 'hotwheels', 'hour', 'hourly', 'hours', 'house', 'household', 'houses', 'housework', 'housing', 'houston', 'hover', 'hp', 'hr', 'hrs', 'hs', 'hsa', 'html', 'http', 'https', 'hubby', 'hubris', 'hug', 'huge', 'hugged', 'huggies', 'hugging', 'hugs', 'huh', 'hulk', 'hulu', 'human', 'humanistic', 'humanity', 'humanly', 'humans', 'humdinger', 'humor', 'humour', 'hump', 'hundreds', 'hung', 'hunger', 'hungry', 'hunt', 'hunter', 'hunting', 'hurry', 'hurt', 'hurtful', 'hurting', 'hurts', 'husband', 'husbands', 'hybrid', 'hydrated', 'hygiene', 'hyper', 'hypothetical', 'hysterical', 'hyundai', 'ibuprofen', 'ice', 'icing', 'icu', 'id', 'idea', 'ideal', 'ideally', 'ideals', 'ideas', 'identical', 'identified', 'identify', 'identifying', 'identity', 'idiot', 'idiots', 'idk', 'ifs', 'ignorance', 'ignorant', 'ignore', 'ignored', 'ignoring', 'iirc', 'ikea', 'ill', 'illegal', 'illinois', 'illness', 'illnesses', 'im', 'ima', 'image', 'images', 'imaginable', 'imaginary', 'imagination', 'imagine', 'imagined', 'imaging', 'imagining', 'imgur', 'imho', 'imma', 'immature', 'immaturity', 'immediate', 'immediately', 'immense', 'immensely', 'immune', 'immunity', 'immunizations', 'imo', 'impact', 'impacts', 'imperial', 'implement', 'implication', 'implications', 'implied', 'imply', 'import', 'importance', 'important', 'importantly', 'impose', 'imposed', 'imposing', 'impossible', 'impressed', 'impression', 'impressive', 'improve', 'improved', 'improvement', 'improves', 'improving', 'impulse', 'impulsive', 'inability', 'inadequate', 'inane', 'inappropriate', 'incapable', 'incase', 'incentive', 'inch', 'inches', 'incident', 'incidents', 'incision', 'incline', 'include', 'included', 'includes', 'including', 'inclusion', 'income', 'incoming', 'incompetent', 'inconsolable', 'inconvenient', 'incorporate', 'incorporating', 'incorrect', 'incorrectly', 'increase', 'increased', 'increases', 'increasing', 'incredible', 'incredibly', 'increments', 'indefinitely', 'independence', 'independent', 'independently', 'indescribable', 'index', 'india', 'indian', 'indicate', 'indicated', 'indication', 'indicative', 'indifferent', 'individual', 'individually', 'individuals', 'indoor', 'indoors', 'induce', 'induced', 'inducing', 'induction', 'inductions', 'industrial', 'industry', 'inefficient', 'inequality', 'inevitable', 'inevitably', 'inexpensive', 'inexperienced', 'inexplicably', 'infancy', 'infant', 'infants', 'infected', 'infecting', 'infection', 'infections', 'infectious', 'infertility', 'infidelity', 'infinite', 'infinitely', 'infinity', 'inflammatory', 'inflatable', 'inflicted', 'influence', 'influenza', 'info', 'inform', 'information', 'informative', 'informed', 'infuriating', 'ing', 'ingenuity', 'ingest', 'ingrained', 'ingredients', 'inhale', 'inherent', 'inherently', 'inherited', 'initial', 'initially', 'initiate', 'injection', 'injure', 'injured', 'injuries', 'injury', 'injustice', 'inner', 'innocent', 'input', 'ins', 'insane', 'insanely', 'insanity', 'insecure', 'insecurities', 'insensitive', 'insert', 'inserts', 'inside', 'insight', 'insignificant', 'insist', 'insisted', 'insisting', 'insists', 'inspected', 'inspiration', 'inspirational', 'inspire', 'inspired', 'inspiring', 'insta', 'instagram', 'install', 'installation', 'installed', 'installing', 'instance', 'instances', 'instant', 'instantly', 'instead', 'instill', 'instinct', 'instincts', 'institution', 'instruction', 'instructions', 'instructor', 'instrument', 'insulation', 'insult', 'insulting', 'insurance', 'insurmountable', 'intact', 'intake', 'integrity', 'intelligence', 'intelligent', 'intend', 'intended', 'intense', 'intensely', 'intensity', 'intention', 'intentional', 'intentionally', 'intentions', 'interact', 'interacting', 'interaction', 'interactions', 'interactive', 'interested', 'interesting', 'interests', 'interfere', 'interference', 'interior', 'internal', 'internally', 'international', 'internet', 'interpret', 'interrupt', 'interrupted', 'interruption', 'intervals', 'intervene', 'intervention', 'interview', 'intestinal', 'intimidating', 'intolerance', 'intolerant', 'introduce', 'introduced', 'introducing', 'intrusive', 'intuition', 'intuitive', 'invaded', 'invaluable', 'invasive', 'invented', 'invest', 'invested', 'investing', 'investment', 'invisible', 'invite', 'involve', 'involved', 'involvement', 'involves', 'involving', 'io', 'ion', 'ios_app', 'iossmf', 'iowa', 'ip', 'ipa', 'ipad', 'ipads', 'iphone', 'iphones', 'irish', 'iron', 'ironic', 'ironically', 'irony', 'irrational', 'irregular', 'irrelevant', 'irresponsible', 'irritated', 'irritating', 'ish', 'island', 'isn', 'isnt', 'isolate', 'isolated', 'isolating', 'isolation', 'issue', 'issued', 'issues', 'item', 'items', 'itll', 'its_time_boys', 'iui', 'iv', 'ive', 'ivf', 'ivy', 'jack', 'jacket', 'jackets', 'jail', 'jam', 'jamcowl', 'james', 'jammies', 'jamming', 'jan', 'janetlansbury', 'january', 'japan', 'japanese', 'jar', 'jars', 'jason', 'jaundice', 'jaw', 'jazz', 'jealous', 'jealousy', 'jean', 'jeans', 'jedi', 'jeep', 'jeez', 'jelly', 'jensen', 'jerk', 'jerks', 'jerry', 'jersey', 'jesus', 'jewish', 'jews', 'jigsaw', 'jim', 'jitsu', 'jiu', 'jk', 'jmu', 'job', 'jobs', 'joe', 'john', 'join', 'joined', 'joining', 'joins', 'joint', 'joints', 'joke', 'joker', 'jokes', 'joking', 'jokingly', 'jolly', 'jones', 'journal', 'journals', 'journey', 'joy', 'joyful', 'joys', 'jpg', 'jr', 'judge', 'judged', 'judgement', 'judgemental', 'judges', 'judging', 'judgment', 'juggle', 'juggling', 'jugs', 'juice', 'july', 'jump', 'jumped', 'jumper', 'jumping', 'jumps', 'june', 'junk', 'jurassic', 'just', 'justice', 'justification', 'justified', 'justify', 'karaoke', 'karate', 'karen', 'karma', 'karp', 'karson', 'kart', 'kasai', 'keeping', 'keeps', 'kellogg', 'kept', 'kerbal', 'keto', 'kettle', 'key', 'keyboard', 'keys', 'keyword', 'keywords', 'kg', 'kh', 'kh3', 'kia', 'kick', 'kicked', 'kicker', 'kicking', 'kicks', 'kid', 'kidding', 'kiddo', 'kiddos', 'kidnapping', 'kidney', 'kids', 'kidsfallingdown', 'kill', 'killed', 'killer', 'killing', 'kills', 'kimmel', 'kind', 'kinda', 'kinder', 'kindergarten', 'kindergartener', 'kindle', 'kindling', 'kindly', 'kindness', 'kindred', 'kinds', 'king', 'kingdom', 'kinks', 'kirby', 'kirkland', 'kiss', 'kissed', 'kisses', 'kissing', 'kit', 'kitchen', 'kits', 'kitty', 'kminder', 'knee', 'knees', 'knew', 'knife', 'knob', 'knobs', 'knock', 'knocked', 'knocking', 'knocks', 'knot', 'know', 'knowing', 'knowledge', 'known', 'knows', 'kobe', 'kong', 'korea', 'korean', 'kudos', 'kwh', 'kyle', 'kzreminderbot', 'la', 'label', 'labeled', 'labor', 'laboring', 'labour', 'labs', 'lack', 'lacking', 'lactation', 'lactose', 'lad', 'ladder', 'ladies', 'lady', 'laid', 'lake', 'lakes', 'lamb', 'lambs', 'lame', 'lamp', 'land', 'landed', 'landing', 'landscape', 'lane', 'language', 'languages', 'lap', 'laps', 'laptop', 'large', 'largely', 'larger', 'laser', 'lash', 'lashing', 'lasted', 'lasting', 'lastly', 'lasts', 'lastwritetime', 'latch', 'latched', 'latches', 'latching', 'late', 'lately', 'later', 'latest', 'laugh', 'laughable', 'laughed', 'laughing', 'laughs', 'laughter', 'launch', 'laundry', 'lavender', 'law', 'lawn', 'laws', 'lawsuits', 'lawyer', 'lawyers', 'lay', 'layer', 'layers', 'laying', 'layout', 'lays', 'lazy', 'lb', 'lbs', 'lead', 'leader', 'leaderboard', 'leading', 'leads', 'leaf', 'league', 'leak', 'leaked', 'leaking', 'leaky', 'lean', 'leaned', 'leaning', 'leans', 'leap', 'leaps', 'learn', 'learned', 'learning', 'learns', 'learnt', 'leash', 'leather', 'leave', 'leaves', 'leaving', 'lecture', 'led', 'leds', 'lee', 'leech', 'leeway', 'left', 'leftover', 'leftovers', 'leg', 'legacy', 'legal', 'legally', 'legend', 'legit', 'legitimate', 'legitimately', 'lego', 'legos', 'legs', 'lemme', 'lemon', 'lend', 'length', 'lens', 'lenses', 'leo', 'lesser', 'lesson', 'lessons', 'let', 'lethargic', 'lets', 'letter', 'letters', 'letting', 'leukemia', 'level', 'levels', 'lever', 'leverage', 'liability', 'libido', 'librarian', 'libraries', 'library', 'license', 'licensed', 'licensing', 'lick', 'lid', 'lie', 'lied', 'lies', 'life', 'lifeline', 'lifelong', 'lifesaver', 'lifestyle', 'lifetime', 'lift', 'lifted', 'lifting', 'light', 'lighten', 'lighter', 'lighting', 'lightly', 'lightning', 'lights', 'lightsaber', 'lightweight', 'like', 'liked', 'likelihood', 'likely', 'likes', 'likewise', 'liking', 'lil', 'lil_mans_got_his_big_surgery_tomorrow_morning_i', 'limb', 'limbs', 'limit', 'limited', 'limiting', 'limits', 'limp', 'linda', 'line', 'linear', 'lined', 'liner', 'lines', 'lining', 'link', 'linked', 'links', 'lion', 'lip', 'lips', 'liquid', 'liquor', 'list', 'listed', 'listen', 'listened', 'listening', 'listens', 'listing', 'listreminders', 'lists', 'lit', 'liter', 'literal', 'literally', 'literature', 'litter', 'little', 'littles', 'live', 'lived', 'liver', 'lives', 'living', 'll', 'llama', 'lmao', 'lo', 'load', 'loaded', 'loading', 'loads', 'loaf', 'loan', 'lobby', 'local', 'locally', 'located', 'location', 'locations', 'lock', 'lockdown', 'locked', 'locker', 'locking', 'locks', 'log', 'logging', 'logic', 'logical', 'logically', 'logistics', 'logo', 'lol', 'lolol', 'london', 'loneliness', 'lonely', 'long', 'longer', 'longest', 'look', 'looked', 'lookin', 'looking', 'lookout', 'looks', 'loop', 'loose', 'loosely', 'loosen', 'loosing', 'lord', 'lorelei', 'lose', 'loses', 'losing', 'loss', 'losses', 'lost', 'lot', 'lotion', 'lots', 'lottery', 'loud', 'louder', 'loudest', 'loudly', 'loudness', 'lounge', 'lousy', 'love', 'loved', 'lovely', 'loves', 'loving', 'lovingly', 'low', 'lowe', 'lower', 'lowering', 'lowes', 'lowest', 'lows', 'lsd', 'lt', 'lua', 'lube', 'luck', 'lucked', 'luckily', 'lucky', 'lucy', 'lug', 'luggage', 'luke', 'lullabies', 'lullaby', 'lumber', 'lump', 'lunatic', 'lunch', 'lunches', 'lung', 'lungs', 'lurk', 'lurker', 'lurking', 'luxuries', 'luxurious', 'luxury', 'lying', 'lyrics', 'lysol', 'ma', 'mac', 'machine', 'machines', 'macho', 'mad', 'madagascar', 'maddening', 'madela', 'mademesmile', 'madison', 'madly', 'madness', 'magazine', 'maggie', 'magic', 'magical', 'magically', 'magnet', 'magnetic', 'magnets', 'maiden', 'mail', 'main', 'mainland', 'mainly', 'maintain', 'maintained', 'maintaining', 'maintenance', 'major', 'majority', 'make', 'maker', 'makes', 'makeshift', 'makeup', 'making', 'male', 'males', 'malicious', 'mall', 'malls', 'malnourished', 'mam', 'mama', 'mamaroo', 'mamas', 'man', 'manage', 'manageable', 'managed', 'management', 'manager', 'managers', 'manages', 'managing', 'mandalorian', 'mandarin', 'mandatory', 'mane', 'mang', 'manhood', 'maniac', 'manic', 'manipulate', 'manipulation', 'manipulative', 'manliness', 'manly', 'manner', 'manners', 'mans', 'mantle', 'mantra', 'manual', 'manufacturer', 'map', 'march', 'marching', 'margin', 'mario', 'mark', 'marked', 'marker', 'markers', 'market', 'marketing', 'marketplace', 'marks', 'marriage', 'marriages', 'married', 'marry', 'marrying', 'marshall', 'marshmallow', 'marshmallows', 'marshmello', 'martial', 'marvel', 'mary', 'masculine', 'masculinity', 'mashed', 'mask', 'masking', 'masks', 'mass', 'massage', 'massager', 'massages', 'massaging', 'massive', 'massively', 'master', 'mastered', 'masterpiece', 'masters', 'masturbate', 'masturbating', 'mat', 'match', 'matching', 'mate', 'mater', 'material', 'materials', 'maternal', 'maternity', 'mates', 'math', 'mathematics', 'maths', 'matress', 'mats', 'matt', 'matter', 'mattered', 'matters', 'mattress', 'mattresses', 'mature', 'maturity', 'max', 'maxi', 'maxima', 'maximize', 'maximum', 'maybe', 'mayer', 'mayhem', 'mayo', 'mayoclinic', 'mayonnaise', 'mazda', 'mcdonald', 'meal', 'meals', 'mealtimes', 'mean', 'meaning', 'meaningful', 'meaningless', 'meanings', 'means', 'meant', 'meantime', 'measure', 'measured', 'measurement', 'measurements', 'measures', 'measuring', 'meat', 'mechanic', 'mechanical', 'mechanics', 'mechanism', 'mechanisms', 'meconium', 'med', 'medela', 'media', 'median', 'medical', 'medically', 'medicated', 'medication', 'medications', 'medicine', 'meditation', 'medium', 'meds', 'meet', 'meeting', 'meetings', 'meets', 'meetup', 'mega', 'megathread', 'meh', 'mellow', 'melody', 'melt', 'meltdown', 'meltdowns', 'melted', 'melting', 'melts', 'member', 'members', 'membership', 'membrane', 'meme', 'memes', 'memo', 'memorable', 'memories', 'memorize', 'memorized', 'memory', 'men', 'mend', 'mens', 'menstrual', 'mental', 'mentality', 'mentally', 'mention', 'mentioned', 'mentioning', 'mentions', 'menu', 'menus', 'meow', 'mercy', 'mere', 'merely', 'merge', 'merlin', 'merriam', 'merry', 'mesh', 'mesmerized', 'mess', 'message', 'messaged', 'messages', 'messaging', 'messed', 'messes', 'messing', 'messy', 'met', 'metal', 'metaphor', 'meters', 'method', 'methods', 'metric', 'metrics', 'mets', 'mg', 'mic', 'mice', 'michael', 'michelin', 'michigan', 'mickey', 'micky', 'micro', 'microfiber', 'micromanage', 'microwave', 'mid', 'middle', 'midgard', 'midnight', 'midst', 'midwest', 'midwife', 'midwives', 'mighty', 'mike', 'miku', 'mil', 'mild', 'milder', 'mildly', 'mile', 'mileage', 'miles', 'milestone', 'milestones', 'military', 'milk', 'milky', 'millennial', 'millennials', 'million', 'millions', 'mimic', 'min', 'mind', 'minded', 'mindedness', 'mindful', 'mindfulness', 'mindless', 'minds', 'mindset', 'minecraft', 'mines', 'mini', 'minimal', 'minimalist', 'minimally', 'minimize', 'minimum', 'minivan', 'minnesota', 'minor', 'minority', 'mins', 'mint', 'minus', 'minute', 'minutes', 'miracle', 'miracles', 'miraculous', 'miraculously', 'mirror', 'misbehaving', 'miscarriage', 'miscarriages', 'miscarried', 'misconception', 'misconceptions', 'miserable', 'misery', 'misfits', 'misplaced', 'misread', 'misreading', 'miss', 'missed', 'misses', 'missing', 'mission', 'missus', 'mistake', 'mistaken', 'mistakes', 'misty', 'misunderstand', 'misunderstood', 'mit', 'mitigate', 'mittens', 'mitts', 'miura', 'mix', 'mixed', 'mixing', 'ml', 'mm', 'mma', 'mo', 'moana', 'moaning', 'mobile', 'mobileproduct', 'mocked', 'mod', 'mode', 'model', 'modeled', 'modeling', 'modelling', 'models', 'modem', 'moderate', 'moderation', 'moderators', 'modern', 'modest', 'modified', 'modify', 'mods', 'mofo', 'moin', 'mojito', 'molars', 'mold', 'molded', 'molly', 'mom', 'moment', 'moments', 'momentum', 'momma', 'mommas', 'mommies', 'mommit', 'mommy', 'moms', 'mon', 'monday', 'mondays', 'monetary', 'money', 'monitor', 'monitored', 'monitoring', 'monitors', 'monkey', 'monkeys', 'monopoly', 'monster', 'monsters', 'monstrosity', 'montessori', 'month', 'monther', 'monthly', 'months', 'moo', 'mood', 'moody', 'moon', 'moose', 'mop', 'moral', 'morale', 'morally', 'morbid', 'morning', 'mornings', 'moronic', 'mortal', 'mortality', 'mortgage', 'mos', 'mother', 'motherfucker', 'motherhood', 'mothers', 'motion', 'motions', 'motivate', 'motivated', 'motivates', 'motivation', 'motivations', 'motivator', 'motor', 'motorcycle', 'motorcycles', 'motorola', 'motrin', 'motto', 'mount', 'mountain', 'mountains', 'mounted', 'mounting', 'mounts', 'mourn', 'mourning', 'mouse', 'mouth', 'mouths', 'moved', 'movement', 'movements', 'movers', 'moves', 'movie', 'movies', 'moving', 'mow', 'mowed', 'mower', 'mowers', 'mowing', 'mp_s_a_1_3', 'mph', 'mr', 'mri', 'mrs', 'ms', 'msg', 'mtb', 'mtg', 'mth', 'mucus', 'mud', 'muddy', 'muffin', 'muffins', 'mug', 'mulch', 'mullet', 'multi', 'multiple', 'multiplied', 'multiply', 'mum', 'mummy', 'mums', 'munchkin', 'munchkins', 'murder', 'murderous', 'muscle', 'muscles', 'museum', 'museums', 'mush', 'mushrooms', 'mushy', 'music', 'musical', 'musician', 'musicians', 'muslin', 'mustache', 'mustang', 'mustard', 'muster', 'mute', 'mutilate', 'mutilated', 'mutilating', 'mutilation', 'mutual', 'mutually', 'mvp', 'mylicon', 'mystery', 'myth', 'myths', 'n64', 'na', 'nagging', 'nah', 'nail', 'nailed', 'nailing', 'nails', 'naive', 'naked', 'named', 'names', 'naming', 'nana', 'nancy', 'nanit', 'nannies', 'nanny', 'nap', 'napkins', 'napped', 'nappies', 'napping', 'nappy', 'naps', 'naptime', 'narration', 'narrative', 'narrow', 'nasal', 'nasty', 'natal', 'national', 'native', 'natural', 'naturally', 'nature', 'natured', 'nausea', 'nauseous', 'navigate', 'navy', 'naw', 'nazg', 'nazi', 'nc', 'ncov', 'ne', 'near', 'nearby', 'nearing', 'nearly', 'neat', 'nebulizer', 'nebulous', 'necessarily', 'necessary', 'necessity', 'neck', 'need', 'needed', 'needing', 'needle', 'needles', 'needless', 'needlessly', 'needs', 'needy', 'negative', 'negatively', 'negatives', 'negativity', 'neglect', 'neglected', 'negligent', 'negotiate', 'negotiated', 'negotiations', 'neice', 'neighbor', 'neighborhood', 'neighbors', 'neighbours', 'nemo', 'neo', 'neonatal', 'nephew', 'nephews', 'nerd', 'nerdy', 'nerve', 'nerves', 'nervous', 'nes', 'ness', 'nest', 'nesting', 'net', 'netflix', 'netherlands', 'network', 'networks', 'neural', 'neurological', 'neurosurgeon', 'neutral', 'nevada', 'new', 'newborn', 'newborns', 'newel', 'newer', 'newest', 'newfound', 'news', 'newsletter', 'newson', 'newton', 'nextdoor', 'ng', 'nhs', 'nice', 'nicely', 'nicer', 'nices', 'nicest', 'nick', 'nickname', 'nicknames', 'nicu', 'nicuparents', 'niece', 'nieces', 'nigh', 'night', 'nightie', 'nightlight', 'nightlights', 'nightly', 'nightmare', 'nightmares', 'nights', 'nightstand', 'nighttime', 'nineteen', 'ninja', 'nintendo', 'nip', 'nipple', 'nipples', 'nips', 'nissan', 'nj', 'noble', 'nocookie', 'nod', 'noggin', 'noise', 'noises', 'noisy', 'nolie', 'non', 'nonetheless', 'nonsense', 'nonstop', 'noodle', 'noodles', 'nooks', 'noon', 'nope', 'nora', 'norm', 'normal', 'normalcy', 'normality', 'normalized', 'normally', 'norms', 'norovirus', 'north', 'northern', 'norton', 'norway', 'norwegian', 'norwood', 'nose', 'nosefrida', 'noses', 'nostalgia', 'nostalgic', 'nostril', 'nostrils', 'notch', 'note', 'noted', 'notes', 'nothin', 'notice', 'noticeable', 'noticed', 'notices', 'noticing', 'notification', 'notifications', 'noting', 'notion', 'notions', 'nourish', 'novel', 'novelty', 'november', 'novice', 'nowadays', 'np', 'nuances', 'nuclear', 'nudge', 'nudging', 'nudity', 'nugget', 'nuggets', 'numb', 'number', 'numbered', 'numbers', 'numbing', 'numerous', 'nurse', 'nursed', 'nurseries', 'nursery', 'nurses', 'nursing', 'nurture', 'nurturing', 'nut', 'nutrients', 'nutrition', 'nutritional', 'nuts', 'ny', 'nyc', 'nye', 'nystatin', 'nytimes', 'nz', 'o2', 'oatmeal', 'ob', 'obesity', 'obgyn', 'object', 'objective', 'objectively', 'objects', 'obligations', 'oblivion', 'oblivious', 'obnoxious', 'observant', 'observation', 'observe', 'observed', 'observing', 'obsess', 'obsessed', 'obsessing', 'obsession', 'obsessive', 'obsessively', 'obstacle', 'obstacles', 'obstinate', 'obstructed', 'obv', 'obvious', 'obviously', 'occasion', 'occasional', 'occasionally', 'occasions', 'occupied', 'occupies', 'occupy', 'occur', 'occurred', 'occurs', 'ocd', 'ocean', 'oct', 'october', 'odd', 'oddly', 'odds', 'odor', 'odyssey', 'ofc', 'offence', 'offended', 'offense', 'offensive', 'offer', 'offered', 'offering', 'offers', 'office', 'officer', 'officers', 'offices', 'official', 'officially', 'offset', 'offspring', 'oh', 'ohio', 'oil', 'oils', 'ointment', 'ok', 'okay', 'ol', 'old', 'older', 'oldest', 'olds', 'ole', 'olive', 'oliver', 'omfg', 'omg', 'onboard', 'ones', 'onesie', 'onesies', 'ongoing', 'onions', 'online', 'onset', 'onsies', 'ontario', 'oof', 'ooooh', 'oops', 'op', 'open', 'opened', 'opening', 'openings', 'openly', 'opens', 'operate', 'operated', 'operating', 'operation', 'operations', 'opinion', 'opinions', 'opportunities', 'opportunity', 'opposed', 'opposite', 'ops', 'opt', 'opted', 'optics', 'optimal', 'optimistic', 'option', 'options', 'optoutrequest', 'orajel', 'oral', 'orange', 'ordeal', 'order', 'ordered', 'ordering', 'orders', 'ordinary', 'oregon', 'org', 'organic', 'organization', 'organizations', 'organize', 'organized', 'oriented', 'original', 'originally', 'orion', 'osprey', 'ot', 'otr', 'otter', 'ottoman', 'ouch', 'ought', 'ounce', 'ounces', 'outback', 'outbreak', 'outcome', 'outcomes', 'outdated', 'outdoor', 'outdoors', 'outer', 'outfit', 'outfits', 'outgrew', 'outlet', 'outlets', 'outlier', 'outline', 'outlook', 'outnumbered', 'outright', 'outs', 'outside', 'outta', 'outweigh', 'outweighs', 'oven', 'overall', 'overcome', 'overdue', 'overflowing', 'overhead', 'overkill', 'overlap', 'overload', 'overlooked', 'overly', 'overnight', 'overnights', 'overreacting', 'override', 'overthinking', 'overtired', 'overweight', 'overwhelm', 'overwhelmed', 'overwhelming', 'owe', 'owl', 'owlet', 'owned', 'owner', 'owners', 'owning', 'owns', 'oxygen', 'oxytocin', 'oz', 'pa', 'pace', 'paced', 'paci', 'pacific', 'pacifica', 'pacifier', 'pacifiers', 'pacing', 'pack', 'package', 'packages', 'packed', 'packers', 'packets', 'packing', 'packs', 'pad', 'padded', 'padding', 'pads', 'paediatric', 'paediatrician', 'page', 'pages', 'paid', 'pail', 'pain', 'painful', 'pains', 'paint', 'painted', 'painting', 'paints', 'pair', 'paired', 'pairs', 'pajamas', 'pakistan', 'pal', 'palate', 'palm', 'pals', 'pampers', 'pan', 'pancake', 'pancakes', 'panda', 'pandemic', 'panic', 'panicked', 'panicking', 'pans', 'pantry', 'pants', 'papa', 'paper', 'papers', 'paperwork', 'par', 'paracetamol', 'parade', 'paragraph', 'paralyzed', 'paramedic', 'paranoid', 'pardon', 'parent', 'parental', 'parenthood', 'parenting', 'parents', 'parentsofmultiples', 'paris', 'park', 'parking', 'parks', 'partial', 'partially', 'participate', 'participating', 'participation', 'particular', 'particularly', 'parties', 'partly', 'partner', 'partners', 'parts', 'partum', 'party', 'pass', 'passed', 'passenger', 'passes', 'passing', 'passion', 'passionate', 'passions', 'passive', 'passport', 'password', 'past', 'pasta', 'paste', 'pat', 'patch', 'patches', 'paternal', 'paternity', 'path', 'pathetic', 'paths', 'patience', 'patient', 'patiently', 'patients', 'patio', 'patriarchy', 'patrick', 'patrol', 'pats', 'pattern', 'patterns', 'patting', 'paul', 'pause', 'paw', 'pay', 'paycheck', 'payed', 'paying', 'payment', 'payments', 'payoff', 'paypal', 'pays', 'pbs', 'pc', 'pdf', 'pe', 'pea', 'peace', 'peaceful', 'peak', 'peanut', 'peanuts', 'peas', 'ped', 'pedal', 'pedaling', 'pedals', 'pedantic', 'pedi', 'pedialyte', 'pediatric', 'pediatrician', 'pediatricians', 'pediatrics', 'peds', 'pee', 'peed', 'peeing', 'peek', 'peekaboo', 'peel', 'peer', 'peers', 'pees', 'pegs', 'pelvis', 'pen', 'pencil', 'penelope', 'penis', 'penny', 'people', 'peoples', 'peppa', 'pepper', 'peppermint', 'perceived', 'percent', 'percentage', 'percentile', 'perfect', 'perfectly', 'perform', 'performance', 'performed', 'performing', 'period', 'periodically', 'periods', 'perks', 'permanent', 'permanently', 'permission', 'permit', 'persecuting', 'persevere', 'persistence', 'persistent', 'person', 'persona', 'personal', 'personalities', 'personality', 'personally', 'persons', 'perspective', 'perspectives', 'pet', 'pete', 'peter', 'pets', 'petty', 'ph', 'phae', 'phase', 'phases', 'phd', 'phenomenal', 'philips', 'phillips', 'philly', 'philosophy', 'phimosis', 'phone', 'phones', 'photo', 'photofolder', 'photogenic', 'photograph', 'photographer', 'photography', 'photos', 'photoshop', 'phototherapy', 'php', 'phrase', 'phrased', 'phrases', 'phrasing', 'physical', 'physically', 'physician', 'physicians', 'physics', 'pi', 'piano', 'pic', 'pick', 'picked', 'pickiness', 'picking', 'pickles', 'picks', 'pickup', 'picky', 'picnic', 'pics', 'picture', 'pictured', 'pictures', 'picu', 'pie', 'piece', 'pieces', 'pierce', 'pierced', 'piercing', 'pig', 'piggy', 'pigs', 'pikachu', 'pile', 'pill', 'pillow', 'pillows', 'pills', 'pin', 'pinch', 'pinches', 'pinching', 'pine', 'pink', 'pint', 'pinterest', 'pipe', 'piper', 'pipes', 'piss', 'pissed', 'pissing', 'pit', 'pitch', 'pitched', 'pitocin', 'pixel', 'pizza', 'pizzas', 'pj', 'pjs', 'place', 'placed', 'placement', 'placenta', 'places', 'placing', 'plague', 'plain', 'plan', 'plane', 'planet', 'planks', 'planned', 'planning', 'plans', 'plant', 'planted', 'planting', 'plants', 'plastered', 'plastic', 'plate', 'plates', 'platform', 'platforms', 'play', 'played', 'player', 'players', 'playfully', 'playground', 'playgrounds', 'playing', 'playlist', 'playpen', 'playroom', 'plays', 'playset', 'playstation', 'playtime', 'pleasant', 'pleasantly', 'pleased', 'pleasure', 'plenty', 'pliers', 'plop', 'plot', 'plotting', 'pls', 'plug', 'plugged', 'plugs', 'plumber', 'plumbing', 'plus', 'plush', 'ply', 'plywood', 'pm', 'pmwiki', 'pneumonia', 'png', 'pocket', 'pockets', 'poco', 'podcast', 'podcasts', 'poem', 'point', 'pointed', 'pointing', 'pointless', 'points', 'poison', 'poke', 'poked', 'pokemon', 'poking', 'pokémon', 'polar', 'pole', 'police', 'policies', 'policy', 'polish', 'polite', 'politely', 'political', 'politically', 'politics', 'pollution', 'pond', 'pony', 'ponytail', 'poo', 'pooh', 'pool', 'pools', 'poop', 'pooped', 'pooper', 'poopin', 'pooping', 'poops', 'poopy', 'poor', 'poorly', 'poos', 'pop', 'popbo', 'popcorn', 'pope', 'popped', 'popping', 'pops', 'popsicle', 'popsicles', 'popular', 'popularity', 'population', 'populations', 'porch', 'port', 'portable', 'portal', 'portion', 'portmanteau', 'portrait', 'portuguese', 'pose', 'posed', 'poses', 'position', 'positional', 'positions', 'positive', 'positively', 'positives', 'positivity', 'possessed', 'possessions', 'possibility', 'possible', 'possibly', 'post', 'posted', 'poster', 'posters', 'posting', 'postnatal', 'postpartum', 'postpone', 'postponed', 'posts', 'posture', 'pot', 'potato', 'potatoes', 'potential', 'potentially', 'pots', 'potter', 'potty', 'pouch', 'pouches', 'pound', 'pounder', 'pounding', 'pounds', 'pour', 'poured', 'pouring', 'powder', 'power', 'powered', 'powerful', 'powerless', 'powers', 'pp', 'ppd', 'ppe', 'ppl', 'pr', 'practical', 'practically', 'practice', 'practiced', 'practices', 'practicing', 'praise', 'pram', 'pray', 'prayer', 'prayers', 'praying', 'pre', 'precaution', 'precautions', 'precedent', 'precious', 'predaddit', 'predict', 'predictable', 'preemie', 'preemies', 'prefer', 'preferably', 'preference', 'preferences', 'preferred', 'prefers', 'pregnancies', 'pregnancy', 'pregnant', 'premature', 'premise', 'premium', 'prenatal', 'preoccupied', 'prep', 'preparation', 'prepare', 'prepared', 'preparing', 'prepped', 'prepping', 'prerequisite', 'presbyterian', 'preschool', 'preschooler', 'preschoolers', 'prescribe', 'prescribed', 'prescription', 'presence', 'present', 'presentation', 'presented', 'presenting', 'presents', 'president', 'press', 'pressed', 'pressing', 'pressure', 'pressured', 'presumably', 'presume', 'pretend', 'pretending', 'pretty', 'pretzel', 'prevalent', 'prevent', 'prevented', 'preventing', 'prevention', 'prevents', 'previous', 'previously', 'price', 'priced', 'priceless', 'prices', 'pricey', 'prick', 'pride', 'primarily', 'primary', 'prime', 'prince', 'princess', 'principles', 'print', 'printed', 'printing', 'prints', 'prior', 'priorities', 'prioritize', 'priority', 'prison', 'privacy', 'private', 'privately', 'privilege', 'prize', 'pro', 'proactive', 'prob', 'probably', 'probiotics', 'problem', 'problematic', 'problems', 'procedure', 'procedures', 'proceeded', 'proceeds', 'process', 'processed', 'processes', 'processing', 'produce', 'producing', 'product', 'production', 'productive', 'productivity', 'products', 'profanity', 'profession', 'professional', 'professionally', 'professionals', 'proficient', 'profile', 'profit', 'profitable', 'profound', 'program', 'programmed', 'programs', 'progress', 'progressed', 'progresses', 'progressive', 'project', 'projectile', 'projecting', 'projects', 'prolonged', 'prom', 'promise', 'promised', 'promises', 'promote', 'promotion', 'promptly', 'prone', 'pronounce', 'pronounced', 'proof', 'proofed', 'proofing', 'prop', 'proper', 'properly', 'property', 'propped', 'propping', 'props', 'pros', 'prospects', 'protect', 'protected', 'protecting', 'protection', 'protective', 'protector', 'protectors', 'protects', 'protein', 'proteins', 'protest', 'protip', 'proud', 'proudly', 'prove', 'proven', 'proves', 'provide', 'provided', 'provider', 'providers', 'provides', 'providing', 'province', 'prune', 'prunes', 'pry', 'ps', 'ps4', 'psa', 'psc', 'psych', 'psychiatrist', 'psycho', 'psychological', 'psychologically', 'psychologist', 'psychology', 'pt', 'pta', 'pto', 'ptsd', 'pub', 'puberty', 'public', 'puddle', 'puddles', 'puke', 'puked', 'puking', 'pull', 'pulled', 'pulling', 'pulls', 'pulse', 'pump', 'pumped', 'pumping', 'pumpkin', 'pumps', 'pun', 'punch', 'punched', 'punches', 'punching', 'punctuation', 'punish', 'punished', 'punishing', 'punishment', 'punishments', 'punk', 'pup', 'puppies', 'puppy', 'purchase', 'purchased', 'purchasing', 'pure', 'puree', 'pureed', 'purees', 'purely', 'purple', 'purpose', 'purposely', 'purposes', 'pursue', 'pursuits', 'push', 'pushchair', 'pushed', 'pushes', 'pushing', 'pushy', 'pussy', 'puts', 'putting', 'puzzle', 'puzzles', 'pyjamas', 'qid', 'qualified', 'qualify', 'quality', 'quantity', 'quantum', 'quarantine', 'quarantined', 'quarter', 'queen', 'quest', 'question', 'questionable', 'questioned', 'questioning', 'questions', 'queues', 'quick', 'quicker', 'quickly', 'quiet', 'quieter', 'quietly', 'quinn', 'quintuplets', 'quirk', 'quit', 'quite', 'quitting', 'quiz', 'quo', 'quote', 'quotes', 'rabbit', 'race', 'racing', 'racism', 'racist', 'rack', 'rad', 'radar', 'radical', 'radio', 'raelee', 'raffi', 'rag', 'rage', 'ragged', 'raging', 'ragnar', 'rail', 'railing', 'rails', 'rain', 'rainbow', 'rainbows', 'raining', 'rainy', 'raise', 'raised', 'raises', 'raising', 'ram', 'ramp', 'ramped', 'ran', 'random', 'randomly', 'rang', 'range', 'ranger', 'ranks', 'rant', 'ranting', 'rap', 'rape', 'rapid', 'rapidly', 'rare', 'rarely', 'rash', 'raspberry', 'rate', 'rated', 'rates', 'rational', 'rationally', 'rats', 'raw', 'ray', 'razor', 'rc', 'reach', 'reached', 'reaches', 'reaching', 'react', 'reacted', 'reacting', 'reaction', 'reactions', 'reactive', 'reacts', 'read', 'reading', 'readings', 'reads', 'ready', 'real', 'realise', 'realised', 'realising', 'realistic', 'realistically', 'reality', 'realization', 'realize', 'realized', 'realizes', 'realizing', 'really', 'realm', 'realy', 'rear', 'rearing', 'reason', 'reasonable', 'reasonably', 'reasoned', 'reasoning', 'reasons', 'reassurance', 'reassure', 'reassuring', 'rebel', 'rebuilt', 'rec', 'recall', 'receive', 'received', 'receiver', 'receiving', 'recent', 'recently', 'receptive', 'receptors', 'recharge', 'recieve', 'recipe', 'recipes', 'recital', 'recitals', 'reckon', 'recline', 'recliner', 'reclining', 'recognise', 'recognition', 'recognize', 'recognized', 'recognizes', 'recognizing', 'recollection', 'recommend', 'recommendation', 'recommendations', 'recommended', 'recommending', 'recommends', 'reconciled', 'reconnect', 'record', 'recorded', 'recording', 'records', 'recount', 'recover', 'recovered', 'recovering', 'recovers', 'recovery', 'recreating', 'recruit', 'rectal', 'recurring', 'recycle', 'recycling', 'red', 'redd', 'reddit', 'redditdads', 'redditor', 'redditors', 'redditspeedbot', 'redhead', 'redirect', 'redirecting', 'redirection', 'reduce', 'reduced', 'reduces', 'reducing', 'reduction', 'redundant', 'reevaluate', 'ref', 'refer', 'reference', 'references', 'referral', 'referred', 'referring', 'refers', 'refills', 'refined', 'reflect', 'reflecting', 'reflection', 'reflex', 'reflexes', 'reflux', 'refrigerator', 'refund', 'refuse', 'refused', 'refuses', 'refusing', 'reg', 'regard', 'regarding', 'regardless', 'regards', 'region', 'regional', 'register', 'registered', 'registry', 'regressed', 'regression', 'regressions', 'regret', 'regrets', 'regretted', 'regular', 'regularly', 'regulate', 'regulated', 'regulation', 'rehab', 'reheat', 'reign', 'reinforce', 'reinforcement', 'reinforces', 'reinforcing', 'reject', 'rejected', 'rejecting', 'relatable', 'relate', 'related', 'relates', 'relating', 'relation', 'relationship', 'relationships', 'relative', 'relatively', 'relatives', 'relax', 'relaxed', 'relaxes', 'relaxing', 'release', 'released', 'relevant', 'reliable', 'reliant', 'relief', 'relieve', 'relieved', 'religion', 'religious', 'relocated', 'reluctantly', 'rely', 'relying', 'remain', 'remainder', 'remaining', 'remark', 'remarkable', 'remarkably', 'remember', 'remembered', 'remembering', 'remembers', 'remind', 'reminddit', 'reminded', 'reminder', 'reminder_id', 'reminders', 'reminding', 'reminds', 'remodeled', 'remote', 'remotely', 'remotes', 'removal', 'removals', 'remove', 'removed', 'removes', 'removing', 'ren', 'rent', 'rented', 'renting', 'rep', 'repair', 'repeat', 'repeated', 'repeatedly', 'repeating', 'repeats', 'repercussions', 'repetition', 'repetitive', 'replace', 'replaced', 'replacement', 'replacing', 'replicate', 'replied', 'replies', 'reply', 'replying', 'report', 'reported', 'reporting', 'reports', 'repost', 'reputable', 'request', 'requests', 'require', 'required', 'requirement', 'requirements', 'requires', 'requiring', 'rescue', 'rescued', 'research', 'researchers', 'researching', 'resemble', 'resent', 'resentful', 'resentment', 'reserve', 'reserves', 'reset', 'resident', 'residual', 'resilience', 'resilient', 'resist', 'resistance', 'resistant', 'resisting', 'resolution', 'resolve', 'resolved', 'resonate', 'resort', 'resource', 'resources', 'respect', 'respectful', 'respecting', 'respects', 'respiratory', 'respond', 'responded', 'responding', 'responds', 'response', 'responses', 'responsibilities', 'responsibility', 'responsible', 'responsibly', 'responsive', 'rest', 'restart', 'restaurant', 'restaurants', 'rested', 'resting', 'restless', 'restoration', 'restore', 'restraint', 'restrictions', 'restroom', 'rests', 'result', 'resulted', 'results', 'resume', 'retain', 'rethink', 'retired', 'retirement', 'retract', 'retrospect', 'return', 'returned', 'returning', 'returns', 'reveal', 'revenge', 'reversal', 'reverse', 'reversed', 'reversible', 'review', 'reviews', 'revise', 'revision', 'revolve', 'reward', 'rewarding', 'rewards', 'rewatch', 'rewatching', 'rex', 'rhyme', 'rhymes', 'rhythm', 'ribs', 'rice', 'rich', 'rid', 'ride', 'rider', 'rides', 'ridiculous', 'ridiculously', 'riding', 'rifle', 'rig', 'right', 'righteous', 'rightfully', 'rights', 'rigid', 'ring', 'ringing', 'rings', 'rinse', 'riot', 'rip', 'ripped', 'rise', 'riser', 'rising', 'risk', 'risking', 'risks', 'risky', 'ritual', 'river', 'rn', 'road', 'robe', 'robin', 'roblox', 'robot', 'rock', 'rocked', 'rocker', 'rocket', 'rockets', 'rocking', 'rocks', 'rockstar', 'rod', 'rode', 'rods', 'rogers', 'roku', 'role', 'roles', 'roll', 'rolled', 'roller', 'rollercoaster', 'rolling', 'rolls', 'romantic', 'roof', 'rookie', 'room', 'rooms', 'root', 'rooting', 'roots', 'rope', 'rose', 'roses', 'rotate', 'rotated', 'rotation', 'rough', 'roughly', 'round', 'rounded', 'rounds', 'route', 'router', 'routine', 'routinely', 'routines', 'row', 'rows', 'royal', 'rsv', 'rub', 'rubbed', 'rubber', 'rubbing', 'rubs', 'ruby', 'rude', 'rug', 'rugs', 'ruin', 'ruined', 'rule', 'ruled', 'rules', 'rum', 'run', 'runner', 'running', 'runny', 'runs', 'ruptured', 'rural', 'rush', 'rushed', 'rushing', 'russian', 'ryder', 'ryker', 'sack', 'sacks', 'sacrifice', 'sacrifices', 'sacrificing', 'sad', 'sadly', 'sadness', 'safe', 'safely', 'safer', 'safest', 'safety', 'sahd', 'sahm', 'said', 'sailing', 'saint', 'sake', 'salary', 'sale', 'sales', 'saline', 'salt', 'salty', 'salute', 'salvage', 'sam', 'sample', 'san', 'sand', 'sandals', 'sandbox', 'sanding', 'sandwich', 'sandwiches', 'sane', 'sang', 'sanitize', 'sanitizer', 'sanity', 'sans', 'santa', 'sarcasm', 'sarcastic', 'sass', 'sat', 'satisfaction', 'satisfied', 'satisfying', 'saturday', 'saturdays', 'saturn', 'sauce', 'savage', 'save', 'saved', 'saver', 'saves', 'saving', 'savings', 'savor', 'savvy', 'saw', 'say', 'saying', 'says', 'sb', 'scab', 'scale', 'scam', 'scan', 'scar', 'scare', 'scared', 'scares', 'scarf', 'scarier', 'scariest', 'scaring', 'scarlett', 'scarring', 'scars', 'scary', 'scattered', 'scavenger', 'scenario', 'scenarios', 'scene', 'schedule', 'scheduled', 'schedules', 'scheduling', 'scheme', 'school', 'schoolclosuresanitycheck', 'schooling', 'schools', 'schoolwork', 'science', 'scientific', 'scientifically', 'scientist', 'scissors', 'scolded', 'scoop', 'scoops', 'scooter', 'scooters', 'scope', 'score', 'scotch', 'scouts', 'scrambling', 'scrap', 'scrape', 'scraps', 'scratch', 'scratched', 'scratches', 'scratching', 'scream', 'screamed', 'screaming', 'screams', 'screeching', 'screen', 'screening', 'screens', 'screenshot', 'screw', 'screwed', 'screwing', 'screws', 'script', 'scroll', 'scrolling', 'scrotum', 'scrub', 'scrubs', 'sd', 'se', 'sea', 'seal', 'sealed', 'sealer', 'sealing', 'search', 'searches', 'searching', 'season', 'seasonal', 'seasons', 'seat', 'seatbelt', 'seated', 'seating', 'seats', 'seattle', 'sec', 'second', 'secondary', 'seconded', 'secondly', 'seconds', 'secret', 'secretary', 'secretly', 'section', 'sections', 'secure', 'secured', 'security', 'seed', 'seeds', 'seeing', 'seek', 'seeking', 'seemingly', 'seen', 'sees', 'seizure', 'seizures', 'select', 'selection', 'self', 'selfie', 'selfies', 'selfish', 'selfishness', 'selfless', 'sell', 'selling', 'sells', 'semester', 'semi', 'send', 'sending', 'sends', 'senior', 'sensation', 'sense', 'senses', 'sensible', 'sensitive', 'sensitivity', 'sensor', 'sensory', 'sent', 'sentence', 'sentences', 'sentiment', 'sentimental', 'separate', 'separated', 'separately', 'separation', 'sepsis', 'september', 'sequel', 'serenity', 'serial', 'series', 'seriously', 'seriousness', 'servant', 'serve', 'served', 'server', 'serves', 'service', 'services', 'serving', 'sesame', 'session', 'sessions', 'set', 'setbacks', 'sets', 'setting', 'settings', 'settle', 'settled', 'settles', 'setup', 'seuss', 'seven', 'severe', 'severely', 'sew', 'sewing', 'sex', 'sexist', 'sexual', 'sexuality', 'sexually', 'sexy', 'sh', 'shade', 'shades', 'shadow', 'shake', 'shaken', 'shakes', 'shaking', 'shall', 'shallow', 'shame', 'shampoo', 'shape', 'shaped', 'shapes', 'share', 'shared', 'shares', 'sharing', 'shark', 'sharks', 'sharp', 'sharpen', 'sharpie', 'shat', 'shattered', 'shave', 'shaved', 'shaving', 'shawn', 'shed', 'sheep', 'sheer', 'sheesh', 'sheet', 'sheets', 'shelf', 'shell', 'shelter', 'shelves', 'shes', 'shh', 'shhhh', 'shield', 'shift', 'shifted', 'shifting', 'shifts', 'shine', 'shiny', 'ship', 'shipped', 'shipping', 'shirt', 'shirtless', 'shirts', 'shit', 'shite', 'shits', 'shitter', 'shitting', 'shitty', 'shitz', 'shock', 'shocked', 'shocking', 'shockingly', 'shoe', 'shoes', 'shook', 'shoot', 'shooting', 'shoots', 'shop', 'shopping', 'shops', 'shore', 'short', 'shortage', 'shorten', 'shorter', 'shortly', 'shorts', 'shot', 'shots', 'shoulder', 'shoulders', 'shouldn', 'shouldnt', 'shout', 'shouted', 'shouting', 'shouts', 'shove', 'shovel', 'shoves', 'shoving', 'showed', 'shower', 'showered', 'showering', 'showers', 'showing', 'shown', 'shows', 'shred', 'shredded', 'shuffle', 'shush', 'shushing', 'shut', 'shuts', 'shutting', 'shy', 'si', 'sibling', 'siblings', 'sick', 'sickness', 'sidebar', 'sided', 'sidelined', 'sides', 'sidewalk', 'sideways', 'sidrelly', 'sids', 'sienna', 'sierra', 'sigh', 'sighed', 'sight', 'sign', 'signal', 'signaling', 'signature', 'signed', 'significance', 'significant', 'significantly', 'signing', 'signs', 'sil', 'silence', 'silent', 'silently', 'silhouette', 'silicone', 'sill', 'silly', 'silver', 'silverado', 'simethicone', 'similar', 'similarly', 'simple', 'simpler', 'simplest', 'simplify', 'simply', 'simpson', 'simultaneously', 'sincerely', 'sincerest', 'sing', 'singer', 'singing', 'single', 'sings', 'sink', 'sip', 'sippy', 'sips', 'sir', 'sirens', 'siri', 'sis', 'sister', 'sisters', 'sit', 'site', 'sites', 'sits', 'sitter', 'sitters', 'sitting', 'situated', 'situation', 'situations', 'sixth', 'size', 'sized', 'sizes', 'sizing', 'skate', 'skateboard', 'skating', 'skeptical', 'sketch', 'sketchy', 'skewed', 'skiing', 'skill', 'skills', 'skin', 'skinny', 'skip', 'skipped', 'skipping', 'skirt', 'skull', 'skunk', 'sky', 'skype', 'skyquest', 'skyrim', 'slack', 'slam', 'slammed', 'slamming', 'slap', 'slapping', 'slaps', 'slate', 'slats', 'sledding', 'sleep', 'sleeper', 'sleepers', 'sleeping', 'sleepless', 'sleeps', 'sleeptrain', 'sleepy', 'sleeve', 'sleeves', 'slept', 'slew', 'slice', 'sliced', 'slices', 'slick', 'slid', 'slide', 'slides', 'slideshow', 'sliding', 'slight', 'slightest', 'slightly', 'slim', 'sling', 'slip', 'slipped', 'slippers', 'slippery', 'slipping', 'slips', 'slope', 'slot', 'sloth', 'slouch', 'slow', 'slowed', 'slower', 'slowest', 'slowing', 'slowly', 'sly', 'smack', 'smacked', 'smacking', 'smacks', 'small', 'smaller', 'smallest', 'smallish', 'smart', 'smarter', 'smartest', 'smartphone', 'smash', 'smashed', 'smashing', 'smell', 'smelled', 'smelling', 'smells', 'smelly', 'smh', 'smidge', 'smile', 'smiled', 'smiles', 'smiley', 'smiling', 'smitten', 'smoke', 'smoked', 'smokes', 'smoking', 'smooth', 'smoother', 'smoothly', 'snack', 'snacks', 'snag', 'snake', 'snap', 'snapped', 'snapping', 'snaps', 'sneak', 'sneaking', 'sneaky', 'sneeze', 'sneezed', 'sneezes', 'sneezing', 'snes', 'snew', 'sniff', 'snip', 'snipped', 'snippy', 'snohomish', 'snoo', 'snooze', 'snore', 'snores', 'snoring', 'snot', 'snow', 'snowballs', 'snowy', 'snug', 'snuggle', 'snuggled', 'snuggler', 'snuggles', 'snuggling', 'snuggly', 'soak', 'soaked', 'soaking', 'soap', 'sob', 'sobbing', 'sober', 'sobering', 'sobriety', 'socal', 'soccer', 'social', 'socialise', 'socialising', 'socialization', 'socialize', 'socializing', 'socially', 'societal', 'society', 'sociopath', 'sock', 'socket', 'sockets', 'socks', 'soda', 'sofa', 'soffit', 'soft', 'softball', 'soften', 'softener', 'softer', 'softly', 'software', 'soil', 'soiled', 'solace', 'solar', 'sold', 'soldier', 'soldiers', 'sole', 'solely', 'solid', 'solidarity', 'solidly', 'solids', 'solo', 'solution', 'solutions', 'solve', 'solved', 'solves', 'solving', 'somas', 'somebody', 'someday', 'somedays', 'someones', 'someplace', 'somethings', 'someway', 'somewhat', 'son', 'song', 'songs', 'sonic', 'sonogram', 'sons', 'soo', 'soon', 'sooner', 'sooo', 'soooo', 'sooooo', 'soooooo', 'sooth', 'soothe', 'soothed', 'soother', 'soothies', 'soothing', 'sophomore', 'sore', 'soreness', 'sorrow', 'sorry', 'sort', 'sorta', 'sorted', 'sorting', 'sorts', 'sought', 'soul', 'sound', 'sounded', 'sounding', 'soundly', 'sounds', 'soundtrack', 'soup', 'sour', 'source', 'sources', 'sourdough', 'soured', 'south', 'southern', 'soy', 'sp', 'spa', 'space', 'spaced', 'spacers', 'spaces', 'spacing', 'spaghetti', 'spam', 'span', 'spanish', 'spanked', 'spanking', 'spankings', 'spare', 'spares', 'spark', 'sparkly', 'sparks', 'spatula', 'spawn', 'speak', 'speaker', 'speakers', 'speaking', 'speaks', 'spec', 'special', 'specialist', 'specializes', 'specially', 'species', 'specific', 'specifically', 'specifics', 'spectrum', 'speech', 'speed', 'speeding', 'speedy', 'spell', 'spelled', 'spelling', 'spend', 'spending', 'spends', 'spent', 'sperm', 'spew', 'spice', 'spicy', 'spider', 'spiderman', 'spiders', 'spidey', 'spike', 'spiked', 'spill', 'spilled', 'spin', 'spinach', 'spinal', 'spine', 'spinning', 'spiral', 'spirit', 'spirits', 'spiritual', 'spit', 'spite', 'spitefully', 'spits', 'spitting', 'splash', 'split', 'splitting', 'spoil', 'spoiled', 'spoiler', 'spoke', 'spoken', 'sponge', 'sponges', 'spontaneous', 'spontaneously', 'spooky', 'spoon', 'spoonful', 'spoons', 'sport', 'sporting', 'sports', 'spot', 'spotify', 'spots', 'spotted', 'spotting', 'spouse', 'spouses', 'spray', 'spread', 'spreading', 'spreadsheets', 'sprefix', 'spring', 'springs', 'sprint', 'sprints', 'spur', 'spurt', 'spurts', 'squad', 'square', 'squash', 'squat', 'squeal', 'squealing', 'squeeze', 'squeezing', 'squirm', 'squirming', 'squirms', 'squirmy', 'squirrels', 'squirt', 'squirtle', 'squish', 'squishy', 'sr', 'sr_1_1', 'ss', 'st', 'stab', 'stabilisers', 'stability', 'stable', 'stack', 'stacked', 'staff', 'stage', 'stages', 'staggering', 'stain', 'stained', 'stainless', 'stains', 'stair', 'stairs', 'stake', 'stall', 'stalling', 'stamina', 'stamp', 'stance', 'stand', 'standard', 'standards', 'standing', 'standpoint', 'stands', 'stanley', 'staple', 'staples', 'star', 'starbucks', 'stare', 'stared', 'stares', 'staring', 'stark', 'stars', 'start', 'started', 'starter', 'starters', 'starting', 'startle', 'startled', 'starts', 'startup', 'starve', 'starving', 'stash', 'state', 'stated', 'statement', 'statements', 'states', 'static', 'stating', 'station', 'stationary', 'stations', 'statistic', 'statistically', 'statistics', 'stats', 'statue', 'statues', 'status', 'statutory', 'stay', 'stayed', 'staying', 'stays', 'steadily', 'steady', 'steak', 'steaks', 'steal', 'stealing', 'steam', 'steaming', 'steel', 'steep', 'steer', 'steered', 'steering', 'stem', 'stems', 'stenosis', 'step', 'stepdad', 'stepped', 'stepping', 'steps', 'stereotype', 'stereotypes', 'stereotypical', 'stereotypically', 'sterile', 'sterilize', 'sterilized', 'sterilizer', 'stern', 'steve', 'stick', 'sticker', 'stickers', 'sticking', 'sticks', 'sticky', 'stiff', 'stigma', 'stimulate', 'stimulated', 'stimulates', 'stimulation', 'stink', 'stinky', 'stint', 'stir', 'stirring', 'stitch', 'stitched', 'stitches', 'stitching', 'stock', 'stocked', 'stockpile', 'stocks', 'stoic', 'stoked', 'stole', 'stolen', 'stomach', 'stomachs', 'stomp', 'stomped', 'stone', 'stones', 'stood', 'stool', 'stop', 'stopped', 'stopping', 'stops', 'storage', 'store', 'stored', 'stores', 'stories', 'storing', 'stork', 'storm', 'story', 'storybots', 'storyline', 'storytime', 'stove', 'straight', 'straightforward', 'strain', 'strained', 'strange', 'strangely', 'stranger', 'strangers', 'strangest', 'strap', 'strapped', 'straps', 'strategies', 'strategy', 'straw', 'strawberries', 'strawberry', 'streak', 'stream', 'streamer', 'streaming', 'streams', 'street', 'streets', 'strength', 'strengthen', 'strengths', 'stress', 'stressed', 'stresses', 'stressful', 'stressing', 'stretch', 'stretched', 'stretches', 'stretching', 'stretchy', 'strewn', 'strict', 'strictly', 'stride', 'strider', 'strides', 'strike', 'strikes', 'string', 'strings', 'strip', 'stripes', 'stripped', 'strips', 'strive', 'stroke', 'strokes', 'stroll', 'stroller', 'strollers', 'strong', 'stronger', 'strongly', 'struck', 'structural', 'structure', 'structured', 'struggle', 'struggled', 'struggles', 'struggling', 'strung', 'stubborn', 'stubbornness', 'stuck', 'stud', 'student', 'students', 'studies', 'studio', 'studs', 'study', 'studying', 'stuff', 'stuffed', 'stuffies', 'stuffing', 'stuffy', 'stumble', 'stumbled', 'stumbling', 'stunning', 'stunt', 'stunts', 'stupid', 'stupidity', 'stupidly', 'sturdy', 'style', 'styles', 'sub', 'subaru', 'subbed', 'subconscious', 'subconsciously', 'subject', 'submarine', 'subreddit', 'subreddits', 'subs', 'subscribe', 'subscribed', 'subscription', 'subsequent', 'subsequently', 'substance', 'substances', 'substantial', 'substantive', 'substitute', 'subtle', 'suburban', 'suburbs', 'succeed', 'succeeding', 'success', 'successes', 'successful', 'successfully', 'suck', 'sucked', 'sucker', 'suckers', 'sucking', 'sucks', 'suction', 'sudden', 'suddenly', 'sue', 'suess', 'suffer', 'suffered', 'suffering', 'suffers', 'sufficient', 'suffocate', 'sugar', 'suggest', 'suggested', 'suggesting', 'suggestion', 'suggestions', 'suggests', 'suicidal', 'suicide', 'suit', 'suitable', 'suite', 'suits', 'sum', 'summary', 'summer', 'summers', 'summit', 'summon', 'sun', 'sunday', 'sundays', 'sung', 'sunglasses', 'sunlight', 'sunny', 'sunshine', 'super', 'superhero', 'superior', 'superman', 'supermarket', 'supervised', 'supervision', 'supper', 'supplement', 'supplemental', 'supplementing', 'supplies', 'supply', 'supplying', 'support', 'supported', 'supporter', 'supporting', 'supportive', 'supports', 'suppose', 'supposed', 'supposedly', 'suprised', 'sure', 'surely', 'surf', 'surface', 'surfaces', 'surfactant', 'surgeon', 'surgeons', 'surgeries', 'surgery', 'surgical', 'surgically', 'surprise', 'surprised', 'surprises', 'surprising', 'surprisingly', 'surreal', 'surrogate', 'surround', 'surrounded', 'surrounding', 'surroundings', 'survival', 'survive', 'survived', 'surviving', 'susceptible', 'sushi', 'suspect', 'suspected', 'suspended', 'suspicion', 'suspicious', 'sustain', 'sustainable', 'sustaining', 'suv', 'suvs', 'swaddle', 'swaddled', 'swaddleme', 'swaddler', 'swaddlers', 'swaddles', 'swaddling', 'swallow', 'swallowed', 'swallowing', 'swap', 'swapped', 'swapping', 'sway', 'swaying', 'swear', 'swearing', 'swears', 'sweat', 'sweater', 'sweaters', 'sweating', 'sweatshirt', 'sweaty', 'sweden', 'sweep', 'sweeping', 'sweet', 'sweetest', 'sweetheart', 'sweetie', 'sweetly', 'sweetness', 'sweets', 'swell', 'swelling', 'swept', 'swift', 'swim', 'swimming', 'swing', 'swinging', 'swings', 'swipe', 'swish', 'switch', 'switched', 'switches', 'switching', 'swivel', 'swollen', 'swoop', 'sword', 'swore', 'swung', 'sympathetic', 'sympathies', 'sympathize', 'sympathy', 'symptom', 'symptoms', 'sync', 'syndrome', 'syringe', 'syrup', 'systematically', 'systems', 't25', 'table', 'tables', 'tablespoon', 'tablet', 'tablets', 'tack', 'tackle', 'taco', 'tacos', 'tact', 'tactic', 'tad', 'tag', 'tahoe', 'tail', 'tainted', 'taken', 'takes', 'taking', 'takingcarababies', 'tale', 'talent', 'talented', 'tales', 'talk', 'talked', 'talking', 'talks', 'tall', 'taller', 'tamiflu', 'tan', 'tangled', 'tank', 'tantrum', 'tantrums', 'tap', 'tape', 'taped', 'taping', 'tapping', 'tar', 'target', 'task', 'tasks', 'taste', 'tastes', 'tasting', 'tasty', 'tats', 'tattoo', 'tattoos', 'taught', 'tax', 'taxes', 'taxi', 'taxing', 'tbh', 'tbsp', 'tea', 'teach', 'teacher', 'teachers', 'teaches', 'teaching', 'team', 'teammate', 'teams', 'tear', 'teared', 'tearing', 'tears', 'tease', 'teasing', 'tech', 'technical', 'technically', 'technique', 'techniques', 'technologies', 'technology', 'teddy', 'tee', 'teen', 'teenage', 'teenager', 'teenagers', 'teens', 'teeny', 'teeth', 'teether', 'teething', 'telescope', 'television', 'tell', 'telling', 'tells', 'temp', 'temper', 'temperature', 'template', 'temporarily', 'temporary', 'temps', 'tempted', 'tend', 'tended', 'tendencies', 'tendency', 'tender', 'tending', 'tends', 'tennessee', 'tennis', 'tens', 'tense', 'tension', 'tent', 'tenth', 'term', 'terms', 'terrible', 'terribly', 'terrific', 'terrified', 'terrifies', 'terrifying', 'territory', 'terror', 'terrors', 'test', 'testament', 'tested', 'testicle', 'testicles', 'testing', 'testosterone', 'tests', 'texas', 'text', 'textbook', 'texted', 'texting', 'texts', 'texture', 'tf', 'th', 'tha', 'thank', 'thanked', 'thankful', 'thankfully', 'thanking', 'thanks', 'thanksgiving', 'thankyou', 'thats', 'theater', 'theatre', 'theirs', 'theme', 'themed', 'themes', 'themself', 'theoretically', 'theory', 'therapeutic', 'therapist', 'therapists', 'therapy', 'theres', 'thermometer', 'thermostat', 'theyre', 'thicker', 'thieves', 'thighs', 'thimble', 'thing', 'thingies', 'things', 'thingy', 'think', 'thinking', 'thinks', 'thinner', 'thirsty', 'thirteen', 'thirties', 'tho', 'thor', 'thorough', 'thoroughly', 'thou', 'thought', 'thoughtful', 'thoughts', 'thousand', 'thousands', 'thr', 'thread', 'threaded', 'threads', 'threat', 'threaten', 'threatened', 'threatening', 'threatens', 'threenager', 'threes', 'threw', 'thrilled', 'thrive', 'thriving', 'throat', 'throw', 'throwing', 'thrown', 'throws', 'thrush', 'thrust', 'thud', 'thumb', 'thumbnail', 'thumbs', 'thurs', 'thursday', 'ticket', 'tickets', 'tickle', 'tide', 'tidy', 'tie', 'tied', 'ties', 'tiger', 'tigers', 'tight', 'tighter', 'tightly', 'tiktok', 'til', 'tile', 'tiles', 'till', 'tilt', 'tim', 'time', 'timeline', 'timeout', 'timer', 'times', 'timing', 'tin', 'tinnitus', 'tiny', 'tinybeans', 'tip', 'tippee', 'tipping', 'tips', 'tire', 'tired', 'tiredness', 'tires', 'tiring', 'tissue', 'tissues', 'title', 'titles', 'tl', 'tldr', 'toast', 'today', 'toddler', 'toddlers', 'toe', 'toes', 'toilet', 'toiletries', 'toilets', 'told', 'tolerable', 'tolerance', 'tolerate', 'toll', 'tom', 'tommee', 'tommy', 'tomorrow', 'ton', 'tone', 'tones', 'tongue', 'tonight', 'tons', 'tony', 'took', 'tool', 'tools', 'tooth', 'toothbrush', 'toothpaste', 'topic', 'topics', 'tops', 'tore', 'torn', 'tornado', 'toronto', 'torture', 'toss', 'tossing', 'tot', 'total', 'totally', 'tote', 'totes', 'tots', 'touch', 'touched', 'touches', 'touching', 'touchy', 'tough', 'tougher', 'toughest', 'toughing', 'tour', 'tourist', 'tow', 'towel', 'towels', 'tower', 'towers', 'town', 'toxic', 'toy', 'toyota', 'toys', 'tr', 'trace', 'track', 'tracked', 'tracking', 'tracks', 'tract', 'tractor', 'trade', 'traded', 'trader', 'trades', 'trading', 'tradition', 'traditional', 'traditionally', 'traffic', 'tragedy', 'tragic', 'trail', 'trailer', 'trails', 'train', 'trained', 'trainer', 'trainers', 'training', 'trains', 'trait', 'traits', 'trampoline', 'transfer', 'transferred', 'transfusions', 'transition', 'transitioned', 'transitioning', 'transitions', 'translate', 'translates', 'translation', 'transmission', 'transplant', 'transport', 'trap', 'trapped', 'traps', 'trash', 'trashed', 'trauma', 'traumatic', 'traumatized', 'travel', 'traveled', 'traveling', 'travelling', 'travels', 'traverse', 'tray', 'tread', 'treadmill', 'treasure', 'treat', 'treated', 'treating', 'treatment', 'treatments', 'treats', 'tree', 'trees', 'tremendous', 'tremendously', 'trenches', 'trend', 'trends', 'tri', 'trial', 'triangle', 'triangles', 'trick', 'tricked', 'tricks', 'tricky', 'tried', 'tries', 'trigger', 'triggered', 'triggering', 'triggers', 'trim', 'trimester', 'trimmed', 'trimming', 'trip', 'triple', 'triplets', 'tripped', 'trips', 'trivial', 'troll', 'trolling', 'trooper', 'troopers', 'trope', 'trophy', 'trouble', 'troubles', 'truck', 'trucking', 'trucks', 'true', 'truly', 'trump', 'trunk', 'trust', 'trusted', 'trusting', 'truth', 'truthfully', 'try', 'trying', 'tshirt', 'tsp', 'tub', 'tube', 'tubes', 'tuck', 'tucked', 'tuesday', 'tuesdays', 'tugging', 'tumble', 'tummy', 'tune', 'tunes', 'tunnel', 'tupperware', 'turd', 'turkey', 'turn', 'turned', 'turning', 'turns', 'turtle', 'tutorial', 'tutorials', 'tv', 'tvs', 'tween', 'twenties', 'twice', 'twin', 'twinkle', 'twins', 'twist', 'twisted', 'twisting', 'twitch', 'twitter', 'twos', 'tying', 'tylenol', 'type', 'types', 'typical', 'typically', 'typing', 'ubbi', 'uber', 'ugh', 'ugly', 'uh', 'uk', 'ultimate', 'ultimately', 'ultra', 'ultrasound', 'ultrasounds', 'um', 'umbilical', 'umm', 'unable', 'unacceptable', 'unanimity', 'unassisted', 'unavailable', 'unavoidable', 'unaware', 'unbearable', 'unbelievable', 'unbelievably', 'unbiased', 'uncertain', 'uncertainty', 'uncharted', 'uncircumcised', 'uncle', 'unclear', 'uncles', 'uncomfortable', 'uncommon', 'uncomplicated', 'unconditional', 'unconditionally', 'uncontrollably', 'uncool', 'uncut', 'und', 'underestimate', 'underestimated', 'undergo', 'undergoing', 'underground', 'underlying', 'underneath', 'underpants', 'underrated', 'underside', 'understand', 'understandable', 'understandably', 'understanding', 'understands', 'understood', 'underwear', 'underweight', 'undiagnosed', 'undisturbed', 'undo', 'undone', 'undoubtedly', 'undue', 'unemployed', 'unemployment', 'unethical', 'uneven', 'unexpected', 'unexpectedly', 'unfair', 'unfinished', 'unfit', 'unforgiving', 'unfortunate', 'unfortunately', 'unfounded', 'unfunny', 'ungodly', 'unhappy', 'unhealthy', 'unicorn', 'unicorns', 'uniform', 'unimaginable', 'unimportant', 'uninterrupted', 'union', 'unions', 'unique', 'unit', 'united', 'units', 'unity', 'universal', 'universe', 'universities', 'university', 'unknown', 'unleash', 'unless', 'unlike', 'unlikely', 'unlimited', 'unload', 'unloading', 'unlock', 'unlocked', 'unlucky', 'unnecessarily', 'unnecessary', 'unnerving', 'unpaid', 'unplanned', 'unpleasant', 'unpopular', 'unreal', 'unrealistic', 'unreasonable', 'unrelated', 'unresponsive', 'unruly', 'unsafe', 'unscathed', 'unseen', 'unsettling', 'unsolicited', 'unstable', 'unstoppable', 'unstructured', 'unsure', 'untill', 'untouched', 'unusable', 'unused', 'unusual', 'unusually', 'unwanted', 'unwell', 'unwilling', 'upbringing', 'upcoming', 'update', 'updated', 'updates', 'upended', 'upfront', 'upgrade', 'upgraded', 'upgrades', 'upgrading', 'uphill', 'uplifting', 'upload', 'uploads', 'uppababy', 'upper', 'upright', 'ups', 'upset', 'upsets', 'upsetting', 'upside', 'upstairs', 'upvote', 'upvotes', 'ur', 'urban', 'urge', 'urgent', 'urine', 'urological', 'urologist', 'urology', 'usa', 'usage', 'usb', 'usd', 'use', 'used', 'useful', 'useless', 'user', 'username', 'users', 'uses', 'using', 'usual', 'usually', 'uterus', 'utf8', 'uti', 'utilities', 'utility', 'utilize', 'utis', 'utm_medium', 'utm_name', 'utm_source', 'uts', 'utter', 'utterly', 'uv', 'v1', 'va', 'vacation', 'vacations', 'vaccination', 'vaccinations', 'vaccine', 'vaccines', 'vacuum', 'vacuuming', 'vader', 'vagina', 'vaginal', 'vaginas', 'vague', 'vaguely', 'valentine', 'valid', 'validated', 'validating', 'validation', 'valley', 'valuable', 'value', 'values', 'valve', 'van', 'vanilla', 'vans', 'variables', 'variation', 'variations', 'varied', 'varies', 'variety', 'various', 'vary', 'vas', 'vasectomies', 'vasectomy', 'vast', 'vastly', 'vbac', 've', 'vegas', 'vegemite', 'vegetables', 'veggie', 'veggies', 'vehicle', 'vein', 'velcro', 'vending', 'vent', 'ventilator', 'venting', 'vents', 'venusaur', 'verbal', 'verbally', 'verify', 'versa', 'version', 'versions', 'versus', 'vertical', 'vessels', 'vet', 'veteran', 'veterinarian', 'viable', 'vibe', 'vibes', 'vibration', 'vice', 'victim', 'victims', 'victory', 'vid', 'video', 'videos', 'view', 'viewing', 'views', 'vigilant', 'village', 'vinyl', 'violation', 'violations', 'violence', 'violent', 'violently', 'viral', 'virtual', 'virtually', 'virus', 'viruses', 'visa', 'visible', 'visibly', 'vision', 'visit', 'visitation', 'visited', 'visiting', 'visitor', 'visitors', 'visits', 'visual', 'visualize', 'vital', 'vitals', 'vitamin', 'vitamins', 'viv', 'vocab', 'vocabulary', 'vocal', 'voice', 'voices', 'volatile', 'volcano', 'volt', 'volume', 'voluntarily', 'voluntary', 'volunteer', 'volunteers', 'vomit', 'vomited', 'vomiting', 'vote', 'voted', 'votes', 'voting', 'vreddit', 'vs', 'vtech', 'vulnerable', 'vulva', 'wa', 'waaaay', 'wack', 'wacky', 'wade', 'wager', 'wages', 'wagon', 'wah', 'wailing', 'waist', 'wait', 'waited', 'waiter', 'waiting', 'waits', 'wake', 'wakes', 'wakeup', 'waking', 'wakings', 'walk', 'walked', 'walker', 'walking', 'walks', 'wall', 'wallet', 'walls', 'walmart', 'wandering', 'wanna', 'want', 'wanted', 'wanting', 'wants', 'war', 'ward', 'wards', 'warehouse', 'warm', 'warmed', 'warmer', 'warming', 'warms', 'warmth', 'warn', 'warned', 'warning', 'warranty', 'warrior', 'wars', 'wary', 'wash', 'washable', 'washed', 'washer', 'washes', 'washing', 'washington', 'wasn', 'wasnt', 'waste', 'wasted', 'wasting', 'watch', 'watched', 'watches', 'watching', 'water', 'watermelon', 'waterproof', 'waters', 'watts', 'wave', 'waves', 'way', 'wayne', 'ways', 'wdw', 'weak', 'weakness', 'wealthy', 'wean', 'weaning', 'weapon', 'wear', 'wearing', 'wears', 'weather', 'web', 'weber', 'webmd', 'website', 'websites', 'webster', 'wedding', 'wedge', 'wednesday', 'wednesdays', 'wee', 'weed', 'weeds', 'week', 'weekdays', 'weekend', 'weekends', 'weeker', 'weekly', 'weeks', 'weigh', 'weighed', 'weighing', 'weighs', 'weight', 'weighted', 'weights', 'weird', 'weirdest', 'weirdly', 'weirdo', 'welcome', 'welcomed', 'welcoming', 'weld', 'welfare', 'wellbeing', 'went', 'wept', 'weren', 'west', 'western', 'wet', 'weve', 'wfh', 'whack', 'whatnot', 'whats', 'whatsapp', 'whatsoever', 'wheel', 'wheeled', 'wheels', 'whew', 'whilst', 'whine', 'whining', 'whiny', 'whip', 'whipped', 'whirlwind', 'whiskey', 'whisper', 'whispered', 'whispering', 'whispers', 'white', 'whoa', 'wholeheartedly', 'wholesome', 'wholesomeness', 'wholly', 'whomever', 'wi', 'wicked', 'wide', 'widely', 'wider', 'width', 'wife', 'wife_got_home_from_the_airport_tonight_after_a', 'wifes', 'wifey', 'wifi', 'wiggle', 'wiggles', 'wiggling', 'wiggly', 'wii', 'wiki', 'wikipedia', 'wil', 'wild', 'wildly', 'williams', 'willing', 'willingness', 'win', 'wind', 'windi', 'window', 'windows', 'wine', 'wing', 'wings', 'winner', 'winning', 'wins', 'winter', 'wipe', 'wiped', 'wipes', 'wiping', 'wire', 'wired', 'wires', 'wisdom', 'wise', 'wisely', 'wish', 'wished', 'wishes', 'wishing', 'wishlist', 'witch', 'witching', 'witness', 'witnessed', 'wives', 'wks', 'wobbly', 'woke', 'woken', 'wolf', 'wolves', 'woman', 'womb', 'women', 'won', 'wonder', 'wondered', 'wonderful', 'wonderfully', 'wondering', 'wonders', 'wonky', 'wont', 'woo', 'wood', 'wooden', 'woods', 'woodworking', 'word', 'worded', 'wording', 'words', 'wore', 'work', 'workbooks', 'worked', 'worker', 'workers', 'workforce', 'working', 'workload', 'workout', 'workouts', 'workplace', 'works', 'workshop', 'world', 'worlds', 'worldwide', 'worm', 'worms', 'worn', 'worried', 'worrier', 'worries', 'worrisome', 'worry', 'worrying', 'worse', 'worst', 'worth', 'worthless', 'worthwhile', 'worthy', 'wouldn', 'wouldnt', 'wound', 'wow', 'wp', 'wracking', 'wrangle', 'wrangling', 'wrap', 'wrapped', 'wrapper', 'wrapping', 'wraps', 'wreck', 'wreckage', 'wrecked', 'wrench', 'wrenching', 'wrestle', 'wrestling', 'wrist', 'wrists', 'write', 'writes', 'writing', 'written', 'wrong', 'wrote', 'wtf', 'ww2', 'www', 'wyatt', 'wyze', 'x10', 'x200b', 'xander', 'xbox', 'xd', 'xmas', 'xt', 'xt8', 'xyz', 'ya', 'yadda', 'yah', 'yall', 'yank', 'yankees', 'yanking', 'yanks', 'yard', 'yards', 'yardwork', 'yarn', 'yay', 'yayoi', 'yayoikusama', 'ye', 'yea', 'yeah', 'year', 'yearly', 'years', 'yeast', 'yeesh', 'yeh', 'yell', 'yelled', 'yelling', 'yellow', 'yells', 'yep', 'yes', 'yessir', 'yessss', 'yesterday', 'yikes', 'yip', 'yips', 'ymmv', 'yo', 'yoda', 'yoga', 'yogurt', 'yolk', 'york', 'yoshi', 'yotes', 'youll', 'young', 'younger', 'youngest', 'youngling', 'your_message', 'youre', 'youth', 'youthful', 'youtu', 'youtube', 'youve', 'yr', 'yrs', 'yucky', 'yummy', 'yup', 'zealand', 'zebra', 'zelda', 'zen', 'zero', 'ziggy', 'zip', 'ziploc', 'zipper', 'zippered', 'zippers', 'zipping', 'zombie', 'zombies', 'zone', 'zoo', 'zoom', 'zooming']\n"
     ]
    }
   ],
   "source": [
    "#A2a.\n",
    "from sklearn.feature_extraction.text import CountVectorizer\n",
    "corpus = list(df.body)\n",
    "vectorizer = CountVectorizer(stop_words='english', max_features=10000)\n",
    "X = vectorizer.fit_transform(corpus)\n",
    "print(vectorizer.get_feature_names())"
   ]
  },
  {
   "cell_type": "markdown",
   "metadata": {
    "id": "m75FE5C9V7iN"
   },
   "source": [
    "Q2b. Now, how many features do you get? [5 points]"
   ]
  },
  {
   "cell_type": "code",
   "execution_count": 69,
   "metadata": {
    "colab": {
     "base_uri": "https://localhost:8080/"
    },
    "id": "hmRl9H6YV2wt",
    "outputId": "e67d6de3-e5d5-4b51-855c-3ac6274e511f"
   },
   "outputs": [
    {
     "data": {
      "text/plain": [
       "(25681, 10000)"
      ]
     },
     "execution_count": 69,
     "metadata": {
      "tags": []
     },
     "output_type": "execute_result"
    }
   ],
   "source": [
    "#A2b.\n",
    "# There are 10000 features\n",
    "X.shape"
   ]
  },
  {
   "cell_type": "markdown",
   "metadata": {
    "id": "7fc8G2pfWBrg"
   },
   "source": [
    "Q2c. Get an example of the features. Specifically, I want you to get the features between 3000 and 3020. [5 points]"
   ]
  },
  {
   "cell_type": "code",
   "execution_count": 71,
   "metadata": {
    "colab": {
     "base_uri": "https://localhost:8080/"
    },
    "id": "pOtItdMnWIqX",
    "outputId": "bdc8a30a-e034-4dae-fe58-d8d325943369"
   },
   "outputs": [
    {
     "data": {
      "text/plain": [
       "['esp',\n",
       " 'especially',\n",
       " 'espousing',\n",
       " 'espresso',\n",
       " 'essential',\n",
       " 'essentially',\n",
       " 'essentials',\n",
       " 'est',\n",
       " 'establish',\n",
       " 'established',\n",
       " 'esteem',\n",
       " 'estimate',\n",
       " 'eternity',\n",
       " 'ethic',\n",
       " 'ethics',\n",
       " 'etsy',\n",
       " 'eu',\n",
       " 'europe',\n",
       " 'european',\n",
       " 'eve']"
      ]
     },
     "execution_count": 71,
     "metadata": {
      "tags": []
     },
     "output_type": "execute_result"
    }
   ],
   "source": [
    "#A2c.\n",
    "vectorizer.get_feature_names()[3000:3020]"
   ]
  },
  {
   "cell_type": "markdown",
   "metadata": {
    "id": "XUEz6lmbW_bW"
   },
   "source": [
    "Q2d. Now unfold the features into a larger array. Use the \"to_array\" feature. [5 points]"
   ]
  },
  {
   "cell_type": "code",
   "execution_count": 72,
   "metadata": {
    "colab": {
     "base_uri": "https://localhost:8080/"
    },
    "id": "6qLfexgXXAAl",
    "outputId": "12550192-64d7-48ee-fece-f31f6a1e44d8"
   },
   "outputs": [
    {
     "name": "stdout",
     "output_type": "stream",
     "text": [
      "[0, 0, 0, 0, 0]\n"
     ]
    }
   ],
   "source": [
    "#A2d.\n",
    "X = X.toarray()\n",
    "print(list(X[1][0:5]))"
   ]
  },
  {
   "cell_type": "markdown",
   "metadata": {
    "id": "mhcEIiLaWzUx"
   },
   "source": [
    "Q2e. Setup the X_train, X_test,y_train, y_test using train_test_split\n",
    "Remember, your X is the set of features (NOT THE FEATURE NAMES) created using CountVectorizer. [5 points]\n",
    "\n",
    "\n",
    "You y is the two classes discussed in the question description."
   ]
  },
  {
   "cell_type": "code",
   "execution_count": 75,
   "metadata": {
    "colab": {
     "base_uri": "https://localhost:8080/"
    },
    "id": "slzsqPsoWztG",
    "outputId": "88b68ff5-5de0-44c1-bc04-bbe850aa1344"
   },
   "outputs": [
    {
     "name": "stdout",
     "output_type": "stream",
     "text": [
      "(17976, 10000)\n",
      "(7705, 10000)\n",
      "(17976,)\n",
      "(7705,)\n"
     ]
    }
   ],
   "source": [
    "#A2e.\n",
    "from sklearn.model_selection import train_test_split\n",
    "X_train, X_test, y_train, y_test = train_test_split(X, df.MRAD, test_size=0.3,random_state=1)\n",
    "\n",
    "#Train = 70% of 25681 = 17976\n",
    "#Test = 30% of 25681 = 7705\n",
    "print(X_train.shape)\n",
    "print(X_test.shape)\n",
    "print(y_train.shape)\n",
    "print(y_test.shape)"
   ]
  },
  {
   "cell_type": "markdown",
   "metadata": {
    "id": "RIqwvDqbgFIQ"
   },
   "source": [
    "Q2f. Setup a naive bayes classifier and make a prediction based on X_test (the test data) [5 points]"
   ]
  },
  {
   "cell_type": "code",
   "execution_count": 76,
   "metadata": {
    "id": "q7QUCvWBU10a"
   },
   "outputs": [],
   "source": [
    "#A2f.\n",
    "\n",
    "from sklearn.naive_bayes import GaussianNB\n",
    "\n",
    "gnb = GaussianNB()\n",
    "\n",
    "gnb.fit(X_train, y_train)\n",
    "\n",
    "y_pred = gnb.predict(X_test)"
   ]
  },
  {
   "cell_type": "markdown",
   "metadata": {
    "id": "CxXRRDr4gbDj"
   },
   "source": [
    "Q2g. Get the confusion matrix for this classifier [5 points]"
   ]
  },
  {
   "cell_type": "code",
   "execution_count": 79,
   "metadata": {
    "colab": {
     "base_uri": "https://localhost:8080/",
     "height": 342
    },
    "id": "_0AjNhNBXZCU",
    "outputId": "f46a1f9f-83bd-4f2d-d32a-d546b7fe2956"
   },
   "outputs": [
    {
     "data": {
      "text/plain": [
       "Text(0.5, 257.44, 'Predicted label')"
      ]
     },
     "execution_count": 79,
     "metadata": {
      "tags": []
     },
     "output_type": "execute_result"
    },
    {
     "data": {
      "image/png": "[encoded data removed]",
      "text/plain": [
       "<Figure size 432x288 with 2 Axes>"
      ]
     },
     "metadata": {
      "needs_background": "light",
      "tags": []
     },
     "output_type": "display_data"
    }
   ],
   "source": [
    "#A2g.\n",
    "from sklearn import metrics\n",
    "cnf_matrix = metrics.confusion_matrix(y_test, y_pred)\n",
    "cnf_matrix\n",
    "\n",
    "\n",
    "####### Extra #######\n",
    "import seaborn as sns\n",
    "%matplotlib inline\n",
    "\n",
    "class_names=[0,1] # name  of classes\n",
    "fig, ax = plt.subplots()\n",
    "tick_marks = np.arange(len(class_names))\n",
    "plt.xticks(tick_marks, class_names)\n",
    "plt.yticks(tick_marks, class_names)\n",
    "\n",
    "# create heatmap\n",
    "sns.heatmap(pd.DataFrame(cnf_matrix), annot=True, cmap=\"YlGnBu\" ,fmt='g')\n",
    "ax.xaxis.set_label_position(\"top\")\n",
    "plt.tight_layout()\n",
    "plt.title('Confusion matrix', y=1.1)\n",
    "plt.ylabel('Actual label')\n",
    "plt.xlabel('Predicted label')"
   ]
  },
  {
   "cell_type": "markdown",
   "metadata": {
    "id": "wKQQy4k2giG1"
   },
   "source": [
    "Q2h. Get the metrics (accuracy, precision,recall, f1-score) for this classifier [5 points]"
   ]
  },
  {
   "cell_type": "code",
   "execution_count": 78,
   "metadata": {
    "colab": {
     "base_uri": "https://localhost:8080/"
    },
    "id": "TgtXRJsZXew0",
    "outputId": "7dd48ffd-8491-4c23-a8d5-f654f9595c44"
   },
   "outputs": [
    {
     "name": "stdout",
     "output_type": "stream",
     "text": [
      "Accuracy:      0.5669046073977937  \n",
      "Precision:     0.16136495083863506 \n",
      "Recall:        0.5608040201005026  \n",
      "f1 score:      0.2506175611947002  \n"
     ]
    }
   ],
   "source": [
    "#A2h.\n",
    "print('{:<15s}{:<20s}'.format('Accuracy:',str(metrics.accuracy_score(y_test,y_pred))))\n",
    "print('{:<15s}{:<20s}'.format('Precision:',str(metrics.precision_score(y_test,y_pred,average='binary'))))\n",
    "print('{:<15s}{:<20s}'.format('Recall:',str(metrics.recall_score(y_test,y_pred, average='binary'))))\n",
    "print('{:<15s}{:<20s}'.format('f1 score:',str(metrics.f1_score(y_test,y_pred, average='binary'))))"
   ]
  },
  {
   "cell_type": "markdown",
   "metadata": {
    "id": "rt7opmgWgvSM"
   },
   "source": [
    "Q2i. Given the confusion matrix and the metrics, do you think this is a good classifier? In other words, given the introduction to the question, is this a good model to use in differentiating between men who happen to copost to convesrative subreddits and those who post to more liberal subreddits using the text of their comments? [10 points]\n"
   ]
  },
  {
   "cell_type": "markdown",
   "metadata": {
    "id": "GsqaOTvphGS7"
   },
   "source": [
    "Article of Reference: https://medium.com/analytics-vidhya/accuracy-vs-f1-score-6258237beca2\n",
    "\n",
    "A2i. Given that the question is asking whether this is a \"good\" model to differentiate between men who post to more liberal subreddits vs. men who post to more conservative subreddits, I would say that this does a \"decent\" job when favoring ACCURACY over F1-Score. In regards to accuracy, the model can accurately predict 56% of the data (more than half), meaning this classifier can, to some extent, differentiate between 2 classes. Precision is very low, which indicates that not many of teh selected items are relevant. Conversely, more than half (56%) of the relevant items are selected when looking at Recall. \n",
    "\n",
    "Based on F1-Score, the overall performance of this model is 25%. The F1-Score is the harmonic mean of Precision and Recall and gives a better measure of the incorrectly classified cases than the Accuracy Metric. Accuracy can be used when the class distribution is similar while F1-score is a better metric when there are imbalanced classes. Based on F1-Score, I would argue that this is not a good classifier."
   ]
  },
  {
   "cell_type": "code",
   "execution_count": 82,
   "metadata": {
    "colab": {
     "base_uri": "https://localhost:8080/",
     "height": 354
    },
    "id": "rAD4awuCWj3q",
    "outputId": "30fe7a9e-a725-47b9-c31f-9e3bb97a12d3"
   },
   "outputs": [
    {
     "data": {
      "text/plain": [
       "<matplotlib.axes._subplots.AxesSubplot at 0x7f849eae3e50>"
      ]
     },
     "execution_count": 82,
     "metadata": {
      "tags": []
     },
     "output_type": "execute_result"
    },
    {
     "data": {
      "image/png": "[encoded data removed]",
      "text/plain": [
       "<Figure size 432x288 with 1 Axes>"
      ]
     },
     "metadata": {
      "needs_background": "light",
      "tags": []
     },
     "output_type": "display_data"
    }
   ],
   "source": [
    "predict_score_NB = list(zip(vectorizer.get_feature_names(), gnb.theta_[1]))\n",
    "predict_score_sorted_NB = sorted(predict_score_NB, key=lambda tup: tup[1])\n",
    "predictions_1 = pd.DataFrame(predict_score_sorted_NB, columns=['predictor', 'importance'])\n",
    "predictions_1 = predictions_1.sort_values(['importance'], ascending=False)\n",
    "#get top 10 predictors\n",
    "top_preds = predictions_1.iloc[:20]\n",
    "#plot top 10 predictors\n",
    "top_preds.plot(kind='bar', x='predictor', y='importance')"
   ]
  }
 ],
 "metadata": {
  "colab": {
   "collapsed_sections": [],
   "name": "SCI564_Assignment_3.ipynb",
   "provenance": [],
   "toc_visible": true
  },
  "kernelspec": {
   "display_name": "Python 3",
   "language": "python",
   "name": "python3"
  },
  "language_info": {
   "codemirror_mode": {
    "name": "ipython",
    "version": 3
   },
   "file_extension": ".py",
   "mimetype": "text/x-python",
   "name": "python",
   "nbconvert_exporter": "python",
   "pygments_lexer": "ipython3",
   "version": "3.8.3"
  }
 },
 "nbformat": 4,
 "nbformat_minor": 1
}
