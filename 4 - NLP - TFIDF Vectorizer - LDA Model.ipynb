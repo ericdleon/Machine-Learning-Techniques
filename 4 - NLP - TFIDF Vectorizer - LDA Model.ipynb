{
 "cells": [
  {
   "cell_type": "markdown",
   "metadata": {
    "id": "WomcSdHU9lU2"
   },
   "source": [
    "#Part I: Data Collection"
   ]
  },
  {
   "cell_type": "markdown",
   "metadata": {
    "id": "5Qz-ch6U9rKY"
   },
   "source": [
    "Q1. Collect all the Reddit comments for the subreddit [r/Fosterparents](https://www.reddit.com/r/Fosterparents/) throughout the year 2020 (from January 1st to December 31st, 2020).\n",
    "\n",
    "Use the PSAW API to collect these data.\n",
    "\n",
    "Fit all comments into a dataframe called df. \n",
    "\n",
    "[5 points]"
   ]
  },
  {
   "cell_type": "code",
   "execution_count": 1,
   "metadata": {
    "colab": {
     "base_uri": "https://localhost:8080/"
    },
    "id": "zTybn7Ir-c6r",
    "outputId": "ecd5e0ec-06cc-4439-e3d4-26df9ac9845e"
   },
   "outputs": [
    {
     "name": "stdout",
     "output_type": "stream",
     "text": [
      "Collecting psaw\n",
      "  Downloading https://files.pythonhosted.org/packages/01/fe/e2f43241ff7545588d07bb93dd353e4333ebc02c31d7e0dc36a8a9d93214/psaw-0.1.0-py3-none-any.whl\n",
      "Requirement already satisfied: Click in /usr/local/lib/python3.7/dist-packages (from psaw) (7.1.2)\n",
      "Requirement already satisfied: requests in /usr/local/lib/python3.7/dist-packages (from psaw) (2.23.0)\n",
      "Requirement already satisfied: chardet<4,>=3.0.2 in /usr/local/lib/python3.7/dist-packages (from requests->psaw) (3.0.4)\n",
      "Requirement already satisfied: idna<3,>=2.5 in /usr/local/lib/python3.7/dist-packages (from requests->psaw) (2.10)\n",
      "Requirement already satisfied: certifi>=2017.4.17 in /usr/local/lib/python3.7/dist-packages (from requests->psaw) (2020.12.5)\n",
      "Requirement already satisfied: urllib3!=1.25.0,!=1.25.1,<1.26,>=1.21.1 in /usr/local/lib/python3.7/dist-packages (from requests->psaw) (1.24.3)\n",
      "Installing collected packages: psaw\n",
      "Successfully installed psaw-0.1.0\n"
     ]
    }
   ],
   "source": [
    "#A1.\n",
    "!pip install psaw"
   ]
  },
  {
   "cell_type": "code",
   "execution_count": 9,
   "metadata": {
    "colab": {
     "base_uri": "https://localhost:8080/"
    },
    "id": "0G-vRtSr8VH3",
    "outputId": "93e118e6-08ea-4d34-8920-e1b90f39bd94"
   },
   "outputs": [
    {
     "name": "stdout",
     "output_type": "stream",
     "text": [
      "[nltk_data] Downloading package stopwords to /root/nltk_data...\n",
      "[nltk_data]   Unzipping corpora/stopwords.zip.\n"
     ]
    }
   ],
   "source": [
    "import pandas as pd\n",
    "import datetime as dt\n",
    "import re\n",
    "import gensim\n",
    "from gensim.models import LdaModel\n",
    "from gensim.corpora import Dictionary\n",
    "from gensim.models import CoherenceModel\n",
    "from gensim import corpora\n",
    "from collections import defaultdict\n",
    "import nltk\n",
    "nltk.download('stopwords')\n",
    "from nltk.corpus import stopwords \n",
    "from nltk.tokenize import RegexpTokenizer\n",
    "import string\n",
    "from psaw import PushshiftAPI\n",
    "api = PushshiftAPI()\n",
    "import warnings\n",
    "warnings.filterwarnings(\"ignore\", category=DeprecationWarning)"
   ]
  },
  {
   "cell_type": "code",
   "execution_count": 4,
   "metadata": {
    "id": "E-AwoSlk8v49"
   },
   "outputs": [],
   "source": [
    "def last_day_of_month(any_day):\n",
    "    next_month = any_day.replace(day=28) + datetime.timedelta(days=4)\n",
    "    return next_month - datetime.timedelta(days=next_month.day)"
   ]
  },
  {
   "cell_type": "code",
   "execution_count": 5,
   "metadata": {
    "colab": {
     "base_uri": "https://localhost:8080/"
    },
    "id": "Tk8TZ-wH9Hal",
    "outputId": "871a2edb-5172-482e-b041-b7a146166948"
   },
   "outputs": [
    {
     "name": "stdout",
     "output_type": "stream",
     "text": [
      "starting with the month 1\n",
      "for subreddit...Ex_Foster\n",
      "setting start epoch...\n",
      "setting end epoch...\n",
      "the last day of the month is...\n",
      "31\n",
      "setting up the generator...\n",
      "setting up the dataframe...\n",
      "The number of comments for year 2020 and month 1 is 134\n",
      "starting with the month 2\n",
      "for subreddit...Ex_Foster\n",
      "setting start epoch...\n",
      "setting end epoch...\n",
      "the last day of the month is...\n",
      "29\n",
      "setting up the generator...\n",
      "setting up the dataframe...\n",
      "The number of comments for year 2020 and month 2 is 210\n",
      "starting with the month 3\n",
      "for subreddit...Ex_Foster\n",
      "setting start epoch...\n",
      "setting end epoch...\n",
      "the last day of the month is...\n",
      "31\n",
      "setting up the generator...\n",
      "setting up the dataframe...\n",
      "The number of comments for year 2020 and month 3 is 275\n",
      "starting with the month 4\n",
      "for subreddit...Ex_Foster\n",
      "setting start epoch...\n",
      "setting end epoch...\n",
      "the last day of the month is...\n",
      "30\n",
      "setting up the generator...\n",
      "setting up the dataframe...\n",
      "The number of comments for year 2020 and month 4 is 279\n",
      "starting with the month 5\n",
      "for subreddit...Ex_Foster\n",
      "setting start epoch...\n",
      "setting end epoch...\n",
      "the last day of the month is...\n",
      "31\n",
      "setting up the generator...\n",
      "setting up the dataframe...\n",
      "The number of comments for year 2020 and month 5 is 501\n",
      "starting with the month 6\n",
      "for subreddit...Ex_Foster\n",
      "setting start epoch...\n",
      "setting end epoch...\n",
      "the last day of the month is...\n",
      "30\n",
      "setting up the generator...\n",
      "setting up the dataframe...\n",
      "The number of comments for year 2020 and month 6 is 185\n",
      "starting with the month 7\n",
      "for subreddit...Ex_Foster\n",
      "setting start epoch...\n",
      "setting end epoch...\n",
      "the last day of the month is...\n",
      "31\n",
      "setting up the generator...\n",
      "setting up the dataframe...\n"
     ]
    },
    {
     "name": "stderr",
     "output_type": "stream",
     "text": [
      "/usr/local/lib/python3.7/dist-packages/psaw/PushshiftAPI.py:192: UserWarning: Got non 200 code 429\n",
      "  warnings.warn(\"Got non 200 code %s\" % response.status_code)\n",
      "/usr/local/lib/python3.7/dist-packages/psaw/PushshiftAPI.py:180: UserWarning: Unable to connect to pushshift.io. Retrying after backoff.\n",
      "  warnings.warn(\"Unable to connect to pushshift.io. Retrying after backoff.\")\n"
     ]
    },
    {
     "name": "stdout",
     "output_type": "stream",
     "text": [
      "The number of comments for year 2020 and month 7 is 353\n",
      "starting with the month 8\n",
      "for subreddit...Ex_Foster\n",
      "setting start epoch...\n",
      "setting end epoch...\n",
      "the last day of the month is...\n",
      "31\n",
      "setting up the generator...\n",
      "setting up the dataframe...\n",
      "The number of comments for year 2020 and month 8 is 217\n",
      "starting with the month 9\n",
      "for subreddit...Ex_Foster\n",
      "setting start epoch...\n",
      "setting end epoch...\n",
      "the last day of the month is...\n",
      "30\n",
      "setting up the generator...\n",
      "setting up the dataframe...\n",
      "The number of comments for year 2020 and month 9 is 217\n",
      "starting with the month 10\n",
      "for subreddit...Ex_Foster\n",
      "setting start epoch...\n",
      "setting end epoch...\n",
      "the last day of the month is...\n",
      "31\n",
      "setting up the generator...\n",
      "setting up the dataframe...\n",
      "The number of comments for year 2020 and month 10 is 222\n",
      "starting with the month 11\n",
      "for subreddit...Ex_Foster\n",
      "setting start epoch...\n",
      "setting end epoch...\n",
      "the last day of the month is...\n",
      "30\n",
      "setting up the generator...\n",
      "setting up the dataframe...\n",
      "The number of comments for year 2020 and month 11 is 100\n",
      "starting with the month 12\n",
      "for subreddit...Ex_Foster\n",
      "setting start epoch...\n",
      "setting end epoch...\n",
      "the last day of the month is...\n",
      "31\n",
      "setting up the generator...\n",
      "setting up the dataframe...\n",
      "The number of comments for year 2020 and month 12 is 136\n"
     ]
    }
   ],
   "source": [
    "import datetime\n",
    "subredditlist = ['Ex_Foster']\n",
    "for reddit in subredditlist:\n",
    "   #collect data 2020\n",
    "    for y in range(2020,2021):\n",
    "      #collect data between January and December\n",
    "      for i in range(1,13):\n",
    "          file_name= str(reddit)+\"_\"+str(y)+\"_\"+str(i)+\".json\"\n",
    "          print(\"starting with the month \"+str(i))\n",
    "          print(\"for subreddit...\"+str(reddit))\n",
    "          print(\"setting start epoch...\")\n",
    "          start_epoch=int(dt.datetime(y, i, 1).timestamp())\n",
    "          print(\"setting end epoch...\")\n",
    "          last_day = last_day_of_month(datetime.date(y, i, 1))\n",
    "          print(\"the last day of the month is...\")\n",
    "          print(last_day.day)\n",
    "          last_day = int(last_day.day)\n",
    "          end_epoch = int(dt.datetime(y,i,last_day).timestamp())\n",
    "          print(\"setting up the generator...\")\n",
    "          gen = api.search_comments(after=start_epoch, before=end_epoch,subreddit=reddit)\n",
    "          print(\"setting up the dataframe...\")\n",
    "          df = pd.DataFrame([obj.d_ for obj in gen])\n",
    "          print(\"The number of comments for year \"+ str(y)+\" and month \"+str(i)+\" is \"+str(len(df.index)))\n",
    "          df.to_json(file_name)"
   ]
  },
  {
   "cell_type": "code",
   "execution_count": 15,
   "metadata": {
    "colab": {
     "base_uri": "https://localhost:8080/",
     "height": 564
    },
    "id": "MZfaFC-o-hz8",
    "outputId": "8b0f3e75-893f-47d8-e194-af633cfe3baf"
   },
   "outputs": [
    {
     "data": {
      "text/html": [
       "<div>\n",
       "<style scoped>\n",
       "    .dataframe tbody tr th:only-of-type {\n",
       "        vertical-align: middle;\n",
       "    }\n",
       "\n",
       "    .dataframe tbody tr th {\n",
       "        vertical-align: top;\n",
       "    }\n",
       "\n",
       "    .dataframe thead th {\n",
       "        text-align: right;\n",
       "    }\n",
       "</style>\n",
       "<table border=\"1\" class=\"dataframe\">\n",
       "  <thead>\n",
       "    <tr style=\"text-align: right;\">\n",
       "      <th></th>\n",
       "      <th>all_awardings</th>\n",
       "      <th>associated_award</th>\n",
       "      <th>author</th>\n",
       "      <th>author_flair_background_color</th>\n",
       "      <th>author_flair_css_class</th>\n",
       "      <th>author_flair_richtext</th>\n",
       "      <th>author_flair_template_id</th>\n",
       "      <th>author_flair_text</th>\n",
       "      <th>author_flair_text_color</th>\n",
       "      <th>author_flair_type</th>\n",
       "      <th>author_fullname</th>\n",
       "      <th>author_patreon_flair</th>\n",
       "      <th>author_premium</th>\n",
       "      <th>awarders</th>\n",
       "      <th>body</th>\n",
       "      <th>collapsed_because_crowd_control</th>\n",
       "      <th>comment_type</th>\n",
       "      <th>created_utc</th>\n",
       "      <th>gildings</th>\n",
       "      <th>id</th>\n",
       "      <th>is_submitter</th>\n",
       "      <th>link_id</th>\n",
       "      <th>locked</th>\n",
       "      <th>no_follow</th>\n",
       "      <th>parent_id</th>\n",
       "      <th>permalink</th>\n",
       "      <th>retrieved_on</th>\n",
       "      <th>score</th>\n",
       "      <th>send_replies</th>\n",
       "      <th>stickied</th>\n",
       "      <th>subreddit</th>\n",
       "      <th>subreddit_id</th>\n",
       "      <th>top_awarded_type</th>\n",
       "      <th>total_awards_received</th>\n",
       "      <th>treatment_tags</th>\n",
       "      <th>created</th>\n",
       "    </tr>\n",
       "  </thead>\n",
       "  <tbody>\n",
       "    <tr>\n",
       "      <th>131</th>\n",
       "      <td>[]</td>\n",
       "      <td>None</td>\n",
       "      <td>IDidntShart</td>\n",
       "      <td>None</td>\n",
       "      <td>None</td>\n",
       "      <td>[]</td>\n",
       "      <td>None</td>\n",
       "      <td>None</td>\n",
       "      <td>None</td>\n",
       "      <td>text</td>\n",
       "      <td>t2_s7fbz</td>\n",
       "      <td>False</td>\n",
       "      <td>False</td>\n",
       "      <td>[]</td>\n",
       "      <td>Listen, I can’t answer this for you. I have no...</td>\n",
       "      <td>None</td>\n",
       "      <td>None</td>\n",
       "      <td>1606788905</td>\n",
       "      <td>{}</td>\n",
       "      <td>ge7u9gm</td>\n",
       "      <td>False</td>\n",
       "      <td>t3_k4b2ja</td>\n",
       "      <td>False</td>\n",
       "      <td>True</td>\n",
       "      <td>t3_k4b2ja</td>\n",
       "      <td>/r/Ex_Foster/comments/k4b2ja/aged_out_foster_k...</td>\n",
       "      <td>1606795338</td>\n",
       "      <td>1</td>\n",
       "      <td>True</td>\n",
       "      <td>False</td>\n",
       "      <td>Ex_Foster</td>\n",
       "      <td>t5_ykjzi</td>\n",
       "      <td>None</td>\n",
       "      <td>0</td>\n",
       "      <td>[]</td>\n",
       "      <td>1.606789e+09</td>\n",
       "    </tr>\n",
       "    <tr>\n",
       "      <th>132</th>\n",
       "      <td>[]</td>\n",
       "      <td>None</td>\n",
       "      <td>unspokenthoughtsxx89</td>\n",
       "      <td>None</td>\n",
       "      <td>None</td>\n",
       "      <td>[]</td>\n",
       "      <td>None</td>\n",
       "      <td>None</td>\n",
       "      <td>None</td>\n",
       "      <td>text</td>\n",
       "      <td>t2_5b5wt8s8</td>\n",
       "      <td>False</td>\n",
       "      <td>False</td>\n",
       "      <td>[]</td>\n",
       "      <td>Kk</td>\n",
       "      <td>None</td>\n",
       "      <td>None</td>\n",
       "      <td>1606787726</td>\n",
       "      <td>{}</td>\n",
       "      <td>ge7s1sr</td>\n",
       "      <td>False</td>\n",
       "      <td>t3_k0jgks</td>\n",
       "      <td>False</td>\n",
       "      <td>True</td>\n",
       "      <td>t3_k0jgks</td>\n",
       "      <td>/r/Ex_Foster/comments/k0jgks/just_an_fyi_ill_b...</td>\n",
       "      <td>1606794155</td>\n",
       "      <td>1</td>\n",
       "      <td>True</td>\n",
       "      <td>False</td>\n",
       "      <td>Ex_Foster</td>\n",
       "      <td>t5_ykjzi</td>\n",
       "      <td>None</td>\n",
       "      <td>0</td>\n",
       "      <td>[]</td>\n",
       "      <td>1.606788e+09</td>\n",
       "    </tr>\n",
       "    <tr>\n",
       "      <th>133</th>\n",
       "      <td>[]</td>\n",
       "      <td>None</td>\n",
       "      <td>teacheroftroubles</td>\n",
       "      <td>None</td>\n",
       "      <td>None</td>\n",
       "      <td>[]</td>\n",
       "      <td>None</td>\n",
       "      <td>None</td>\n",
       "      <td>None</td>\n",
       "      <td>text</td>\n",
       "      <td>t2_16xxn8</td>\n",
       "      <td>False</td>\n",
       "      <td>False</td>\n",
       "      <td>[]</td>\n",
       "      <td>I am a ffy and a teacher - keep my contact I w...</td>\n",
       "      <td>None</td>\n",
       "      <td>None</td>\n",
       "      <td>1606786577</td>\n",
       "      <td>{}</td>\n",
       "      <td>ge7pxm2</td>\n",
       "      <td>False</td>\n",
       "      <td>t3_j25l2c</td>\n",
       "      <td>False</td>\n",
       "      <td>True</td>\n",
       "      <td>t3_j25l2c</td>\n",
       "      <td>/r/Ex_Foster/comments/j25l2c/looking_for_volun...</td>\n",
       "      <td>1606793009</td>\n",
       "      <td>1</td>\n",
       "      <td>True</td>\n",
       "      <td>False</td>\n",
       "      <td>Ex_Foster</td>\n",
       "      <td>t5_ykjzi</td>\n",
       "      <td>None</td>\n",
       "      <td>0</td>\n",
       "      <td>[]</td>\n",
       "      <td>1.606787e+09</td>\n",
       "    </tr>\n",
       "    <tr>\n",
       "      <th>134</th>\n",
       "      <td>[]</td>\n",
       "      <td>None</td>\n",
       "      <td>teacheroftroubles</td>\n",
       "      <td>None</td>\n",
       "      <td>None</td>\n",
       "      <td>[]</td>\n",
       "      <td>None</td>\n",
       "      <td>None</td>\n",
       "      <td>None</td>\n",
       "      <td>text</td>\n",
       "      <td>t2_16xxn8</td>\n",
       "      <td>False</td>\n",
       "      <td>False</td>\n",
       "      <td>[]</td>\n",
       "      <td>As kid who was respited it sucked strangers, s...</td>\n",
       "      <td>None</td>\n",
       "      <td>None</td>\n",
       "      <td>1606786484</td>\n",
       "      <td>{}</td>\n",
       "      <td>ge7pr9k</td>\n",
       "      <td>False</td>\n",
       "      <td>t3_j6i603</td>\n",
       "      <td>False</td>\n",
       "      <td>False</td>\n",
       "      <td>t3_j6i603</td>\n",
       "      <td>/r/Ex_Foster/comments/j6i603/respite/ge7pr9k/</td>\n",
       "      <td>1606792915</td>\n",
       "      <td>1</td>\n",
       "      <td>True</td>\n",
       "      <td>False</td>\n",
       "      <td>Ex_Foster</td>\n",
       "      <td>t5_ykjzi</td>\n",
       "      <td>None</td>\n",
       "      <td>0</td>\n",
       "      <td>[]</td>\n",
       "      <td>1.606786e+09</td>\n",
       "    </tr>\n",
       "    <tr>\n",
       "      <th>135</th>\n",
       "      <td>[]</td>\n",
       "      <td>None</td>\n",
       "      <td>teacheroftroubles</td>\n",
       "      <td>None</td>\n",
       "      <td>None</td>\n",
       "      <td>[]</td>\n",
       "      <td>None</td>\n",
       "      <td>None</td>\n",
       "      <td>None</td>\n",
       "      <td>text</td>\n",
       "      <td>t2_16xxn8</td>\n",
       "      <td>False</td>\n",
       "      <td>False</td>\n",
       "      <td>[]</td>\n",
       "      <td>I want to say I got a package today - with a n...</td>\n",
       "      <td>None</td>\n",
       "      <td>None</td>\n",
       "      <td>1606786049</td>\n",
       "      <td>{}</td>\n",
       "      <td>ge7oy0j</td>\n",
       "      <td>False</td>\n",
       "      <td>t3_k0jgks</td>\n",
       "      <td>False</td>\n",
       "      <td>True</td>\n",
       "      <td>t3_k0jgks</td>\n",
       "      <td>/r/Ex_Foster/comments/k0jgks/just_an_fyi_ill_b...</td>\n",
       "      <td>1606792478</td>\n",
       "      <td>1</td>\n",
       "      <td>True</td>\n",
       "      <td>False</td>\n",
       "      <td>Ex_Foster</td>\n",
       "      <td>t5_ykjzi</td>\n",
       "      <td>None</td>\n",
       "      <td>0</td>\n",
       "      <td>[]</td>\n",
       "      <td>1.606786e+09</td>\n",
       "    </tr>\n",
       "  </tbody>\n",
       "</table>\n",
       "</div>"
      ],
      "text/plain": [
       "    all_awardings associated_award  ... treatment_tags       created\n",
       "131            []             None  ...             []  1.606789e+09\n",
       "132            []             None  ...             []  1.606788e+09\n",
       "133            []             None  ...             []  1.606787e+09\n",
       "134            []             None  ...             []  1.606786e+09\n",
       "135            []             None  ...             []  1.606786e+09\n",
       "\n",
       "[5 rows x 36 columns]"
      ]
     },
     "execution_count": 15,
     "metadata": {
      "tags": []
     },
     "output_type": "execute_result"
    }
   ],
   "source": [
    "df.tail()"
   ]
  },
  {
   "cell_type": "markdown",
   "metadata": {
    "id": "AphMKa4--JO4"
   },
   "source": [
    "#Part II: TF-IDF"
   ]
  },
  {
   "cell_type": "markdown",
   "metadata": {
    "id": "wIBVvLlL-OZJ"
   },
   "source": [
    "Q2. Create a TFIDF vectorizer using ngrams between 1 and 3, and remove all english stop words using NLTK. [10 points]"
   ]
  },
  {
   "cell_type": "code",
   "execution_count": 12,
   "metadata": {
    "id": "KWY85r159k51"
   },
   "outputs": [],
   "source": [
    "#A2.\n",
    "from sklearn.feature_extraction.text import TfidfVectorizer\n",
    "from collections import defaultdict\n",
    "\n",
    "stoplist = stopwords.words('english')\n",
    "vectorizer = TfidfVectorizer(ngram_range=(1,3),stop_words=stoplist)"
   ]
  },
  {
   "cell_type": "markdown",
   "metadata": {
    "id": "CIn4__eY-gLR"
   },
   "source": [
    "Q3. Fit the vectorizer on the body column of the dataframe. [5 points]"
   ]
  },
  {
   "cell_type": "code",
   "execution_count": 13,
   "metadata": {
    "id": "uwVi5v97-eDT"
   },
   "outputs": [],
   "source": [
    "#A3.\n",
    "X = vectorizer.fit_transform(df['body'])"
   ]
  },
  {
   "cell_type": "markdown",
   "metadata": {
    "id": "qkCPOOhZB7AA"
   },
   "source": [
    "Q4. Find the top features (without the weights) using the TF-IDF vector using ngrams betwen 1 and 3. In other words, show the top 20 tokens for 1-gram, 2-gram, and 3-grams [15 points]"
   ]
  },
  {
   "cell_type": "code",
   "execution_count": 14,
   "metadata": {
    "colab": {
     "base_uri": "https://localhost:8080/"
    },
    "id": "gARQ30gWDn5k",
    "outputId": "4d6ced0c-9536-4078-8ddd-8227839d73e6"
   },
   "outputs": [
    {
     "name": "stdout",
     "output_type": "stream",
     "text": [
      "1-gram top: ['like', 'foster', 'get', 'one', 'think', 'would', 'know', 'time', 'want', 'also', 'good', 'people', 'feel', 'go', 'kids', 'much', 'take', 'thank', 'care', 'things']\n",
      "2-gram top: ['feel like', 'foster care', 'foster parent', 'group home', 'feel free', 'thank sharing', 'make sure', 'even though', 'felt like', 'foster kid', 'foster parents', 'good luck', 'group homes', 'https www', 'sex education', 'years ago', '15 minute', 'ex fosters', 'feels like', 'former foster']\n",
      "3-gram top: ['cares enough make', 'feel free message', 'former foster youth', 'foster care agency', 'free career coaching', 'gifts specific enough', 'give much space', 'give personal info', 'hope gets better', 'hoping gifts specific', 'social workers foster', 'someone cares enough', 'take grain salt', '10 15 girls', '10 years time', '100 pro choice', '100 time thank', '11 aunt uncle', '11 freaking months', '12 foster home']\n"
     ]
    }
   ],
   "source": [
    "#A4.\n",
    "features_by_gram = defaultdict(list)\n",
    "for f, w in zip(vectorizer.get_feature_names(), vectorizer.idf_):\n",
    "    features_by_gram[len(f.split(' '))].append((f, w))\n",
    "\n",
    "top_n = 20\n",
    "\n",
    "for gram, features in features_by_gram.items():\n",
    "    #get sorted top features\n",
    "    top_features = sorted(features, key=lambda x: x[1], reverse=False)[:top_n]\n",
    "    #get the top features and their weights\n",
    "    #now just focus on getting the first element of the tuple\n",
    "    top_features = [f[0] for f in top_features]\n",
    "    print('{}-gram top:'.format(gram), top_features)"
   ]
  },
  {
   "cell_type": "markdown",
   "metadata": {
    "id": "p5U5GUwaCgDQ"
   },
   "source": [
    "#Part III: LDA"
   ]
  },
  {
   "cell_type": "markdown",
   "metadata": {
    "id": "XyerVQskDd77"
   },
   "source": [
    "Q5.Now create the dataframe we will use for the LDA model. Each document should be the complete Reddit thread. The thread is grouped by the field link_id. Call this dataframe **df_p_threads** [5 points]"
   ]
  },
  {
   "cell_type": "code",
   "execution_count": 26,
   "metadata": {
    "colab": {
     "base_uri": "https://localhost:8080/",
     "height": 731
    },
    "id": "ShoLHjhyCS5-",
    "outputId": "2795701b-6d05-4ecd-cb4f-b4d9707c6343"
   },
   "outputs": [
    {
     "data": {
      "text/html": [
       "<div>\n",
       "<style scoped>\n",
       "    .dataframe tbody tr th:only-of-type {\n",
       "        vertical-align: middle;\n",
       "    }\n",
       "\n",
       "    .dataframe tbody tr th {\n",
       "        vertical-align: top;\n",
       "    }\n",
       "\n",
       "    .dataframe thead th {\n",
       "        text-align: right;\n",
       "    }\n",
       "</style>\n",
       "<table border=\"1\" class=\"dataframe\">\n",
       "  <thead>\n",
       "    <tr style=\"text-align: right;\">\n",
       "      <th></th>\n",
       "      <th>comment_thread</th>\n",
       "      <th>body</th>\n",
       "    </tr>\n",
       "  </thead>\n",
       "  <tbody>\n",
       "    <tr>\n",
       "      <th>0</th>\n",
       "      <td>t3_j25l2c</td>\n",
       "      <td>Thank you!,I am a ffy and a teacher - keep my ...</td>\n",
       "    </tr>\n",
       "    <tr>\n",
       "      <th>1</th>\n",
       "      <td>t3_j6i603</td>\n",
       "      <td>I loved both respite people I stayed with it w...</td>\n",
       "    </tr>\n",
       "    <tr>\n",
       "      <th>2</th>\n",
       "      <td>t3_j8ay2m</td>\n",
       "      <td>I was only in foster care from age 16-17 only ...</td>\n",
       "    </tr>\n",
       "    <tr>\n",
       "      <th>3</th>\n",
       "      <td>t3_k0jgks</td>\n",
       "      <td>I'm really happy to hear that things were ship...</td>\n",
       "    </tr>\n",
       "    <tr>\n",
       "      <th>4</th>\n",
       "      <td>t3_k3ih6a</td>\n",
       "      <td>Oh no, I'm so sorry for your loss. I am going ...</td>\n",
       "    </tr>\n",
       "    <tr>\n",
       "      <th>5</th>\n",
       "      <td>t3_k3kwte</td>\n",
       "      <td>Honestly, I don't know. I'm not accustomed to ...</td>\n",
       "    </tr>\n",
       "    <tr>\n",
       "      <th>6</th>\n",
       "      <td>t3_k4b2ja</td>\n",
       "      <td>You are right these are systemic barriers that...</td>\n",
       "    </tr>\n",
       "    <tr>\n",
       "      <th>7</th>\n",
       "      <td>t3_k50ay8</td>\n",
       "      <td>I was in a group home when I was first put int...</td>\n",
       "    </tr>\n",
       "    <tr>\n",
       "      <th>8</th>\n",
       "      <td>t3_k5bx2l</td>\n",
       "      <td>I'm proud of you!! Thats a great accomplishmen...</td>\n",
       "    </tr>\n",
       "    <tr>\n",
       "      <th>9</th>\n",
       "      <td>t3_k5o2t4</td>\n",
       "      <td>As a teen I read adult books, murder and horro...</td>\n",
       "    </tr>\n",
       "    <tr>\n",
       "      <th>10</th>\n",
       "      <td>t3_k5un7u</td>\n",
       "      <td>Someone posted one a while back and it’s still...</td>\n",
       "    </tr>\n",
       "    <tr>\n",
       "      <th>11</th>\n",
       "      <td>t3_k8t1yj</td>\n",
       "      <td>Me and my husband are not having biological ch...</td>\n",
       "    </tr>\n",
       "    <tr>\n",
       "      <th>12</th>\n",
       "      <td>t3_ka3z79</td>\n",
       "      <td>Have you heard of the organization called A Ho...</td>\n",
       "    </tr>\n",
       "    <tr>\n",
       "      <th>13</th>\n",
       "      <td>t3_kajfg9</td>\n",
       "      <td>[deleted],I think an it this often. All these ...</td>\n",
       "    </tr>\n",
       "    <tr>\n",
       "      <th>14</th>\n",
       "      <td>t3_kcgc13</td>\n",
       "      <td>Each person's location is noted at 15-minute i...</td>\n",
       "    </tr>\n",
       "    <tr>\n",
       "      <th>15</th>\n",
       "      <td>t3_ke0off</td>\n",
       "      <td>Totally agree.,Our lineage is the Ex fosters w...</td>\n",
       "    </tr>\n",
       "    <tr>\n",
       "      <th>16</th>\n",
       "      <td>t3_kefopk</td>\n",
       "      <td>May I ask when this was and how old you are no...</td>\n",
       "    </tr>\n",
       "    <tr>\n",
       "      <th>17</th>\n",
       "      <td>t3_kgh9yp</td>\n",
       "      <td>I’m an former foster youth myself that’s just ...</td>\n",
       "    </tr>\n",
       "    <tr>\n",
       "      <th>18</th>\n",
       "      <td>t3_kh08z5</td>\n",
       "      <td>I think there were rules at the houses I lived...</td>\n",
       "    </tr>\n",
       "    <tr>\n",
       "      <th>19</th>\n",
       "      <td>t3_kihp9w</td>\n",
       "      <td>That’s what I was trying to sing lol,If you li...</td>\n",
       "    </tr>\n",
       "    <tr>\n",
       "      <th>20</th>\n",
       "      <td>t3_kj6jgi</td>\n",
       "      <td>I'm also sponsoring the lover of sewing, dysto...</td>\n",
       "    </tr>\n",
       "    <tr>\n",
       "      <th>21</th>\n",
       "      <td>t3_kjinsu</td>\n",
       "      <td>This Sponsorship program sounds amazing!  Is t...</td>\n",
       "    </tr>\n",
       "  </tbody>\n",
       "</table>\n",
       "</div>"
      ],
      "text/plain": [
       "   comment_thread                                               body\n",
       "0       t3_j25l2c  Thank you!,I am a ffy and a teacher - keep my ...\n",
       "1       t3_j6i603  I loved both respite people I stayed with it w...\n",
       "2       t3_j8ay2m  I was only in foster care from age 16-17 only ...\n",
       "3       t3_k0jgks  I'm really happy to hear that things were ship...\n",
       "4       t3_k3ih6a  Oh no, I'm so sorry for your loss. I am going ...\n",
       "5       t3_k3kwte  Honestly, I don't know. I'm not accustomed to ...\n",
       "6       t3_k4b2ja  You are right these are systemic barriers that...\n",
       "7       t3_k50ay8  I was in a group home when I was first put int...\n",
       "8       t3_k5bx2l  I'm proud of you!! Thats a great accomplishmen...\n",
       "9       t3_k5o2t4  As a teen I read adult books, murder and horro...\n",
       "10      t3_k5un7u  Someone posted one a while back and it’s still...\n",
       "11      t3_k8t1yj  Me and my husband are not having biological ch...\n",
       "12      t3_ka3z79  Have you heard of the organization called A Ho...\n",
       "13      t3_kajfg9  [deleted],I think an it this often. All these ...\n",
       "14      t3_kcgc13  Each person's location is noted at 15-minute i...\n",
       "15      t3_ke0off  Totally agree.,Our lineage is the Ex fosters w...\n",
       "16      t3_kefopk  May I ask when this was and how old you are no...\n",
       "17      t3_kgh9yp  I’m an former foster youth myself that’s just ...\n",
       "18      t3_kh08z5  I think there were rules at the houses I lived...\n",
       "19      t3_kihp9w  That’s what I was trying to sing lol,If you li...\n",
       "20      t3_kj6jgi  I'm also sponsoring the lover of sewing, dysto...\n",
       "21      t3_kjinsu  This Sponsorship program sounds amazing!  Is t..."
      ]
     },
     "execution_count": 26,
     "metadata": {
      "tags": []
     },
     "output_type": "execute_result"
    }
   ],
   "source": [
    "#A5\n",
    "df_p = df.reset_index().groupby(\"link_id\",as_index=False )['body'].apply(lambda x: ','.join(x))\n",
    "p_threads = df_p.values\n",
    "df_p_threads = pd.DataFrame(p_threads)\n",
    "df_p_threads.rename(columns={0: \"comment_thread\", 1: \"body\"},inplace=True)\n",
    "df_p_threads"
   ]
  },
  {
   "cell_type": "markdown",
   "metadata": {
    "id": "k3PAZKjrCjWY"
   },
   "source": [
    "Q6. In the first pass, clean the text by removing the newline character code, the aperasand character code, non-breaking space and, and zero-width space. [5 points]"
   ]
  },
  {
   "cell_type": "code",
   "execution_count": 35,
   "metadata": {
    "id": "weaUt60TDUMT"
   },
   "outputs": [],
   "source": [
    "#A6\n",
    "def first_pass(text): \n",
    "    text = str(text)\n",
    "    text = text.replace('\\\\n',' ')\n",
    "    text = text.replace('&amp',' ')\n",
    "    text = text.replace(';#x200B;',' ')\n",
    "    text = text.replace('nbsp',' ')\n",
    "    return text\n",
    "df_p_threads['clean_text'] = df_p_threads.body.apply(first_pass)"
   ]
  },
  {
   "cell_type": "markdown",
   "metadata": {
    "id": "95k_fYayDBUy"
   },
   "source": [
    "Q7.In the second pass, tokenize, remove stopwords and punctuation as well as urls (web links). I also want you to use the nltk lemmatizer to lemmatize the body [5 points]"
   ]
  },
  {
   "cell_type": "code",
   "execution_count": 36,
   "metadata": {
    "colab": {
     "base_uri": "https://localhost:8080/"
    },
    "id": "CG3jaHYSDkBk",
    "outputId": "f68f5570-bf7b-49c9-bf2c-ef4211ed72ab"
   },
   "outputs": [
    {
     "name": "stdout",
     "output_type": "stream",
     "text": [
      "[nltk_data] Downloading package punkt to /root/nltk_data...\n",
      "[nltk_data]   Package punkt is already up-to-date!\n",
      "[nltk_data] Downloading package wordnet to /root/nltk_data...\n",
      "[nltk_data]   Package wordnet is already up-to-date!\n"
     ]
    }
   ],
   "source": [
    "#A7\n",
    "nltk.download('punkt')\n",
    "nltk.download('wordnet')\n",
    "stopwords_english = stopwords.words('english')\n",
    "\n",
    "from nltk.stem import WordNetLemmatizer\n",
    "wordnet_lemmatizer = WordNetLemmatizer()\n",
    "\n",
    "def second_pass(text): \n",
    "    text = str(text)\n",
    "    text = text.lower()\n",
    "    text = re.sub(r'^https?:\\/\\/.*[\\r\\n]*', '', text, flags=re.MULTILINE)\n",
    "    tokens = nltk.word_tokenize(text) \n",
    "    clean_text = []\n",
    "    for word in tokens:\n",
    "        if (word not in stopwords_english and word not in string.punctuation): \n",
    "            token = wordnet_lemmatizer.lemmatize(word)\n",
    "            clean_text.append(token)       \n",
    "    clean_text = [token for token in clean_text if len(token) > 3]  \n",
    "    return clean_text     \n",
    "df_p_threads['clean_text'] = df_p_threads.body.apply(second_pass)"
   ]
  },
  {
   "cell_type": "code",
   "execution_count": 37,
   "metadata": {
    "colab": {
     "base_uri": "https://localhost:8080/"
    },
    "id": "ORHU2zxpIYAj",
    "outputId": "716cb136-984c-4573-de6a-54b653ca9057"
   },
   "outputs": [
    {
     "data": {
      "text/plain": [
       "0     [thank, teacher, keep, contact, would, love, s...\n",
       "1     [loved, respite, people, stayed, awesome, fost...\n",
       "2     [foster, care, 16-17, feel, always, feel, weir...\n",
       "3     [really, happy, hear, thing, shipped, quickly,...\n",
       "4     [sorry, loss, going, thing, lost, pupper, resc...\n",
       "5     [honestly, know, accustomed, family, dynamic, ...\n",
       "6     [right, systemic, barrier, aged, face, rest, l...\n",
       "7     [group, home, first, care, home, taking, city,...\n",
       "8     [proud, thats, great, accomplishment, foster, ...\n",
       "9     [teen, read, adult, book, murder, horror, alex...\n",
       "10               [someone, posted, back, still, active]\n",
       "11    [husband, biological, child, talked, fostering...\n",
       "12    [heard, organization, called, home, within, co...\n",
       "13    [deleted, think, often, people, agreed, help, ...\n",
       "14    [person, location, noted, 15-minute, interval,...\n",
       "15    [totally, agree., lineage, foster, came, cultu...\n",
       "16    [sorry, went, life, foster, home, freaking, mo...\n",
       "17    [former, foster, youth, trying, good, custom, ...\n",
       "18    [think, rule, house, lived, staff, cared, mana...\n",
       "19                  [trying, sing, like, piña, coladas]\n",
       "20    [also, sponsoring, lover, sewing, dystopian, n...\n",
       "21    [sponsorship, program, sound, amazing, going, ...\n",
       "Name: clean_text, dtype: object"
      ]
     },
     "execution_count": 37,
     "metadata": {
      "tags": []
     },
     "output_type": "execute_result"
    }
   ],
   "source": [
    "df_p_threads.clean_text"
   ]
  },
  {
   "cell_type": "code",
   "execution_count": 38,
   "metadata": {
    "id": "Hklf8jUuEeKG"
   },
   "outputs": [],
   "source": [
    "#Now that we have the cleaned text for each thread\n",
    "#documents, or docs represents each thread\n",
    "docs = df_p_threads.clean_text"
   ]
  },
  {
   "cell_type": "markdown",
   "metadata": {
    "id": "B02z_6UOEoDB"
   },
   "source": [
    "Q8.Create a gensim dictionary using the docs [5 points]\n"
   ]
  },
  {
   "cell_type": "code",
   "execution_count": 42,
   "metadata": {
    "colab": {
     "base_uri": "https://localhost:8080/"
    },
    "id": "uqSG7iQgEr0e",
    "outputId": "271a223d-6a9f-40ee-f34f-dca75afa0f99"
   },
   "outputs": [
    {
     "name": "stdout",
     "output_type": "stream",
     "text": [
      "1813\n",
      "Dictionary(1813 unique tokens: ['contact', 'keep', 'love', 'math', 'someone']...)\n"
     ]
    }
   ],
   "source": [
    "#A8\n",
    "dictionary = corpora.Dictionary(docs)\n",
    "print(len(dictionary))\n",
    "dictionary.save('Ex_Foster.dict')\n",
    "print(dictionary)"
   ]
  },
  {
   "cell_type": "markdown",
   "metadata": {
    "id": "oF33B0PAE1ni"
   },
   "source": [
    "Q9.Create the gensim corpus using the dictionary [5 points]"
   ]
  },
  {
   "cell_type": "code",
   "execution_count": 43,
   "metadata": {
    "colab": {
     "base_uri": "https://localhost:8080/"
    },
    "id": "LHpOV_HvEyWF",
    "outputId": "d0080db0-3a2e-44f9-a360-821cb7bdcd80"
   },
   "outputs": [
    {
     "name": "stdout",
     "output_type": "stream",
     "text": [
      "[[(0, 1), (1, 1), (2, 1), (3, 1), (4, 1), (5, 2), (6, 1), (7, 1)]]\n"
     ]
    }
   ],
   "source": [
    "#A9\n",
    "corpus = [dictionary.doc2bow(text) for text in docs]\n",
    "corpora.MmCorpus.serialize('Ex_Foster.mm', corpus)\n",
    "print(corpus[:1])"
   ]
  },
  {
   "cell_type": "markdown",
   "metadata": {
    "id": "i6h4mRoXE8Ii"
   },
   "source": [
    "Q10.Create the id2word mapping between the token number and the words. Call this **id2word** [5 points]"
   ]
  },
  {
   "cell_type": "code",
   "execution_count": 44,
   "metadata": {
    "colab": {
     "base_uri": "https://localhost:8080/"
    },
    "id": "-0iWQej2FOh6",
    "outputId": "0eb50ac0-b059-4787-969a-67b22123fc63"
   },
   "outputs": [
    {
     "name": "stdout",
     "output_type": "stream",
     "text": [
      "[[('contact', 1), ('keep', 1), ('love', 1), ('math', 1), ('someone', 1), ('teacher', 2), ('thank', 1), ('would', 1)]]\n"
     ]
    }
   ],
   "source": [
    "#A10\n",
    "id2word = corpora.Dictionary(docs)\n",
    "print([[(id2word[id], freq) for id, freq in cp] for cp in corpus[:1]])"
   ]
  },
  {
   "cell_type": "markdown",
   "metadata": {
    "id": "zY-dDdTSFZEX"
   },
   "source": [
    "Q11.As we did in the class example, I want you to run LDA models over the documents. Start with 10 topics, and with steps of 10 topics, the limit would be 110 topics. You should have a total of 9 models. [20 points]"
   ]
  },
  {
   "cell_type": "code",
   "execution_count": 48,
   "metadata": {
    "colab": {
     "base_uri": "https://localhost:8080/"
    },
    "id": "64YRTcCfFYVo",
    "outputId": "31a147be-a8fc-4cda-950d-3eb03d62ce69"
   },
   "outputs": [
    {
     "name": "stdout",
     "output_type": "stream",
     "text": [
      "saving the LDA model...\n",
      "done with model  10\n",
      "coherence metric is  0.2829795435972672\n",
      "saving the LDA model...\n",
      "done with model  20\n",
      "coherence metric is  0.324101266792016\n",
      "saving the LDA model...\n",
      "done with model  30\n",
      "coherence metric is  0.32699096865830357\n",
      "saving the LDA model...\n",
      "done with model  40\n",
      "coherence metric is  0.307173577770281\n",
      "saving the LDA model...\n",
      "done with model  50\n",
      "coherence metric is  0.3197837645922683\n",
      "saving the LDA model...\n",
      "done with model  60\n",
      "coherence metric is  0.315366247343972\n",
      "saving the LDA model...\n",
      "done with model  70\n",
      "coherence metric is  0.32216030304973375\n",
      "saving the LDA model...\n",
      "done with model  80\n",
      "coherence metric is  0.33692967204096325\n",
      "saving the LDA model...\n",
      "done with model  90\n",
      "coherence metric is  0.33015753405587905\n"
     ]
    },
    {
     "name": "stderr",
     "output_type": "stream",
     "text": [
      "/usr/local/lib/python3.7/dist-packages/gensim/models/ldamodel.py:1023: RuntimeWarning: divide by zero encountered in log\n",
      "  diff = np.log(self.expElogbeta)\n"
     ]
    },
    {
     "name": "stdout",
     "output_type": "stream",
     "text": [
      "saving the LDA model...\n",
      "done with model  100\n",
      "coherence metric is  0.35235499529866277\n"
     ]
    }
   ],
   "source": [
    "#A11\n",
    "from sklearn.externals import joblib\n",
    "import os\n",
    "\n",
    "def compute_coherence_values(dictionary, corpus, texts, limit=110, start=10, step=10):\n",
    "    chunksize = 1000\n",
    "    passes = 20\n",
    "    workers = 6\n",
    "    \n",
    "    coherence_values = []\n",
    "    model_list = []\n",
    "    #setup the LDA model \n",
    "    #it is multicore so we can run multiple models together\n",
    "    for num_topics in range(start, limit, step):\n",
    "        model = gensim.models.ldamulticore.LdaMulticore(corpus=corpus,\n",
    "                                   id2word=id2word,\n",
    "                                   num_topics=num_topics, \n",
    "                                   random_state=100,\n",
    "                                   chunksize=chunksize,\n",
    "                                   passes=passes,\n",
    "                                   per_word_topics=True,\n",
    "                                   workers=workers)\n",
    "        print('saving the LDA model...')\n",
    "        Filename = \"LDA_Model_\"+str(num_topics)+\".model\"\n",
    "        model.save(Filename)\n",
    "        model_list.append(model)\n",
    "        print('done with model ',str(num_topics))\n",
    "        coherencemodel = CoherenceModel(model=model, texts=texts, dictionary=dictionary, coherence='c_v')\n",
    "        print('coherence metric is ',str(coherencemodel.get_coherence()))\n",
    "        coherence_values.append(coherencemodel.get_coherence())\n",
    "    return model_list, coherence_values\n",
    "\n",
    "limit = 110\n",
    "start = 10\n",
    "step  = 10\n",
    "\n",
    "model_list, coherence_values = compute_coherence_values(dictionary=dictionary, corpus=corpus, texts=docs, start=start, limit=limit, step=step)"
   ]
  },
  {
   "cell_type": "markdown",
   "metadata": {
    "id": "DnS5fT-lF19y"
   },
   "source": [
    "Q12.Graph the coherence scores for all nine models and select the optimum topic model. [10 points]"
   ]
  },
  {
   "cell_type": "code",
   "execution_count": 57,
   "metadata": {
    "colab": {
     "base_uri": "https://localhost:8080/",
     "height": 515
    },
    "id": "o3cwpRWaGAw8",
    "outputId": "2964c1ac-c953-47d4-8cfe-c167e584ef5f"
   },
   "outputs": [
    {
     "data": {
      "image/png": "[encoded data removed]",
      "text/plain": [
       "<Figure size 720x576 with 1 Axes>"
      ]
     },
     "metadata": {
      "needs_background": "light",
      "tags": []
     },
     "output_type": "display_data"
    }
   ],
   "source": [
    "#A12\n",
    "import matplotlib.pyplot as plt\n",
    "plt.rcParams.update({'font.size':20,'figure.figsize':(10,8)})\n",
    "\n",
    "fig = plt.gcf()\n",
    "\n",
    "limit=limit; start=start; step=step;\n",
    "x = range(start, limit, step)\n",
    "plt.plot(x, coherence_values)\n",
    "plt.xlabel(\"Number of Topics\")\n",
    "plt.ylabel(\"Coherence score\")\n",
    "plt.legend((\"coherence_values\"), loc='best')\n",
    "plt.show()\n",
    "fig.savefig('LDA_models_coherence.jpg')\n",
    "\n",
    "import pprint\n",
    "# Select the model and print the topics\n",
    "optimal_model = model_list[9]\n",
    "model_topics = optimal_model.show_topics(formatted=True)"
   ]
  },
  {
   "cell_type": "code",
   "execution_count": 55,
   "metadata": {
    "colab": {
     "base_uri": "https://localhost:8080/"
    },
    "id": "FhP838yHUycY",
    "outputId": "57722cfc-be64-425a-ce31-163e320eca05"
   },
   "outputs": [
    {
     "data": {
      "text/plain": [
       "100"
      ]
     },
     "execution_count": 55,
     "metadata": {
      "tags": []
     },
     "output_type": "execute_result"
    }
   ],
   "source": [
    "optimal_model.num_topics"
   ]
  },
  {
   "cell_type": "markdown",
   "metadata": {
    "id": "dvjmd_37GNob"
   },
   "source": [
    "Q13.Print all the topics in the optimum LDA model [5 points]"
   ]
  },
  {
   "cell_type": "code",
   "execution_count": 56,
   "metadata": {
    "colab": {
     "base_uri": "https://localhost:8080/"
    },
    "id": "TDmfLSJoGGYj",
    "outputId": "7a6ef376-f9fb-4906-a8ca-2928d1cf13ec"
   },
   "outputs": [
    {
     "data": {
      "text/plain": [
       "[(6,\n",
       "  '0.001*\"know\" + 0.001*\"shelter\" + 0.001*\"feeling\" + 0.001*\"like\" + 0.001*\"time\" + 0.001*\"family\" + 0.001*\"want\" + 0.001*\"people\" + 0.001*\"many\" + 0.001*\"usually\" + 0.001*\"nice\" + 0.001*\"mean\" + 0.001*\"year\" + 0.001*\"would\" + 0.001*\"first\" + 0.001*\"something\" + 0.001*\"think\" + 0.001*\"home\" + 0.001*\"also\" + 0.001*\"need\"'),\n",
       " (4,\n",
       "  '0.021*\"know\" + 0.019*\"abortion\" + 0.017*\"pregnant\" + 0.016*\"would\" + 0.014*\"foster\" + 0.012*\"state\" + 0.012*\"worker\" + 0.012*\"care\" + 0.011*\"social\" + 0.011*\"girl\" + 0.011*\"also\" + 0.011*\"right\" + 0.009*\"agency\" + 0.009*\"option\" + 0.009*\"child\" + 0.009*\"education\" + 0.008*\"good\" + 0.008*\"even\" + 0.008*\"knew\" + 0.008*\"pregnancy\"'),\n",
       " (79,\n",
       "  '0.001*\"help\" + 0.001*\"want\" + 0.001*\"thing\" + 0.001*\"advice\" + 0.001*\"career\" + 0.001*\"right\" + 0.001*\"work\" + 0.001*\"know\" + 0.001*\"also\" + 0.001*\"life\" + 0.001*\"like\" + 0.001*\"give\" + 0.001*\"school\" + 0.001*\"year\" + 0.001*\"experience\" + 0.001*\"education\" + 0.001*\"would\" + 0.001*\"people\" + 0.001*\"others\" + 0.001*\"going\"'),\n",
       " (96,\n",
       "  '0.001*\"parent\" + 0.001*\"adoption\" + 0.001*\"foster\" + 0.001*\"family\" + 0.001*\"think\" + 0.001*\"like\" + 0.001*\"know\" + 0.001*\"adult\" + 0.001*\"time\" + 0.001*\"would\" + 0.001*\"still\" + 0.001*\"care\" + 0.001*\"year\" + 0.001*\"adopted\" + 0.001*\"person\" + 0.001*\"even\" + 0.001*\"thank\" + 0.001*\"take\" + 0.001*\"much\" + 0.001*\"life\"'),\n",
       " (23,\n",
       "  '0.001*\"thing\" + 0.001*\"someone\" + 0.001*\"home\" + 0.001*\"make\" + 0.001*\"much\" + 0.001*\"staff\" + 0.001*\"know\" + 0.001*\"like\" + 0.001*\"want\" + 0.001*\"sure\" + 0.001*\"right\" + 0.001*\"hate\" + 0.001*\"wanted\" + 0.001*\"really\" + 0.001*\"need\" + 0.001*\"care\" + 0.001*\"group\" + 0.001*\"time\" + 0.001*\"talk\" + 0.001*\"think\"'),\n",
       " (64,\n",
       "  '0.001*\"home\" + 0.001*\"staff\" + 0.001*\"know\" + 0.001*\"thing\" + 0.001*\"care\" + 0.001*\"group\" + 0.001*\"would\" + 0.001*\"make\" + 0.001*\"point\" + 0.001*\"like\" + 0.001*\"someone\" + 0.001*\"right\" + 0.001*\"always\" + 0.001*\"child\" + 0.001*\"wanted\" + 0.001*\"went\" + 0.001*\"ever\" + 0.001*\"want\" + 0.001*\"anything\" + 0.001*\"think\"'),\n",
       " (32,\n",
       "  '0.001*\"parent\" + 0.001*\"thing\" + 0.001*\"foster\" + 0.001*\"like\" + 0.001*\"family\" + 0.001*\"home\" + 0.001*\"time\" + 0.001*\"want\" + 0.001*\"think\" + 0.001*\"care\" + 0.001*\"know\" + 0.001*\"adoption\" + 0.001*\"would\" + 0.001*\"adult\" + 0.001*\"good\" + 0.001*\"year\" + 0.001*\"even\" + 0.001*\"could\" + 0.001*\"child\" + 0.001*\"wanted\"'),\n",
       " (55,\n",
       "  '0.001*\"parent\" + 0.001*\"like\" + 0.001*\"foster\" + 0.001*\"would\" + 0.001*\"thing\" + 0.001*\"home\" + 0.001*\"shelter\" + 0.001*\"time\" + 0.001*\"think\" + 0.001*\"want\" + 0.001*\"much\" + 0.001*\"really\" + 0.001*\"staff\" + 0.001*\"care\" + 0.001*\"make\" + 0.001*\"know\" + 0.001*\"family\" + 0.001*\"could\" + 0.001*\"right\" + 0.001*\"feel\"'),\n",
       " (28,\n",
       "  '0.054*\"site\" + 0.034*\"like\" + 0.023*\"even\" + 0.023*\"youth\" + 0.022*\"page\" + 0.022*\"well-intentioned\" + 0.022*\"impossible\" + 0.022*\"concern\" + 0.022*\"birthday\" + 0.022*\"hell\" + 0.022*\"stranger\" + 0.013*\"hard\" + 0.012*\"comment\" + 0.012*\"might\" + 0.012*\"former\" + 0.011*\"post\" + 0.011*\"internet\" + 0.011*\"sure\" + 0.011*\"know\" + 0.011*\"need\"'),\n",
       " (77,\n",
       "  '0.001*\"much\" + 0.001*\"like\" + 0.001*\"time\" + 0.001*\"life\" + 0.001*\"girl\" + 0.001*\"people\" + 0.001*\"take\" + 0.001*\"find\" + 0.001*\"going\" + 0.001*\"shelter\" + 0.001*\"year\" + 0.001*\"hope\" + 0.001*\"would\" + 0.001*\"thing\" + 0.001*\"friend\" + 0.001*\"work\" + 0.001*\"feel\" + 0.001*\"school\" + 0.001*\"help\" + 0.001*\"gone\"'),\n",
       " (33,\n",
       "  '0.036*\"sound\" + 0.036*\"found\" + 0.036*\"going\" + 0.036*\"amazing\" + 0.036*\"christmas\" + 0.036*\"program\" + 0.036*\"holiday\" + 0.036*\"besides\" + 0.036*\"sponsorship\" + 0.036*\"subreddit\" + 0.000*\"parent\" + 0.000*\"foster\" + 0.000*\"adoption\" + 0.000*\"still\" + 0.000*\"time\" + 0.000*\"would\" + 0.000*\"care\" + 0.000*\"family\" + 0.000*\"know\" + 0.000*\"year\"'),\n",
       " (75,\n",
       "  '0.001*\"thing\" + 0.001*\"know\" + 0.001*\"like\" + 0.001*\"want\" + 0.001*\"really\" + 0.001*\"someone\" + 0.001*\"home\" + 0.001*\"help\" + 0.001*\"staff\" + 0.001*\"right\" + 0.001*\"also\" + 0.001*\"make\" + 0.001*\"need\" + 0.001*\"much\" + 0.001*\"care\" + 0.001*\"wanted\" + 0.001*\"school\" + 0.001*\"people\" + 0.001*\"talk\" + 0.001*\"think\"'),\n",
       " (56,\n",
       "  '0.001*\"vent\" + 0.001*\"screw\" + 0.001*\"sadness\" + 0.001*\"slave\" + 0.001*\"silent\" + 0.001*\"area\" + 0.001*\"weeks/months/years\" + 0.001*\"*all*\" + 0.001*\"15-minute\" + 0.001*\"accommodation\" + 0.001*\"activity\" + 0.001*\"adulthood\" + 0.001*\"alright\" + 0.001*\"anywhere\" + 0.001*\"apart\" + 0.001*\"apartment\" + 0.001*\"apparently\" + 0.001*\"understood\" + 0.001*\"scrub\" + 0.001*\"seems\"'),\n",
       " (97,\n",
       "  '0.001*\"shelter\" + 0.001*\"would\" + 0.001*\"know\" + 0.001*\"like\" + 0.001*\"also\" + 0.001*\"help\" + 0.001*\"school\" + 0.001*\"good\" + 0.001*\"time\" + 0.001*\"foster\" + 0.001*\"people\" + 0.001*\"want\" + 0.001*\"right\" + 0.001*\"thing\" + 0.001*\"could\" + 0.001*\"always\" + 0.001*\"remember\" + 0.001*\"girl\" + 0.001*\"life\" + 0.001*\"abortion\"'),\n",
       " (54,\n",
       "  '0.001*\"help\" + 0.001*\"people\" + 0.001*\"know\" + 0.001*\"also\" + 0.001*\"like\" + 0.001*\"life\" + 0.001*\"want\" + 0.001*\"school\" + 0.001*\"give\" + 0.001*\"http\" + 0.001*\"back\" + 0.001*\"work\" + 0.001*\"thing\" + 0.001*\"education\" + 0.001*\"would\" + 0.001*\"career\" + 0.001*\"come\" + 0.001*\"right\" + 0.001*\"experience\" + 0.001*\"time\"'),\n",
       " (98,\n",
       "  '0.097*\"proud\" + 0.096*\"congratulation\" + 0.061*\"feel\" + 0.047*\"drive\" + 0.033*\"permit\" + 0.033*\"accomplishment\" + 0.033*\"exciting\" + 0.032*\"normal\" + 0.017*\"took\" + 0.016*\"excited\" + 0.016*\"passed.\" + 0.016*\"congrats.\" + 0.016*\"accomplishing\" + 0.016*\"lesson\" + 0.016*\"ex\\\\_foster\" + 0.016*\"failed\" + 0.016*\"thats\" + 0.016*\"youtube\" + 0.016*\"driver\" + 0.016*\"disappointed\"'),\n",
       " (47,\n",
       "  '0.001*\"thing\" + 0.001*\"like\" + 0.001*\"home\" + 0.001*\"staff\" + 0.001*\"much\" + 0.001*\"make\" + 0.001*\"want\" + 0.001*\"care\" + 0.001*\"time\" + 0.001*\"would\" + 0.001*\"right\" + 0.001*\"someone\" + 0.001*\"think\" + 0.001*\"know\" + 0.001*\"really\" + 0.001*\"always\" + 0.001*\"shelter\" + 0.001*\"good\" + 0.001*\"also\" + 0.001*\"need\"'),\n",
       " (63,\n",
       "  '0.001*\"know\" + 0.001*\"help\" + 0.001*\"people\" + 0.001*\"would\" + 0.001*\"want\" + 0.001*\"education\" + 0.001*\"like\" + 0.001*\"life\" + 0.001*\"also\" + 0.001*\"time\" + 0.001*\"school\" + 0.001*\"thing\" + 0.001*\"career\" + 0.001*\"give\" + 0.001*\"could\" + 0.001*\"experience\" + 0.001*\"year\" + 0.001*\"need\" + 0.001*\"care\" + 0.001*\"free\"'),\n",
       " (71,\n",
       "  '0.001*\"foster\" + 0.001*\"know\" + 0.001*\"thing\" + 0.001*\"care\" + 0.001*\"would\" + 0.001*\"home\" + 0.001*\"child\" + 0.001*\"parent\" + 0.001*\"time\" + 0.001*\"good\" + 0.001*\"like\" + 0.001*\"want\" + 0.001*\"need\" + 0.001*\"adoption\" + 0.001*\"think\" + 0.001*\"pregnant\" + 0.001*\"right\" + 0.001*\"something\" + 0.001*\"make\" + 0.001*\"even\"'),\n",
       " (74,\n",
       "  '0.083*\"know\" + 0.060*\"nice\" + 0.032*\"want\" + 0.029*\"many\" + 0.028*\"family\" + 0.026*\"mean\" + 0.026*\"call\" + 0.025*\"dynamic\" + 0.022*\"feeling\" + 0.022*\"usually\" + 0.021*\"year\" + 0.021*\"general\" + 0.018*\"bring\" + 0.018*\"happened\" + 0.017*\"great\" + 0.017*\"term\" + 0.017*\"seem\" + 0.014*\"first\" + 0.013*\"learned\" + 0.011*\"honestly\"')]"
      ]
     },
     "execution_count": 56,
     "metadata": {
      "tags": []
     },
     "output_type": "execute_result"
    }
   ],
   "source": [
    "#A13\n",
    "topics= optimal_model.print_topics(num_words=20)\n",
    "topics"
   ]
  },
  {
   "cell_type": "markdown",
   "metadata": {
    "id": "HZOBRihhGkcM"
   },
   "source": [
    "Q14. [EXTRA points] Sort the models based on coherence scores and print them in order [10 points]"
   ]
  },
  {
   "cell_type": "code",
   "execution_count": 51,
   "metadata": {
    "colab": {
     "base_uri": "https://localhost:8080/"
    },
    "id": "HrWPfTAVGuEA",
    "outputId": "61094235-7227-4923-8bc0-fc6ff8e85875"
   },
   "outputs": [
    {
     "name": "stdout",
     "output_type": "stream",
     "text": [
      "Num Topics = 100  has Coherence Value of 0.3524\n",
      "Num Topics = 80  has Coherence Value of 0.3369\n",
      "Num Topics = 90  has Coherence Value of 0.3302\n",
      "Num Topics = 30  has Coherence Value of 0.327\n",
      "Num Topics = 20  has Coherence Value of 0.3241\n",
      "Num Topics = 70  has Coherence Value of 0.3222\n",
      "Num Topics = 50  has Coherence Value of 0.3198\n",
      "Num Topics = 60  has Coherence Value of 0.3154\n",
      "Num Topics = 40  has Coherence Value of 0.3072\n",
      "Num Topics = 10  has Coherence Value of 0.283\n"
     ]
    }
   ],
   "source": [
    "#A14\n",
    "for m, cv in sorted_coherence:\n",
    "    print(\"Num Topics =\", m, \" has Coherence Value of\", round(cv, 4))"
   ]
  }
 ],
 "metadata": {
  "colab": {
   "name": "SCI564_Assignment_4.ipynb",
   "provenance": []
  },
  "kernelspec": {
   "display_name": "Python 3",
   "language": "python",
   "name": "python3"
  },
  "language_info": {
   "codemirror_mode": {
    "name": "ipython",
    "version": 3
   },
   "file_extension": ".py",
   "mimetype": "text/x-python",
   "name": "python",
   "nbconvert_exporter": "python",
   "pygments_lexer": "ipython3",
   "version": "3.8.3"
  }
 },
 "nbformat": 4,
 "nbformat_minor": 1
}
