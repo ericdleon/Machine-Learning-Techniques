{
 "cells": [
  {
   "cell_type": "markdown",
   "metadata": {
    "id": "WomcSdHU9lU2"
   },
   "source": [
    "#Part I: Data Collection"
   ]
  },
  {
   "cell_type": "markdown",
   "metadata": {
    "id": "5Qz-ch6U9rKY"
   },
   "source": [
    "Q1. Collect all the Reddit comments for the subreddit [r/Ex_Foster](https://www.reddit.com/r/Ex_Foster/) between 2019 and 2020.\n",
    "\n",
    "Use the PSAW API to collect these data.\n",
    "\n",
    "Fit all comments into a dataframe called df. \n",
    "\n",
    "[5 points]"
   ]
  },
  {
   "cell_type": "code",
   "execution_count": 1,
   "metadata": {
    "colab": {
     "base_uri": "https://localhost:8080/"
    },
    "id": "EmKd2BeoBTRf",
    "outputId": "00784a65-d13d-40ea-838d-877df72cad9b"
   },
   "outputs": [
    {
     "name": "stdout",
     "output_type": "stream",
     "text": [
      "Collecting psaw\n",
      "  Downloading https://files.pythonhosted.org/packages/01/fe/e2f43241ff7545588d07bb93dd353e4333ebc02c31d7e0dc36a8a9d93214/psaw-0.1.0-py3-none-any.whl\n",
      "Requirement already satisfied: requests in /usr/local/lib/python3.7/dist-packages (from psaw) (2.23.0)\n",
      "Requirement already satisfied: Click in /usr/local/lib/python3.7/dist-packages (from psaw) (7.1.2)\n",
      "Requirement already satisfied: certifi>=2017.4.17 in /usr/local/lib/python3.7/dist-packages (from requests->psaw) (2020.12.5)\n",
      "Requirement already satisfied: chardet<4,>=3.0.2 in /usr/local/lib/python3.7/dist-packages (from requests->psaw) (3.0.4)\n",
      "Requirement already satisfied: idna<3,>=2.5 in /usr/local/lib/python3.7/dist-packages (from requests->psaw) (2.10)\n",
      "Requirement already satisfied: urllib3!=1.25.0,!=1.25.1,<1.26,>=1.21.1 in /usr/local/lib/python3.7/dist-packages (from requests->psaw) (1.24.3)\n",
      "Installing collected packages: psaw\n",
      "Successfully installed psaw-0.1.0\n"
     ]
    }
   ],
   "source": [
    "#A1\n",
    "!pip install psaw"
   ]
  },
  {
   "cell_type": "code",
   "execution_count": 16,
   "metadata": {
    "colab": {
     "base_uri": "https://localhost:8080/",
     "height": 154
    },
    "id": "Qirr5_iX-NQ7",
    "outputId": "203f04ff-2fe0-4a11-ef0c-348ff6a80261"
   },
   "outputs": [
    {
     "name": "stdout",
     "output_type": "stream",
     "text": [
      "[nltk_data] Downloading package punkt to /root/nltk_data...\n",
      "[nltk_data]   Package punkt is already up-to-date!\n",
      "[nltk_data] Downloading package wordnet to /root/nltk_data...\n",
      "[nltk_data]   Package wordnet is already up-to-date!\n",
      "[nltk_data] Downloading package stopwords to /root/nltk_data...\n",
      "[nltk_data]   Package stopwords is already up-to-date!\n"
     ]
    },
    {
     "data": {
      "application/vnd.google.colaboratory.intrinsic+json": {
       "type": "string"
      },
      "text/plain": [
       "'here is a subset of the stop words'"
      ]
     },
     "metadata": {
      "tags": []
     },
     "output_type": "display_data"
    },
    {
     "data": {
      "text/plain": [
       "['i', 'me', 'my', 'myself', 'we', 'our', 'ours', 'ourselves', 'you', \"you're\"]"
      ]
     },
     "metadata": {
      "tags": []
     },
     "output_type": "display_data"
    }
   ],
   "source": [
    "import pandas as pd\n",
    "import datetime as dt\n",
    "import re\n",
    "import gensim\n",
    "from gensim import corpora\n",
    "from collections import defaultdict\n",
    "import nltk\n",
    "from nltk.corpus import stopwords \n",
    "from nltk.tokenize import RegexpTokenizer\n",
    "nltk.download('punkt')\n",
    "nltk.download('wordnet')\n",
    "nltk.download('stopwords')\n",
    "stopwords_english = stopwords.words('english')\n",
    "display('here is a subset of the stop words')\n",
    "display(stopwords_english[0:10])\n",
    "import string\n",
    "from psaw import PushshiftAPI\n",
    "api = PushshiftAPI()\n",
    "import warnings\n",
    "warnings.filterwarnings(\"ignore\", category=DeprecationWarning)\n",
    "from nltk.stem import WordNetLemmatizer\n",
    "wordnet_lemmatizer = WordNetLemmatizer()"
   ]
  },
  {
   "cell_type": "code",
   "execution_count": 4,
   "metadata": {
    "colab": {
     "base_uri": "https://localhost:8080/"
    },
    "id": "ZhdT3-QD9fP5",
    "outputId": "d9a81196-1755-490c-c15e-69958e9ea7e2"
   },
   "outputs": [
    {
     "name": "stdout",
     "output_type": "stream",
     "text": [
      "starting with the month 1\n",
      "for subreddit...Ex_Foster\n",
      "setting start epoch...\n",
      "setting end epoch...\n",
      "the last day of the month is...\n",
      "31\n",
      "setting up the generator...\n",
      "setting up the dataframe...\n",
      "The number of comments for year 2019 and month 1 is 0\n",
      "starting with the month 2\n",
      "for subreddit...Ex_Foster\n",
      "setting start epoch...\n",
      "setting end epoch...\n",
      "the last day of the month is...\n",
      "28\n",
      "setting up the generator...\n",
      "setting up the dataframe...\n",
      "The number of comments for year 2019 and month 2 is 0\n",
      "starting with the month 3\n",
      "for subreddit...Ex_Foster\n",
      "setting start epoch...\n",
      "setting end epoch...\n",
      "the last day of the month is...\n",
      "31\n",
      "setting up the generator...\n",
      "setting up the dataframe...\n",
      "The number of comments for year 2019 and month 3 is 69\n",
      "starting with the month 4\n",
      "for subreddit...Ex_Foster\n",
      "setting start epoch...\n",
      "setting end epoch...\n",
      "the last day of the month is...\n",
      "30\n",
      "setting up the generator...\n",
      "setting up the dataframe...\n"
     ]
    },
    {
     "name": "stderr",
     "output_type": "stream",
     "text": [
      "/usr/local/lib/python3.7/dist-packages/psaw/PushshiftAPI.py:252: UserWarning: Not all PushShift shards are active. Query results may be incomplete\n",
      "  warnings.warn(shards_down_message)\n"
     ]
    },
    {
     "name": "stdout",
     "output_type": "stream",
     "text": [
      "The number of comments for year 2019 and month 4 is 233\n",
      "starting with the month 5\n",
      "for subreddit...Ex_Foster\n",
      "setting start epoch...\n",
      "setting end epoch...\n",
      "the last day of the month is...\n",
      "31\n",
      "setting up the generator...\n",
      "setting up the dataframe...\n",
      "The number of comments for year 2019 and month 5 is 119\n",
      "starting with the month 6\n",
      "for subreddit...Ex_Foster\n",
      "setting start epoch...\n",
      "setting end epoch...\n",
      "the last day of the month is...\n",
      "30\n",
      "setting up the generator...\n",
      "setting up the dataframe...\n",
      "The number of comments for year 2019 and month 6 is 183\n",
      "starting with the month 7\n",
      "for subreddit...Ex_Foster\n",
      "setting start epoch...\n",
      "setting end epoch...\n",
      "the last day of the month is...\n",
      "31\n",
      "setting up the generator...\n",
      "setting up the dataframe...\n",
      "The number of comments for year 2019 and month 7 is 78\n",
      "starting with the month 8\n",
      "for subreddit...Ex_Foster\n",
      "setting start epoch...\n",
      "setting end epoch...\n",
      "the last day of the month is...\n",
      "31\n",
      "setting up the generator...\n",
      "setting up the dataframe...\n",
      "The number of comments for year 2019 and month 8 is 80\n",
      "starting with the month 9\n",
      "for subreddit...Ex_Foster\n",
      "setting start epoch...\n",
      "setting end epoch...\n",
      "the last day of the month is...\n",
      "30\n",
      "setting up the generator...\n",
      "setting up the dataframe...\n"
     ]
    },
    {
     "name": "stderr",
     "output_type": "stream",
     "text": [
      "/usr/local/lib/python3.7/dist-packages/psaw/PushshiftAPI.py:192: UserWarning: Got non 200 code 502\n",
      "  warnings.warn(\"Got non 200 code %s\" % response.status_code)\n",
      "/usr/local/lib/python3.7/dist-packages/psaw/PushshiftAPI.py:180: UserWarning: Unable to connect to pushshift.io. Retrying after backoff.\n",
      "  warnings.warn(\"Unable to connect to pushshift.io. Retrying after backoff.\")\n"
     ]
    },
    {
     "name": "stdout",
     "output_type": "stream",
     "text": [
      "The number of comments for year 2019 and month 9 is 229\n",
      "starting with the month 10\n",
      "for subreddit...Ex_Foster\n",
      "setting start epoch...\n",
      "setting end epoch...\n",
      "the last day of the month is...\n",
      "31\n",
      "setting up the generator...\n",
      "setting up the dataframe...\n",
      "The number of comments for year 2019 and month 10 is 351\n",
      "starting with the month 11\n",
      "for subreddit...Ex_Foster\n",
      "setting start epoch...\n",
      "setting end epoch...\n",
      "the last day of the month is...\n",
      "30\n",
      "setting up the generator...\n",
      "setting up the dataframe...\n",
      "The number of comments for year 2019 and month 11 is 388\n",
      "starting with the month 12\n",
      "for subreddit...Ex_Foster\n",
      "setting start epoch...\n",
      "setting end epoch...\n",
      "the last day of the month is...\n",
      "31\n",
      "setting up the generator...\n",
      "setting up the dataframe...\n",
      "The number of comments for year 2019 and month 12 is 326\n",
      "starting with the month 1\n",
      "for subreddit...Ex_Foster\n",
      "setting start epoch...\n",
      "setting end epoch...\n",
      "the last day of the month is...\n",
      "31\n",
      "setting up the generator...\n",
      "setting up the dataframe...\n",
      "The number of comments for year 2020 and month 1 is 134\n",
      "starting with the month 2\n",
      "for subreddit...Ex_Foster\n",
      "setting start epoch...\n",
      "setting end epoch...\n",
      "the last day of the month is...\n",
      "29\n",
      "setting up the generator...\n",
      "setting up the dataframe...\n",
      "The number of comments for year 2020 and month 2 is 210\n",
      "starting with the month 3\n",
      "for subreddit...Ex_Foster\n",
      "setting start epoch...\n",
      "setting end epoch...\n",
      "the last day of the month is...\n",
      "31\n",
      "setting up the generator...\n",
      "setting up the dataframe...\n",
      "The number of comments for year 2020 and month 3 is 275\n",
      "starting with the month 4\n",
      "for subreddit...Ex_Foster\n",
      "setting start epoch...\n",
      "setting end epoch...\n",
      "the last day of the month is...\n",
      "30\n",
      "setting up the generator...\n",
      "setting up the dataframe...\n",
      "The number of comments for year 2020 and month 4 is 279\n",
      "starting with the month 5\n",
      "for subreddit...Ex_Foster\n",
      "setting start epoch...\n",
      "setting end epoch...\n",
      "the last day of the month is...\n",
      "31\n",
      "setting up the generator...\n",
      "setting up the dataframe...\n",
      "The number of comments for year 2020 and month 5 is 501\n",
      "starting with the month 6\n",
      "for subreddit...Ex_Foster\n",
      "setting start epoch...\n",
      "setting end epoch...\n",
      "the last day of the month is...\n",
      "30\n",
      "setting up the generator...\n",
      "setting up the dataframe...\n",
      "The number of comments for year 2020 and month 6 is 185\n",
      "starting with the month 7\n",
      "for subreddit...Ex_Foster\n",
      "setting start epoch...\n",
      "setting end epoch...\n",
      "the last day of the month is...\n",
      "31\n",
      "setting up the generator...\n",
      "setting up the dataframe...\n",
      "The number of comments for year 2020 and month 7 is 353\n",
      "starting with the month 8\n",
      "for subreddit...Ex_Foster\n",
      "setting start epoch...\n",
      "setting end epoch...\n",
      "the last day of the month is...\n",
      "31\n",
      "setting up the generator...\n",
      "setting up the dataframe...\n",
      "The number of comments for year 2020 and month 8 is 217\n",
      "starting with the month 9\n",
      "for subreddit...Ex_Foster\n",
      "setting start epoch...\n",
      "setting end epoch...\n",
      "the last day of the month is...\n",
      "30\n",
      "setting up the generator...\n",
      "setting up the dataframe...\n",
      "The number of comments for year 2020 and month 9 is 217\n",
      "starting with the month 10\n",
      "for subreddit...Ex_Foster\n",
      "setting start epoch...\n",
      "setting end epoch...\n",
      "the last day of the month is...\n",
      "31\n",
      "setting up the generator...\n",
      "setting up the dataframe...\n",
      "The number of comments for year 2020 and month 10 is 222\n",
      "starting with the month 11\n",
      "for subreddit...Ex_Foster\n",
      "setting start epoch...\n",
      "setting end epoch...\n",
      "the last day of the month is...\n",
      "30\n",
      "setting up the generator...\n",
      "setting up the dataframe...\n",
      "The number of comments for year 2020 and month 11 is 100\n",
      "starting with the month 12\n",
      "for subreddit...Ex_Foster\n",
      "setting start epoch...\n",
      "setting end epoch...\n",
      "the last day of the month is...\n",
      "31\n",
      "setting up the generator...\n",
      "setting up the dataframe...\n",
      "The number of comments for year 2020 and month 12 is 136\n"
     ]
    }
   ],
   "source": [
    "def last_day_of_month(any_day):\n",
    "    next_month = any_day.replace(day=28) + datetime.timedelta(days=4)\n",
    "    return next_month - datetime.timedelta(days=next_month.day)\n",
    "\n",
    "import datetime\n",
    "subredditlist = ['Ex_Foster']\n",
    "for reddit in subredditlist:\n",
    "   #collect data between 2019 and 2020\n",
    "    for y in range(2019,2021):\n",
    "      #collect data between January and December\n",
    "      for i in range(1,13):\n",
    "          file_name= str(reddit)+\"_\"+str(y)+\"_\"+str(i)+\".json\"\n",
    "          print(\"starting with the month \"+str(i))\n",
    "          print(\"for subreddit...\"+str(reddit))\n",
    "          print(\"setting start epoch...\")\n",
    "          start_epoch=int(dt.datetime(y, i, 1).timestamp())\n",
    "          print(\"setting end epoch...\")\n",
    "          last_day = last_day_of_month(datetime.date(y, i, 1))\n",
    "          print(\"the last day of the month is...\")\n",
    "          print(last_day.day)\n",
    "          last_day = int(last_day.day)\n",
    "          end_epoch = int(dt.datetime(y,i,last_day).timestamp())\n",
    "          print(\"setting up the generator...\")\n",
    "          gen = api.search_comments(after=start_epoch, before=end_epoch,subreddit=reddit)\n",
    "          print(\"setting up the dataframe...\")\n",
    "          df = pd.DataFrame([obj.d_ for obj in gen])\n",
    "          print(\"The number of comments for year \"+ str(y)+\" and month \"+str(i)+\" is \"+str(len(df.index)))\n",
    "          df.to_json(file_name)"
   ]
  },
  {
   "cell_type": "code",
   "execution_count": 5,
   "metadata": {
    "colab": {
     "base_uri": "https://localhost:8080/",
     "height": 564
    },
    "id": "syh0EjXCAg0h",
    "outputId": "2cc2216b-a8fd-4e58-d48a-64f1c68a8ded"
   },
   "outputs": [
    {
     "data": {
      "text/html": [
       "<div>\n",
       "<style scoped>\n",
       "    .dataframe tbody tr th:only-of-type {\n",
       "        vertical-align: middle;\n",
       "    }\n",
       "\n",
       "    .dataframe tbody tr th {\n",
       "        vertical-align: top;\n",
       "    }\n",
       "\n",
       "    .dataframe thead th {\n",
       "        text-align: right;\n",
       "    }\n",
       "</style>\n",
       "<table border=\"1\" class=\"dataframe\">\n",
       "  <thead>\n",
       "    <tr style=\"text-align: right;\">\n",
       "      <th></th>\n",
       "      <th>all_awardings</th>\n",
       "      <th>associated_award</th>\n",
       "      <th>author</th>\n",
       "      <th>author_flair_background_color</th>\n",
       "      <th>author_flair_css_class</th>\n",
       "      <th>author_flair_richtext</th>\n",
       "      <th>author_flair_template_id</th>\n",
       "      <th>author_flair_text</th>\n",
       "      <th>author_flair_text_color</th>\n",
       "      <th>author_flair_type</th>\n",
       "      <th>author_fullname</th>\n",
       "      <th>author_patreon_flair</th>\n",
       "      <th>author_premium</th>\n",
       "      <th>awarders</th>\n",
       "      <th>body</th>\n",
       "      <th>collapsed_because_crowd_control</th>\n",
       "      <th>comment_type</th>\n",
       "      <th>created_utc</th>\n",
       "      <th>gildings</th>\n",
       "      <th>id</th>\n",
       "      <th>is_submitter</th>\n",
       "      <th>link_id</th>\n",
       "      <th>locked</th>\n",
       "      <th>no_follow</th>\n",
       "      <th>parent_id</th>\n",
       "      <th>permalink</th>\n",
       "      <th>retrieved_on</th>\n",
       "      <th>score</th>\n",
       "      <th>send_replies</th>\n",
       "      <th>stickied</th>\n",
       "      <th>subreddit</th>\n",
       "      <th>subreddit_id</th>\n",
       "      <th>top_awarded_type</th>\n",
       "      <th>total_awards_received</th>\n",
       "      <th>treatment_tags</th>\n",
       "      <th>created</th>\n",
       "    </tr>\n",
       "  </thead>\n",
       "  <tbody>\n",
       "    <tr>\n",
       "      <th>131</th>\n",
       "      <td>[]</td>\n",
       "      <td>None</td>\n",
       "      <td>IDidntShart</td>\n",
       "      <td>None</td>\n",
       "      <td>None</td>\n",
       "      <td>[]</td>\n",
       "      <td>None</td>\n",
       "      <td>None</td>\n",
       "      <td>None</td>\n",
       "      <td>text</td>\n",
       "      <td>t2_s7fbz</td>\n",
       "      <td>False</td>\n",
       "      <td>False</td>\n",
       "      <td>[]</td>\n",
       "      <td>Listen, I can’t answer this for you. I have no...</td>\n",
       "      <td>None</td>\n",
       "      <td>None</td>\n",
       "      <td>1606788905</td>\n",
       "      <td>{}</td>\n",
       "      <td>ge7u9gm</td>\n",
       "      <td>False</td>\n",
       "      <td>t3_k4b2ja</td>\n",
       "      <td>False</td>\n",
       "      <td>True</td>\n",
       "      <td>t3_k4b2ja</td>\n",
       "      <td>/r/Ex_Foster/comments/k4b2ja/aged_out_foster_k...</td>\n",
       "      <td>1606795338</td>\n",
       "      <td>1</td>\n",
       "      <td>True</td>\n",
       "      <td>False</td>\n",
       "      <td>Ex_Foster</td>\n",
       "      <td>t5_ykjzi</td>\n",
       "      <td>None</td>\n",
       "      <td>0</td>\n",
       "      <td>[]</td>\n",
       "      <td>1.606789e+09</td>\n",
       "    </tr>\n",
       "    <tr>\n",
       "      <th>132</th>\n",
       "      <td>[]</td>\n",
       "      <td>None</td>\n",
       "      <td>unspokenthoughtsxx89</td>\n",
       "      <td>None</td>\n",
       "      <td>None</td>\n",
       "      <td>[]</td>\n",
       "      <td>None</td>\n",
       "      <td>None</td>\n",
       "      <td>None</td>\n",
       "      <td>text</td>\n",
       "      <td>t2_5b5wt8s8</td>\n",
       "      <td>False</td>\n",
       "      <td>False</td>\n",
       "      <td>[]</td>\n",
       "      <td>Kk</td>\n",
       "      <td>None</td>\n",
       "      <td>None</td>\n",
       "      <td>1606787726</td>\n",
       "      <td>{}</td>\n",
       "      <td>ge7s1sr</td>\n",
       "      <td>False</td>\n",
       "      <td>t3_k0jgks</td>\n",
       "      <td>False</td>\n",
       "      <td>True</td>\n",
       "      <td>t3_k0jgks</td>\n",
       "      <td>/r/Ex_Foster/comments/k0jgks/just_an_fyi_ill_b...</td>\n",
       "      <td>1606794155</td>\n",
       "      <td>1</td>\n",
       "      <td>True</td>\n",
       "      <td>False</td>\n",
       "      <td>Ex_Foster</td>\n",
       "      <td>t5_ykjzi</td>\n",
       "      <td>None</td>\n",
       "      <td>0</td>\n",
       "      <td>[]</td>\n",
       "      <td>1.606788e+09</td>\n",
       "    </tr>\n",
       "    <tr>\n",
       "      <th>133</th>\n",
       "      <td>[]</td>\n",
       "      <td>None</td>\n",
       "      <td>teacheroftroubles</td>\n",
       "      <td>None</td>\n",
       "      <td>None</td>\n",
       "      <td>[]</td>\n",
       "      <td>None</td>\n",
       "      <td>None</td>\n",
       "      <td>None</td>\n",
       "      <td>text</td>\n",
       "      <td>t2_16xxn8</td>\n",
       "      <td>False</td>\n",
       "      <td>False</td>\n",
       "      <td>[]</td>\n",
       "      <td>I am a ffy and a teacher - keep my contact I w...</td>\n",
       "      <td>None</td>\n",
       "      <td>None</td>\n",
       "      <td>1606786577</td>\n",
       "      <td>{}</td>\n",
       "      <td>ge7pxm2</td>\n",
       "      <td>False</td>\n",
       "      <td>t3_j25l2c</td>\n",
       "      <td>False</td>\n",
       "      <td>True</td>\n",
       "      <td>t3_j25l2c</td>\n",
       "      <td>/r/Ex_Foster/comments/j25l2c/looking_for_volun...</td>\n",
       "      <td>1606793009</td>\n",
       "      <td>1</td>\n",
       "      <td>True</td>\n",
       "      <td>False</td>\n",
       "      <td>Ex_Foster</td>\n",
       "      <td>t5_ykjzi</td>\n",
       "      <td>None</td>\n",
       "      <td>0</td>\n",
       "      <td>[]</td>\n",
       "      <td>1.606787e+09</td>\n",
       "    </tr>\n",
       "    <tr>\n",
       "      <th>134</th>\n",
       "      <td>[]</td>\n",
       "      <td>None</td>\n",
       "      <td>teacheroftroubles</td>\n",
       "      <td>None</td>\n",
       "      <td>None</td>\n",
       "      <td>[]</td>\n",
       "      <td>None</td>\n",
       "      <td>None</td>\n",
       "      <td>None</td>\n",
       "      <td>text</td>\n",
       "      <td>t2_16xxn8</td>\n",
       "      <td>False</td>\n",
       "      <td>False</td>\n",
       "      <td>[]</td>\n",
       "      <td>As kid who was respited it sucked strangers, s...</td>\n",
       "      <td>None</td>\n",
       "      <td>None</td>\n",
       "      <td>1606786484</td>\n",
       "      <td>{}</td>\n",
       "      <td>ge7pr9k</td>\n",
       "      <td>False</td>\n",
       "      <td>t3_j6i603</td>\n",
       "      <td>False</td>\n",
       "      <td>False</td>\n",
       "      <td>t3_j6i603</td>\n",
       "      <td>/r/Ex_Foster/comments/j6i603/respite/ge7pr9k/</td>\n",
       "      <td>1606792915</td>\n",
       "      <td>1</td>\n",
       "      <td>True</td>\n",
       "      <td>False</td>\n",
       "      <td>Ex_Foster</td>\n",
       "      <td>t5_ykjzi</td>\n",
       "      <td>None</td>\n",
       "      <td>0</td>\n",
       "      <td>[]</td>\n",
       "      <td>1.606786e+09</td>\n",
       "    </tr>\n",
       "    <tr>\n",
       "      <th>135</th>\n",
       "      <td>[]</td>\n",
       "      <td>None</td>\n",
       "      <td>teacheroftroubles</td>\n",
       "      <td>None</td>\n",
       "      <td>None</td>\n",
       "      <td>[]</td>\n",
       "      <td>None</td>\n",
       "      <td>None</td>\n",
       "      <td>None</td>\n",
       "      <td>text</td>\n",
       "      <td>t2_16xxn8</td>\n",
       "      <td>False</td>\n",
       "      <td>False</td>\n",
       "      <td>[]</td>\n",
       "      <td>I want to say I got a package today - with a n...</td>\n",
       "      <td>None</td>\n",
       "      <td>None</td>\n",
       "      <td>1606786049</td>\n",
       "      <td>{}</td>\n",
       "      <td>ge7oy0j</td>\n",
       "      <td>False</td>\n",
       "      <td>t3_k0jgks</td>\n",
       "      <td>False</td>\n",
       "      <td>True</td>\n",
       "      <td>t3_k0jgks</td>\n",
       "      <td>/r/Ex_Foster/comments/k0jgks/just_an_fyi_ill_b...</td>\n",
       "      <td>1606792478</td>\n",
       "      <td>1</td>\n",
       "      <td>True</td>\n",
       "      <td>False</td>\n",
       "      <td>Ex_Foster</td>\n",
       "      <td>t5_ykjzi</td>\n",
       "      <td>None</td>\n",
       "      <td>0</td>\n",
       "      <td>[]</td>\n",
       "      <td>1.606786e+09</td>\n",
       "    </tr>\n",
       "  </tbody>\n",
       "</table>\n",
       "</div>"
      ],
      "text/plain": [
       "    all_awardings associated_award  ... treatment_tags       created\n",
       "131            []             None  ...             []  1.606789e+09\n",
       "132            []             None  ...             []  1.606788e+09\n",
       "133            []             None  ...             []  1.606787e+09\n",
       "134            []             None  ...             []  1.606786e+09\n",
       "135            []             None  ...             []  1.606786e+09\n",
       "\n",
       "[5 rows x 36 columns]"
      ]
     },
     "execution_count": 5,
     "metadata": {
      "tags": []
     },
     "output_type": "execute_result"
    }
   ],
   "source": [
    "df.tail()"
   ]
  },
  {
   "cell_type": "code",
   "execution_count": 12,
   "metadata": {
    "colab": {
     "base_uri": "https://localhost:8080/",
     "height": 731
    },
    "id": "Tnxn1lQUA5f0",
    "outputId": "fb876d02-b2a1-4d28-be76-e751a184a599"
   },
   "outputs": [
    {
     "data": {
      "text/html": [
       "<div>\n",
       "<style scoped>\n",
       "    .dataframe tbody tr th:only-of-type {\n",
       "        vertical-align: middle;\n",
       "    }\n",
       "\n",
       "    .dataframe tbody tr th {\n",
       "        vertical-align: top;\n",
       "    }\n",
       "\n",
       "    .dataframe thead th {\n",
       "        text-align: right;\n",
       "    }\n",
       "</style>\n",
       "<table border=\"1\" class=\"dataframe\">\n",
       "  <thead>\n",
       "    <tr style=\"text-align: right;\">\n",
       "      <th></th>\n",
       "      <th>comment_thread</th>\n",
       "      <th>body</th>\n",
       "    </tr>\n",
       "  </thead>\n",
       "  <tbody>\n",
       "    <tr>\n",
       "      <th>0</th>\n",
       "      <td>t3_j25l2c</td>\n",
       "      <td>Thank you!,I am a ffy and a teacher - keep my ...</td>\n",
       "    </tr>\n",
       "    <tr>\n",
       "      <th>1</th>\n",
       "      <td>t3_j6i603</td>\n",
       "      <td>I loved both respite people I stayed with it w...</td>\n",
       "    </tr>\n",
       "    <tr>\n",
       "      <th>2</th>\n",
       "      <td>t3_j8ay2m</td>\n",
       "      <td>I was only in foster care from age 16-17 only ...</td>\n",
       "    </tr>\n",
       "    <tr>\n",
       "      <th>3</th>\n",
       "      <td>t3_k0jgks</td>\n",
       "      <td>I'm really happy to hear that things were ship...</td>\n",
       "    </tr>\n",
       "    <tr>\n",
       "      <th>4</th>\n",
       "      <td>t3_k3ih6a</td>\n",
       "      <td>Oh no, I'm so sorry for your loss. I am going ...</td>\n",
       "    </tr>\n",
       "    <tr>\n",
       "      <th>5</th>\n",
       "      <td>t3_k3kwte</td>\n",
       "      <td>Honestly, I don't know. I'm not accustomed to ...</td>\n",
       "    </tr>\n",
       "    <tr>\n",
       "      <th>6</th>\n",
       "      <td>t3_k4b2ja</td>\n",
       "      <td>You are right these are systemic barriers that...</td>\n",
       "    </tr>\n",
       "    <tr>\n",
       "      <th>7</th>\n",
       "      <td>t3_k50ay8</td>\n",
       "      <td>I was in a group home when I was first put int...</td>\n",
       "    </tr>\n",
       "    <tr>\n",
       "      <th>8</th>\n",
       "      <td>t3_k5bx2l</td>\n",
       "      <td>I'm proud of you!! Thats a great accomplishmen...</td>\n",
       "    </tr>\n",
       "    <tr>\n",
       "      <th>9</th>\n",
       "      <td>t3_k5o2t4</td>\n",
       "      <td>As a teen I read adult books, murder and horro...</td>\n",
       "    </tr>\n",
       "    <tr>\n",
       "      <th>10</th>\n",
       "      <td>t3_k5un7u</td>\n",
       "      <td>Someone posted one a while back and it’s still...</td>\n",
       "    </tr>\n",
       "    <tr>\n",
       "      <th>11</th>\n",
       "      <td>t3_k8t1yj</td>\n",
       "      <td>Me and my husband are not having biological ch...</td>\n",
       "    </tr>\n",
       "    <tr>\n",
       "      <th>12</th>\n",
       "      <td>t3_ka3z79</td>\n",
       "      <td>Have you heard of the organization called A Ho...</td>\n",
       "    </tr>\n",
       "    <tr>\n",
       "      <th>13</th>\n",
       "      <td>t3_kajfg9</td>\n",
       "      <td>[deleted],I think an it this often. All these ...</td>\n",
       "    </tr>\n",
       "    <tr>\n",
       "      <th>14</th>\n",
       "      <td>t3_kcgc13</td>\n",
       "      <td>Each person's location is noted at 15-minute i...</td>\n",
       "    </tr>\n",
       "    <tr>\n",
       "      <th>15</th>\n",
       "      <td>t3_ke0off</td>\n",
       "      <td>Totally agree.,Our lineage is the Ex fosters w...</td>\n",
       "    </tr>\n",
       "    <tr>\n",
       "      <th>16</th>\n",
       "      <td>t3_kefopk</td>\n",
       "      <td>May I ask when this was and how old you are no...</td>\n",
       "    </tr>\n",
       "    <tr>\n",
       "      <th>17</th>\n",
       "      <td>t3_kgh9yp</td>\n",
       "      <td>I’m an former foster youth myself that’s just ...</td>\n",
       "    </tr>\n",
       "    <tr>\n",
       "      <th>18</th>\n",
       "      <td>t3_kh08z5</td>\n",
       "      <td>I think there were rules at the houses I lived...</td>\n",
       "    </tr>\n",
       "    <tr>\n",
       "      <th>19</th>\n",
       "      <td>t3_kihp9w</td>\n",
       "      <td>That’s what I was trying to sing lol,If you li...</td>\n",
       "    </tr>\n",
       "    <tr>\n",
       "      <th>20</th>\n",
       "      <td>t3_kj6jgi</td>\n",
       "      <td>I'm also sponsoring the lover of sewing, dysto...</td>\n",
       "    </tr>\n",
       "    <tr>\n",
       "      <th>21</th>\n",
       "      <td>t3_kjinsu</td>\n",
       "      <td>This Sponsorship program sounds amazing!  Is t...</td>\n",
       "    </tr>\n",
       "  </tbody>\n",
       "</table>\n",
       "</div>"
      ],
      "text/plain": [
       "   comment_thread                                               body\n",
       "0       t3_j25l2c  Thank you!,I am a ffy and a teacher - keep my ...\n",
       "1       t3_j6i603  I loved both respite people I stayed with it w...\n",
       "2       t3_j8ay2m  I was only in foster care from age 16-17 only ...\n",
       "3       t3_k0jgks  I'm really happy to hear that things were ship...\n",
       "4       t3_k3ih6a  Oh no, I'm so sorry for your loss. I am going ...\n",
       "5       t3_k3kwte  Honestly, I don't know. I'm not accustomed to ...\n",
       "6       t3_k4b2ja  You are right these are systemic barriers that...\n",
       "7       t3_k50ay8  I was in a group home when I was first put int...\n",
       "8       t3_k5bx2l  I'm proud of you!! Thats a great accomplishmen...\n",
       "9       t3_k5o2t4  As a teen I read adult books, murder and horro...\n",
       "10      t3_k5un7u  Someone posted one a while back and it’s still...\n",
       "11      t3_k8t1yj  Me and my husband are not having biological ch...\n",
       "12      t3_ka3z79  Have you heard of the organization called A Ho...\n",
       "13      t3_kajfg9  [deleted],I think an it this often. All these ...\n",
       "14      t3_kcgc13  Each person's location is noted at 15-minute i...\n",
       "15      t3_ke0off  Totally agree.,Our lineage is the Ex fosters w...\n",
       "16      t3_kefopk  May I ask when this was and how old you are no...\n",
       "17      t3_kgh9yp  I’m an former foster youth myself that’s just ...\n",
       "18      t3_kh08z5  I think there were rules at the houses I lived...\n",
       "19      t3_kihp9w  That’s what I was trying to sing lol,If you li...\n",
       "20      t3_kj6jgi  I'm also sponsoring the lover of sewing, dysto...\n",
       "21      t3_kjinsu  This Sponsorship program sounds amazing!  Is t..."
      ]
     },
     "execution_count": 12,
     "metadata": {
      "tags": []
     },
     "output_type": "execute_result"
    }
   ],
   "source": [
    "df_p = df.reset_index().groupby(\"link_id\",as_index=False )['body'].apply(lambda x: ','.join(x))\n",
    "p_threads = df_p.values\n",
    "df = pd.DataFrame(p_threads)\n",
    "df.rename(columns={0: \"comment_thread\", 1: \"body\"},inplace=True)\n",
    "df"
   ]
  },
  {
   "cell_type": "markdown",
   "metadata": {
    "id": "p5U5GUwaCgDQ"
   },
   "source": [
    "#Part II: Data Cleaning"
   ]
  },
  {
   "cell_type": "markdown",
   "metadata": {
    "id": "k3PAZKjrCjWY"
   },
   "source": [
    "Q2. In the first pass, clean the text in body by removing the newline character code, the aperasand character code, non-breaking space and, and zero-width space. Call this new column \"clean_text\" [5 points]"
   ]
  },
  {
   "cell_type": "code",
   "execution_count": 13,
   "metadata": {
    "id": "weaUt60TDUMT"
   },
   "outputs": [],
   "source": [
    "#A2\n",
    "def first_pass(text): \n",
    "    text = str(text)\n",
    "    text = text.replace('\\\\n',' ')\n",
    "    text = text.replace('&amp',' ')\n",
    "    text = text.replace(';#x200B;',' ')\n",
    "    text = text.replace('nbsp',' ')\n",
    "    return text\n",
    "\n",
    "df['clean_text'] = df.body.apply(first_pass)"
   ]
  },
  {
   "cell_type": "markdown",
   "metadata": {
    "id": "95k_fYayDBUy"
   },
   "source": [
    "Q3.In the second pass, tokenize, remove stopwords and punctuation as well as urls (web links). I also want you to use the nltk lemmatizer to lemmatize the body [5 points]"
   ]
  },
  {
   "cell_type": "code",
   "execution_count": 18,
   "metadata": {
    "id": "CG3jaHYSDkBk"
   },
   "outputs": [],
   "source": [
    "#A3\n",
    "def second_pass(text): \n",
    "    #make string lowercase \n",
    "    text = str(text)\n",
    "    text = text.lower()\n",
    "    #remove links\n",
    "    text = re.sub(r'^https?:\\/\\/.*[\\r\\n]*', '', text, flags=re.MULTILINE)\n",
    "    #tokenize\n",
    "    #create bag of words\n",
    "    #1-grams \n",
    "    tokens = nltk.word_tokenize(text) \n",
    "    clean_text = []\n",
    "    #remove stopwords, puncuation, then lemmatize\n",
    "    for word in tokens:\n",
    "        if (word not in stopwords_english and word not in string.punctuation): \n",
    "            token = wordnet_lemmatizer.lemmatize(word)\n",
    "            clean_text.append(token)         \n",
    "    #remove words of length 3 or smaller        \n",
    "    clean_text = [token for token in clean_text if len(token) > 3]  \n",
    "    return clean_text\n",
    "\n",
    "df['clean_text'] = df.body.apply(second_pass)"
   ]
  },
  {
   "cell_type": "code",
   "execution_count": 20,
   "metadata": {
    "id": "Hklf8jUuEeKG"
   },
   "outputs": [],
   "source": [
    "#Now that we have the cleaned text for each thread\n",
    "#documents, or docs represents each thread\n",
    "docs = df.clean_text.values"
   ]
  },
  {
   "cell_type": "markdown",
   "metadata": {
    "id": "sugc-Tsiyk-Z"
   },
   "source": [
    "##PartIII:Creating the model"
   ]
  },
  {
   "cell_type": "markdown",
   "metadata": {
    "id": "B02z_6UOEoDB"
   },
   "source": [
    "Q4. Using the documents, train a word2vec model using CBOW, with size=300. Each word should be repeated at least 5 times in the corpus to include it in the model. The window for the model should be 5. Use 6 cores (workers) for the analysis. Call your word2vec model model. \n",
    "\n",
    "[20 points]\n"
   ]
  },
  {
   "cell_type": "code",
   "execution_count": 22,
   "metadata": {
    "id": "uqSG7iQgEr0e"
   },
   "outputs": [],
   "source": [
    "#A4\n",
    "from gensim.models import Word2Vec\n",
    "model = Word2Vec(docs, min_count=5, size=300, workers=6, window=5)"
   ]
  },
  {
   "cell_type": "markdown",
   "metadata": {
    "id": "oF33B0PAE1ni"
   },
   "source": [
    "Q5.What are the closest 5 words to the word \"foster\"?\n",
    "\n",
    "\n",
    " [5 points]\n",
    "\n",
    "\n"
   ]
  },
  {
   "cell_type": "code",
   "execution_count": 26,
   "metadata": {
    "colab": {
     "base_uri": "https://localhost:8080/"
    },
    "id": "LHpOV_HvEyWF",
    "outputId": "56bfd90f-c3f4-48c4-a762-6b83f61c090b"
   },
   "outputs": [
    {
     "data": {
      "text/plain": [
       "[('like', 0.8584215641021729),\n",
       " ('people', 0.840106725692749),\n",
       " ('would', 0.8366782665252686),\n",
       " ('thing', 0.8352704048156738),\n",
       " ('could', 0.8205769062042236)]"
      ]
     },
     "execution_count": 26,
     "metadata": {
      "tags": []
     },
     "output_type": "execute_result"
    }
   ],
   "source": [
    "#A5\n",
    "model.most_similar('foster', topn=5)"
   ]
  },
  {
   "cell_type": "markdown",
   "metadata": {
    "id": "F-5pShwNyhPT"
   },
   "source": [
    "Q6. Graph the closest words to \"foster\" [5 points]\n"
   ]
  },
  {
   "cell_type": "code",
   "execution_count": 31,
   "metadata": {
    "colab": {
     "base_uri": "https://localhost:8080/",
     "height": 273
    },
    "id": "QT2Em7tl5qdv",
    "outputId": "6d25300b-f76d-4f87-a22c-303791aba0b5"
   },
   "outputs": [
    {
     "data": {
      "image/png": "[encoded data removed]",
      "text/plain": [
       "<Figure size 432x288 with 1 Axes>"
      ]
     },
     "metadata": {
      "tags": []
     },
     "output_type": "display_data"
    }
   ],
   "source": [
    "#A6\n",
    "import numpy as np\n",
    "import matplotlib.pyplot as plt\n",
    "%matplotlib inline\n",
    "import seaborn as sns\n",
    "sns.set_style(\"darkgrid\")\n",
    "from sklearn.manifold import TSNE\n",
    "\n",
    "def display_closestwords_tsnescatterplot(model, word):\n",
    "  arr = np.empty((0,300), dtype='f')\n",
    "  word_labels = [word]\n",
    "  close_words = model.similar_by_word(word, topn=20)\n",
    "  arr = np.append(arr, np.array([model[word]]), axis=0)\n",
    "  for wrd_score in close_words:\n",
    "    wrd_vector = model[wrd_score[0]]\n",
    "    word_labels.append(wrd_score[0])\n",
    "    arr = np.append(arr, np.array([wrd_vector]), axis=0)\n",
    "  tsne = TSNE(n_components=2)\n",
    "  np.set_printoptions(suppress=True)\n",
    "  Y = tsne.fit_transform(arr)\n",
    "  x_coords = Y[:, 0]\n",
    "  y_coords = Y[:, 1]\n",
    "  plt.scatter(x_coords, y_coords)\n",
    "  for label, x, y in zip(word_labels, x_coords, y_coords):\n",
    "    plt.annotate(label, xy=(x,y), xytext=(0,0), textcoords='offset points')\n",
    "  plt.xlim(x_coords.min()+0.00005, x_coords.max()+0.00005)\n",
    "  plt.ylim(y_coords.min()+0.00005, y_coords.max()+0.00005)\n",
    "  plt.show()\n",
    "\n",
    "display_closestwords_tsnescatterplot(model, 'foster')"
   ]
  },
  {
   "cell_type": "markdown",
   "metadata": {
    "id": "ApldPRwa5wuK"
   },
   "source": [
    "Q7. How similar (close) are the words \"foster\" and \"parent\"? [5 points]"
   ]
  },
  {
   "cell_type": "code",
   "execution_count": 27,
   "metadata": {
    "colab": {
     "base_uri": "https://localhost:8080/"
    },
    "id": "XpfsMhtH56mN",
    "outputId": "79c91659-368b-4277-ba44-2c186592cc44"
   },
   "outputs": [
    {
     "data": {
      "text/plain": [
       "0.77710605"
      ]
     },
     "execution_count": 27,
     "metadata": {
      "tags": []
     },
     "output_type": "execute_result"
    }
   ],
   "source": [
    "#A7\n",
    "model.similarity(\"foster\", \"parent\")"
   ]
  },
  {
   "cell_type": "markdown",
   "metadata": {
    "id": "OaNaSDIo6BYF"
   },
   "source": [
    "Q8. Which of the terms \"parent\", \"shop\", and \"school\" do not fit? Use the doesnt_match feature here [5 points]"
   ]
  },
  {
   "cell_type": "code",
   "execution_count": 28,
   "metadata": {
    "colab": {
     "base_uri": "https://localhost:8080/",
     "height": 89
    },
    "id": "q-Xxj7i26RIW",
    "outputId": "3cfa2f77-504c-4fcd-900b-3f34b997f232"
   },
   "outputs": [
    {
     "name": "stderr",
     "output_type": "stream",
     "text": [
      "/usr/local/lib/python3.7/dist-packages/gensim/models/keyedvectors.py:895: FutureWarning: arrays to stack must be passed as a \"sequence\" type such as list or tuple. Support for non-sequence iterables such as generators is deprecated as of NumPy 1.16 and will raise an error in the future.\n",
      "  vectors = vstack(self.word_vec(word, use_norm=True) for word in used_words).astype(REAL)\n"
     ]
    },
    {
     "data": {
      "application/vnd.google.colaboratory.intrinsic+json": {
       "type": "string"
      },
      "text/plain": [
       "'school'"
      ]
     },
     "execution_count": 28,
     "metadata": {
      "tags": []
     },
     "output_type": "execute_result"
    }
   ],
   "source": [
    "#A8\n",
    "model.doesnt_match(['parent', 'shop', 'school'])"
   ]
  },
  {
   "cell_type": "markdown",
   "metadata": {
    "id": "mDFUNtXy6gTT"
   },
   "source": [
    "Q9. Create a new dataframe, call it result. Result should include every word in the word2vec model you created and the 300 features that represent it in multi-dimensional space [20 points]"
   ]
  },
  {
   "cell_type": "code",
   "execution_count": 39,
   "metadata": {
    "id": "T5pdawdq6x-Q"
   },
   "outputs": [],
   "source": [
    "#A9\n",
    "all_vocab = list(model.wv.vocab.keys())\n",
    "data_dict = {word: model[word] for word in all_vocab}\n",
    "result = pd.DataFrame(data=data_dict).transpose()"
   ]
  },
  {
   "cell_type": "markdown",
   "metadata": {
    "id": "xl5-LLfg7Fwn"
   },
   "source": [
    "Q10.Using result.values, get the matrix that represents all the words in the model. Call this matrix X.\n",
    "\n",
    "Now, using t-SNE, reduce the dimensionality from 300 to 2. \n",
    "\n",
    "[10 points]"
   ]
  },
  {
   "cell_type": "code",
   "execution_count": 42,
   "metadata": {
    "colab": {
     "base_uri": "https://localhost:8080/",
     "height": 204
    },
    "id": "HHkZiFUx7kvh",
    "outputId": "25e6cc01-ef6d-42b4-ec45-dc9d8cc79367"
   },
   "outputs": [
    {
     "data": {
      "text/html": [
       "<div>\n",
       "<style scoped>\n",
       "    .dataframe tbody tr th:only-of-type {\n",
       "        vertical-align: middle;\n",
       "    }\n",
       "\n",
       "    .dataframe tbody tr th {\n",
       "        vertical-align: top;\n",
       "    }\n",
       "\n",
       "    .dataframe thead th {\n",
       "        text-align: right;\n",
       "    }\n",
       "</style>\n",
       "<table border=\"1\" class=\"dataframe\">\n",
       "  <thead>\n",
       "    <tr style=\"text-align: right;\">\n",
       "      <th></th>\n",
       "      <th>x</th>\n",
       "      <th>y</th>\n",
       "    </tr>\n",
       "  </thead>\n",
       "  <tbody>\n",
       "    <tr>\n",
       "      <th>thank</th>\n",
       "      <td>1.186208</td>\n",
       "      <td>-0.247602</td>\n",
       "    </tr>\n",
       "    <tr>\n",
       "      <th>keep</th>\n",
       "      <td>-2.639838</td>\n",
       "      <td>1.972862</td>\n",
       "    </tr>\n",
       "    <tr>\n",
       "      <th>would</th>\n",
       "      <td>-0.492570</td>\n",
       "      <td>13.042006</td>\n",
       "    </tr>\n",
       "    <tr>\n",
       "      <th>love</th>\n",
       "      <td>3.907838</td>\n",
       "      <td>-3.622074</td>\n",
       "    </tr>\n",
       "    <tr>\n",
       "      <th>someone</th>\n",
       "      <td>-0.429239</td>\n",
       "      <td>7.533641</td>\n",
       "    </tr>\n",
       "  </tbody>\n",
       "</table>\n",
       "</div>"
      ],
      "text/plain": [
       "                x          y\n",
       "thank    1.186208  -0.247602\n",
       "keep    -2.639838   1.972862\n",
       "would   -0.492570  13.042006\n",
       "love     3.907838  -3.622074\n",
       "someone -0.429239   7.533641"
      ]
     },
     "execution_count": 42,
     "metadata": {
      "tags": []
     },
     "output_type": "execute_result"
    }
   ],
   "source": [
    "#A10.\n",
    "X = result.values\n",
    "tsne = TSNE(n_components=2)\n",
    "X_tsne = tsne.fit_transform(X)\n",
    "X_tsne_df = pd.DataFrame(X_tsne, index=vocab, columns=['x', 'y'])\n",
    "X_tsne_df.head()"
   ]
  },
  {
   "cell_type": "markdown",
   "metadata": {
    "id": "E9HfozbQ7mZC"
   },
   "source": [
    "##Part III: Visualizing a word2vec model"
   ]
  },
  {
   "cell_type": "markdown",
   "metadata": {
    "id": "eSTLJ6qC7xwg"
   },
   "source": [
    "Q11. Create a new word2vec model just as you did in Q4. In this case though, only include words that appear more than 15 times in our vocabulary. Call this model \"small model\" [5 points]\n"
   ]
  },
  {
   "cell_type": "code",
   "execution_count": 52,
   "metadata": {
    "id": "o2VlRhUT7vya"
   },
   "outputs": [],
   "source": [
    "#A11.\n",
    "small_model = Word2Vec(docs, min_count=15, size=300, workers=6, window=5)"
   ]
  },
  {
   "cell_type": "markdown",
   "metadata": {
    "id": "XEE8kpkd8Sz2"
   },
   "source": [
    "Q12. Using t-SNE, reduce dimensionality to 2 dimensions and visualize them"
   ]
  },
  {
   "cell_type": "code",
   "execution_count": 53,
   "metadata": {
    "colab": {
     "base_uri": "https://localhost:8080/",
     "height": 918
    },
    "id": "Og13hRBG8Rq1",
    "outputId": "402da315-6d17-479c-ee7f-9bbdc3958d81"
   },
   "outputs": [
    {
     "data": {
      "image/png": "[encoded data removed]",
      "text/plain": [
       "<Figure size 1152x1152 with 1 Axes>"
      ]
     },
     "metadata": {
      "tags": []
     },
     "output_type": "display_data"
    }
   ],
   "source": [
    "#A12\n",
    "def tsne_plot(model):\n",
    "  labels = []\n",
    "  tokens = []\n",
    "  for word in model.wv.vocab:\n",
    "    tokens.append(model[word])\n",
    "    labels.append(word)\n",
    "  tsne_model = TSNE(perplexity=40, n_components=2, init='pca', n_iter=2500, random_state=23)\n",
    "  new_values = tsne_model.fit_transform(tokens)\n",
    "  x = []\n",
    "  y = []\n",
    "  for value in new_values:\n",
    "    x.append(value[0])\n",
    "    y.append(value[1])\n",
    "  plt.figure(figsize=(16,16))\n",
    "  for i in range(len(x)):\n",
    "    plt.scatter(x[i], y[i])\n",
    "    plt.annotate(labels[i], xy=(x[i], y[i]), xytext=(5,2), textcoords='offset points', ha='right', va='bottom')\n",
    "\n",
    "tsne_plot(small_model)"
   ]
  }
 ],
 "metadata": {
  "colab": {
   "name": "SCI564_Assignment_5.ipynb",
   "provenance": []
  },
  "kernelspec": {
   "display_name": "Python 3",
   "language": "python",
   "name": "python3"
  },
  "language_info": {
   "codemirror_mode": {
    "name": "ipython",
    "version": 3
   },
   "file_extension": ".py",
   "mimetype": "text/x-python",
   "name": "python",
   "nbconvert_exporter": "python",
   "pygments_lexer": "ipython3",
   "version": "3.8.3"
  }
 },
 "nbformat": 4,
 "nbformat_minor": 1
}
